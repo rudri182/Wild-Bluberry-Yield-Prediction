{
  "nbformat": 4,
  "nbformat_minor": 0,
  "metadata": {
    "colab": {
      "name": "AOBD_WBB_RL.ipynb",
      "provenance": [],
      "collapsed_sections": [],
      "toc_visible": true
    },
    "kernelspec": {
      "name": "python3",
      "display_name": "Python 3"
    },
    "language_info": {
      "name": "python"
    }
  },
  "cells": [
    {
      "cell_type": "markdown",
      "metadata": {
        "id": "FEPpwC5SFOQt"
      },
      "source": [
        "# Mount the Drive"
      ]
    },
    {
      "cell_type": "code",
      "metadata": {
        "id": "cYv9N0VA-f5S",
        "colab": {
          "base_uri": "https://localhost:8080/"
        },
        "outputId": "28683f27-d9fe-441b-d66b-50466f6830e1"
      },
      "source": [
        "from google.colab import drive\n",
        "drive.mount('/content/drive')"
      ],
      "execution_count": null,
      "outputs": [
        {
          "output_type": "stream",
          "text": [
            "Drive already mounted at /content/drive; to attempt to forcibly remount, call drive.mount(\"/content/drive\", force_remount=True).\n"
          ],
          "name": "stdout"
        }
      ]
    },
    {
      "cell_type": "code",
      "metadata": {
        "id": "mcAOVyJH-kyB",
        "colab": {
          "base_uri": "https://localhost:8080/",
          "height": 35
        },
        "outputId": "03c9ccbf-ed89-4c1e-ed4a-aa52b502dfe1"
      },
      "source": [
        "path = \"/content/drive/My Drive/AOBD_Project\"\n",
        "path"
      ],
      "execution_count": null,
      "outputs": [
        {
          "output_type": "execute_result",
          "data": {
            "application/vnd.google.colaboratory.intrinsic+json": {
              "type": "string"
            },
            "text/plain": [
              "'/content/drive/My Drive/AOBD_Project'"
            ]
          },
          "metadata": {
            "tags": []
          },
          "execution_count": 2
        }
      ]
    },
    {
      "cell_type": "markdown",
      "metadata": {
        "id": "TV8-2BDxFUII"
      },
      "source": [
        "# Import libraries"
      ]
    },
    {
      "cell_type": "code",
      "metadata": {
        "id": "l1S7g5iX-1hi"
      },
      "source": [
        "# Import required libraries\n",
        "import pandas as pd\n",
        "import numpy as np \n",
        "import matplotlib.pyplot as plt\n",
        "import sklearn\n",
        "\n",
        "# Import necessary modules\n",
        "from sklearn.model_selection import train_test_split\n",
        "from sklearn.metrics import mean_squared_error\n",
        "from math import sqrt\n",
        "\n",
        "import tensorflow as tf\n",
        "\n",
        "# Keras specific\n",
        "import keras\n",
        "from keras.models import Sequential\n",
        "from keras.layers import Dense\n",
        "from keras.utils import to_categorical "
      ],
      "execution_count": null,
      "outputs": []
    },
    {
      "cell_type": "code",
      "metadata": {
        "id": "3XmHLYWc0eh0",
        "colab": {
          "base_uri": "https://localhost:8080/"
        },
        "outputId": "c5f1eeca-6f0c-4ead-e7b8-fb82410c375a"
      },
      "source": [
        "pip install -U scikit-learn"
      ],
      "execution_count": null,
      "outputs": [
        {
          "output_type": "stream",
          "text": [
            "Requirement already up-to-date: scikit-learn in /usr/local/lib/python3.7/dist-packages (0.24.1)\n",
            "Requirement already satisfied, skipping upgrade: numpy>=1.13.3 in /usr/local/lib/python3.7/dist-packages (from scikit-learn) (1.19.5)\n",
            "Requirement already satisfied, skipping upgrade: joblib>=0.11 in /usr/local/lib/python3.7/dist-packages (from scikit-learn) (1.0.1)\n",
            "Requirement already satisfied, skipping upgrade: scipy>=0.19.1 in /usr/local/lib/python3.7/dist-packages (from scikit-learn) (1.4.1)\n",
            "Requirement already satisfied, skipping upgrade: threadpoolctl>=2.0.0 in /usr/local/lib/python3.7/dist-packages (from scikit-learn) (2.1.0)\n"
          ],
          "name": "stdout"
        }
      ]
    },
    {
      "cell_type": "markdown",
      "metadata": {
        "id": "iK9oQyZXFbbH"
      },
      "source": [
        "# EDA"
      ]
    },
    {
      "cell_type": "code",
      "metadata": {
        "id": "C_TTkeBJ-klm",
        "colab": {
          "base_uri": "https://localhost:8080/",
          "height": 224
        },
        "outputId": "01251714-6bb3-401b-ac59-3012427e08ce"
      },
      "source": [
        "df = pd.read_csv(path +\"/WildBlueberry.csv\")\n",
        "df.head()"
      ],
      "execution_count": null,
      "outputs": [
        {
          "output_type": "execute_result",
          "data": {
            "text/html": [
              "<div>\n",
              "<style scoped>\n",
              "    .dataframe tbody tr th:only-of-type {\n",
              "        vertical-align: middle;\n",
              "    }\n",
              "\n",
              "    .dataframe tbody tr th {\n",
              "        vertical-align: top;\n",
              "    }\n",
              "\n",
              "    .dataframe thead th {\n",
              "        text-align: right;\n",
              "    }\n",
              "</style>\n",
              "<table border=\"1\" class=\"dataframe\">\n",
              "  <thead>\n",
              "    <tr style=\"text-align: right;\">\n",
              "      <th></th>\n",
              "      <th>Row#</th>\n",
              "      <th>clonesize</th>\n",
              "      <th>honeybee</th>\n",
              "      <th>bumbles</th>\n",
              "      <th>andrena</th>\n",
              "      <th>osmia</th>\n",
              "      <th>MaxOfUpperTRange</th>\n",
              "      <th>MinOfUpperTRange</th>\n",
              "      <th>AverageOfUpperTRange</th>\n",
              "      <th>MaxOfLowerTRange</th>\n",
              "      <th>MinOfLowerTRange</th>\n",
              "      <th>AverageOfLowerTRange</th>\n",
              "      <th>RainingDays</th>\n",
              "      <th>AverageRainingDays</th>\n",
              "      <th>fruitset</th>\n",
              "      <th>fruitmass</th>\n",
              "      <th>seeds</th>\n",
              "      <th>yield</th>\n",
              "    </tr>\n",
              "  </thead>\n",
              "  <tbody>\n",
              "    <tr>\n",
              "      <th>0</th>\n",
              "      <td>0</td>\n",
              "      <td>37.5</td>\n",
              "      <td>0.75</td>\n",
              "      <td>0.25</td>\n",
              "      <td>0.25</td>\n",
              "      <td>0.25</td>\n",
              "      <td>86.0</td>\n",
              "      <td>52.0</td>\n",
              "      <td>71.9</td>\n",
              "      <td>62.0</td>\n",
              "      <td>30.0</td>\n",
              "      <td>50.8</td>\n",
              "      <td>16.0</td>\n",
              "      <td>0.26</td>\n",
              "      <td>0.410652</td>\n",
              "      <td>0.408159</td>\n",
              "      <td>31.678898</td>\n",
              "      <td>3813.165795</td>\n",
              "    </tr>\n",
              "    <tr>\n",
              "      <th>1</th>\n",
              "      <td>1</td>\n",
              "      <td>37.5</td>\n",
              "      <td>0.75</td>\n",
              "      <td>0.25</td>\n",
              "      <td>0.25</td>\n",
              "      <td>0.25</td>\n",
              "      <td>86.0</td>\n",
              "      <td>52.0</td>\n",
              "      <td>71.9</td>\n",
              "      <td>62.0</td>\n",
              "      <td>30.0</td>\n",
              "      <td>50.8</td>\n",
              "      <td>1.0</td>\n",
              "      <td>0.10</td>\n",
              "      <td>0.444254</td>\n",
              "      <td>0.425458</td>\n",
              "      <td>33.449385</td>\n",
              "      <td>4947.605663</td>\n",
              "    </tr>\n",
              "    <tr>\n",
              "      <th>2</th>\n",
              "      <td>2</td>\n",
              "      <td>37.5</td>\n",
              "      <td>0.75</td>\n",
              "      <td>0.25</td>\n",
              "      <td>0.25</td>\n",
              "      <td>0.25</td>\n",
              "      <td>94.6</td>\n",
              "      <td>57.2</td>\n",
              "      <td>79.0</td>\n",
              "      <td>68.2</td>\n",
              "      <td>33.0</td>\n",
              "      <td>55.9</td>\n",
              "      <td>16.0</td>\n",
              "      <td>0.26</td>\n",
              "      <td>0.383787</td>\n",
              "      <td>0.399172</td>\n",
              "      <td>30.546306</td>\n",
              "      <td>3866.798965</td>\n",
              "    </tr>\n",
              "    <tr>\n",
              "      <th>3</th>\n",
              "      <td>3</td>\n",
              "      <td>37.5</td>\n",
              "      <td>0.75</td>\n",
              "      <td>0.25</td>\n",
              "      <td>0.25</td>\n",
              "      <td>0.25</td>\n",
              "      <td>94.6</td>\n",
              "      <td>57.2</td>\n",
              "      <td>79.0</td>\n",
              "      <td>68.2</td>\n",
              "      <td>33.0</td>\n",
              "      <td>55.9</td>\n",
              "      <td>1.0</td>\n",
              "      <td>0.10</td>\n",
              "      <td>0.407564</td>\n",
              "      <td>0.408789</td>\n",
              "      <td>31.562586</td>\n",
              "      <td>4303.943030</td>\n",
              "    </tr>\n",
              "    <tr>\n",
              "      <th>4</th>\n",
              "      <td>4</td>\n",
              "      <td>37.5</td>\n",
              "      <td>0.75</td>\n",
              "      <td>0.25</td>\n",
              "      <td>0.25</td>\n",
              "      <td>0.25</td>\n",
              "      <td>86.0</td>\n",
              "      <td>52.0</td>\n",
              "      <td>71.9</td>\n",
              "      <td>62.0</td>\n",
              "      <td>30.0</td>\n",
              "      <td>50.8</td>\n",
              "      <td>24.0</td>\n",
              "      <td>0.39</td>\n",
              "      <td>0.354413</td>\n",
              "      <td>0.382703</td>\n",
              "      <td>28.873714</td>\n",
              "      <td>3436.493543</td>\n",
              "    </tr>\n",
              "  </tbody>\n",
              "</table>\n",
              "</div>"
            ],
            "text/plain": [
              "   Row#  clonesize  honeybee  ...  fruitmass      seeds        yield\n",
              "0     0       37.5      0.75  ...   0.408159  31.678898  3813.165795\n",
              "1     1       37.5      0.75  ...   0.425458  33.449385  4947.605663\n",
              "2     2       37.5      0.75  ...   0.399172  30.546306  3866.798965\n",
              "3     3       37.5      0.75  ...   0.408789  31.562586  4303.943030\n",
              "4     4       37.5      0.75  ...   0.382703  28.873714  3436.493543\n",
              "\n",
              "[5 rows x 18 columns]"
            ]
          },
          "metadata": {
            "tags": []
          },
          "execution_count": 5
        }
      ]
    },
    {
      "cell_type": "code",
      "metadata": {
        "id": "PGggjZtJQIUg",
        "colab": {
          "base_uri": "https://localhost:8080/",
          "height": 317
        },
        "outputId": "72526dfb-cf4b-4b88-d947-ddc02e0094df"
      },
      "source": [
        "df.describe()"
      ],
      "execution_count": null,
      "outputs": [
        {
          "output_type": "execute_result",
          "data": {
            "text/html": [
              "<div>\n",
              "<style scoped>\n",
              "    .dataframe tbody tr th:only-of-type {\n",
              "        vertical-align: middle;\n",
              "    }\n",
              "\n",
              "    .dataframe tbody tr th {\n",
              "        vertical-align: top;\n",
              "    }\n",
              "\n",
              "    .dataframe thead th {\n",
              "        text-align: right;\n",
              "    }\n",
              "</style>\n",
              "<table border=\"1\" class=\"dataframe\">\n",
              "  <thead>\n",
              "    <tr style=\"text-align: right;\">\n",
              "      <th></th>\n",
              "      <th>Row#</th>\n",
              "      <th>clonesize</th>\n",
              "      <th>honeybee</th>\n",
              "      <th>bumbles</th>\n",
              "      <th>andrena</th>\n",
              "      <th>osmia</th>\n",
              "      <th>MaxOfUpperTRange</th>\n",
              "      <th>MinOfUpperTRange</th>\n",
              "      <th>AverageOfUpperTRange</th>\n",
              "      <th>MaxOfLowerTRange</th>\n",
              "      <th>MinOfLowerTRange</th>\n",
              "      <th>AverageOfLowerTRange</th>\n",
              "      <th>RainingDays</th>\n",
              "      <th>AverageRainingDays</th>\n",
              "      <th>fruitset</th>\n",
              "      <th>fruitmass</th>\n",
              "      <th>seeds</th>\n",
              "      <th>yield</th>\n",
              "    </tr>\n",
              "  </thead>\n",
              "  <tbody>\n",
              "    <tr>\n",
              "      <th>count</th>\n",
              "      <td>777.000000</td>\n",
              "      <td>777.000000</td>\n",
              "      <td>777.000000</td>\n",
              "      <td>777.000000</td>\n",
              "      <td>777.000000</td>\n",
              "      <td>777.000000</td>\n",
              "      <td>777.000000</td>\n",
              "      <td>777.000000</td>\n",
              "      <td>777.000000</td>\n",
              "      <td>777.000000</td>\n",
              "      <td>777.000000</td>\n",
              "      <td>777.000000</td>\n",
              "      <td>777.000000</td>\n",
              "      <td>777.000000</td>\n",
              "      <td>777.000000</td>\n",
              "      <td>777.000000</td>\n",
              "      <td>777.000000</td>\n",
              "      <td>777.000000</td>\n",
              "    </tr>\n",
              "    <tr>\n",
              "      <th>mean</th>\n",
              "      <td>388.000000</td>\n",
              "      <td>18.767696</td>\n",
              "      <td>0.417133</td>\n",
              "      <td>0.282389</td>\n",
              "      <td>0.468817</td>\n",
              "      <td>0.562062</td>\n",
              "      <td>82.277091</td>\n",
              "      <td>49.700515</td>\n",
              "      <td>68.723037</td>\n",
              "      <td>59.309395</td>\n",
              "      <td>28.690219</td>\n",
              "      <td>48.613127</td>\n",
              "      <td>18.309292</td>\n",
              "      <td>0.320000</td>\n",
              "      <td>0.502121</td>\n",
              "      <td>0.445983</td>\n",
              "      <td>36.122432</td>\n",
              "      <td>6012.849165</td>\n",
              "    </tr>\n",
              "    <tr>\n",
              "      <th>std</th>\n",
              "      <td>224.444871</td>\n",
              "      <td>6.999063</td>\n",
              "      <td>0.978904</td>\n",
              "      <td>0.066343</td>\n",
              "      <td>0.161052</td>\n",
              "      <td>0.169119</td>\n",
              "      <td>9.193745</td>\n",
              "      <td>5.595769</td>\n",
              "      <td>7.676984</td>\n",
              "      <td>6.647760</td>\n",
              "      <td>3.209547</td>\n",
              "      <td>5.417072</td>\n",
              "      <td>12.124226</td>\n",
              "      <td>0.171279</td>\n",
              "      <td>0.079445</td>\n",
              "      <td>0.040333</td>\n",
              "      <td>4.377889</td>\n",
              "      <td>1356.955318</td>\n",
              "    </tr>\n",
              "    <tr>\n",
              "      <th>min</th>\n",
              "      <td>0.000000</td>\n",
              "      <td>10.000000</td>\n",
              "      <td>0.000000</td>\n",
              "      <td>0.000000</td>\n",
              "      <td>0.000000</td>\n",
              "      <td>0.000000</td>\n",
              "      <td>69.700000</td>\n",
              "      <td>39.000000</td>\n",
              "      <td>58.200000</td>\n",
              "      <td>50.200000</td>\n",
              "      <td>24.300000</td>\n",
              "      <td>41.200000</td>\n",
              "      <td>1.000000</td>\n",
              "      <td>0.060000</td>\n",
              "      <td>0.192732</td>\n",
              "      <td>0.311921</td>\n",
              "      <td>22.079199</td>\n",
              "      <td>1637.704022</td>\n",
              "    </tr>\n",
              "    <tr>\n",
              "      <th>25%</th>\n",
              "      <td>194.000000</td>\n",
              "      <td>12.500000</td>\n",
              "      <td>0.250000</td>\n",
              "      <td>0.250000</td>\n",
              "      <td>0.380000</td>\n",
              "      <td>0.500000</td>\n",
              "      <td>77.400000</td>\n",
              "      <td>46.800000</td>\n",
              "      <td>64.700000</td>\n",
              "      <td>55.800000</td>\n",
              "      <td>27.000000</td>\n",
              "      <td>45.800000</td>\n",
              "      <td>3.770000</td>\n",
              "      <td>0.100000</td>\n",
              "      <td>0.454725</td>\n",
              "      <td>0.416281</td>\n",
              "      <td>33.116091</td>\n",
              "      <td>5124.854901</td>\n",
              "    </tr>\n",
              "    <tr>\n",
              "      <th>50%</th>\n",
              "      <td>388.000000</td>\n",
              "      <td>12.500000</td>\n",
              "      <td>0.250000</td>\n",
              "      <td>0.250000</td>\n",
              "      <td>0.500000</td>\n",
              "      <td>0.630000</td>\n",
              "      <td>86.000000</td>\n",
              "      <td>52.000000</td>\n",
              "      <td>71.900000</td>\n",
              "      <td>62.000000</td>\n",
              "      <td>30.000000</td>\n",
              "      <td>50.800000</td>\n",
              "      <td>16.000000</td>\n",
              "      <td>0.260000</td>\n",
              "      <td>0.508297</td>\n",
              "      <td>0.445587</td>\n",
              "      <td>36.166044</td>\n",
              "      <td>6107.382466</td>\n",
              "    </tr>\n",
              "    <tr>\n",
              "      <th>75%</th>\n",
              "      <td>582.000000</td>\n",
              "      <td>25.000000</td>\n",
              "      <td>0.500000</td>\n",
              "      <td>0.380000</td>\n",
              "      <td>0.630000</td>\n",
              "      <td>0.750000</td>\n",
              "      <td>89.000000</td>\n",
              "      <td>52.000000</td>\n",
              "      <td>71.900000</td>\n",
              "      <td>66.000000</td>\n",
              "      <td>30.000000</td>\n",
              "      <td>50.800000</td>\n",
              "      <td>24.000000</td>\n",
              "      <td>0.390000</td>\n",
              "      <td>0.561297</td>\n",
              "      <td>0.476149</td>\n",
              "      <td>39.239668</td>\n",
              "      <td>7022.189731</td>\n",
              "    </tr>\n",
              "    <tr>\n",
              "      <th>max</th>\n",
              "      <td>776.000000</td>\n",
              "      <td>40.000000</td>\n",
              "      <td>18.430000</td>\n",
              "      <td>0.585000</td>\n",
              "      <td>0.750000</td>\n",
              "      <td>0.750000</td>\n",
              "      <td>94.600000</td>\n",
              "      <td>57.200000</td>\n",
              "      <td>79.000000</td>\n",
              "      <td>68.200000</td>\n",
              "      <td>33.000000</td>\n",
              "      <td>55.900000</td>\n",
              "      <td>34.000000</td>\n",
              "      <td>0.560000</td>\n",
              "      <td>0.652144</td>\n",
              "      <td>0.535660</td>\n",
              "      <td>46.585105</td>\n",
              "      <td>8969.401842</td>\n",
              "    </tr>\n",
              "  </tbody>\n",
              "</table>\n",
              "</div>"
            ],
            "text/plain": [
              "             Row#   clonesize    honeybee  ...   fruitmass       seeds        yield\n",
              "count  777.000000  777.000000  777.000000  ...  777.000000  777.000000   777.000000\n",
              "mean   388.000000   18.767696    0.417133  ...    0.445983   36.122432  6012.849165\n",
              "std    224.444871    6.999063    0.978904  ...    0.040333    4.377889  1356.955318\n",
              "min      0.000000   10.000000    0.000000  ...    0.311921   22.079199  1637.704022\n",
              "25%    194.000000   12.500000    0.250000  ...    0.416281   33.116091  5124.854901\n",
              "50%    388.000000   12.500000    0.250000  ...    0.445587   36.166044  6107.382466\n",
              "75%    582.000000   25.000000    0.500000  ...    0.476149   39.239668  7022.189731\n",
              "max    776.000000   40.000000   18.430000  ...    0.535660   46.585105  8969.401842\n",
              "\n",
              "[8 rows x 18 columns]"
            ]
          },
          "metadata": {
            "tags": []
          },
          "execution_count": 6
        }
      ]
    },
    {
      "cell_type": "code",
      "metadata": {
        "id": "RDhAIDxA-wMn",
        "colab": {
          "base_uri": "https://localhost:8080/"
        },
        "outputId": "047f4017-a314-4e5a-a093-4aff2488227d"
      },
      "source": [
        "print(df.shape)"
      ],
      "execution_count": null,
      "outputs": [
        {
          "output_type": "stream",
          "text": [
            "(777, 18)\n"
          ],
          "name": "stdout"
        }
      ]
    },
    {
      "cell_type": "code",
      "metadata": {
        "id": "eGrXc6fJTq7L",
        "colab": {
          "base_uri": "https://localhost:8080/",
          "height": 634
        },
        "outputId": "a1ecf2b4-71cb-4ab1-cf31-98bc5097d2b5"
      },
      "source": [
        "# correlation matrix\n",
        "\n",
        "import seaborn as sns\n",
        "plt.figure(figsize=(18,10))\n",
        "corr = df.corr()\n",
        "sns.heatmap(corr, annot=True)\n",
        "plt.show()\n",
        "#corr.unstack().sort_values()"
      ],
      "execution_count": null,
      "outputs": [
        {
          "output_type": "display_data",
          "data": {
            "image/png": "[encoded data removed]",
            "text/plain": [
              "<Figure size 1296x720 with 2 Axes>"
            ]
          },
          "metadata": {
            "tags": [],
            "needs_background": "light"
          }
        }
      ]
    },
    {
      "cell_type": "code",
      "metadata": {
        "id": "vgbAFdBp_BBR",
        "colab": {
          "base_uri": "https://localhost:8080/",
          "height": 224
        },
        "outputId": "477f9e52-30af-424f-fc47-f804a8e39277"
      },
      "source": [
        "# round of the state and actions\n",
        "\n",
        "df[\"fruitset_new\"]=df['fruitset'].apply(lambda x: round(x, 1))\n",
        "df.head()\n",
        "df[\"fruitmass_new\"]=df['fruitmass'].apply(lambda x: round(x, 1))\n",
        "df.head()\n",
        "df[\"seeds_new\"]=df['seeds'].apply(lambda x: round(x, 1))\n",
        "df.head()"
      ],
      "execution_count": null,
      "outputs": [
        {
          "output_type": "execute_result",
          "data": {
            "text/html": [
              "<div>\n",
              "<style scoped>\n",
              "    .dataframe tbody tr th:only-of-type {\n",
              "        vertical-align: middle;\n",
              "    }\n",
              "\n",
              "    .dataframe tbody tr th {\n",
              "        vertical-align: top;\n",
              "    }\n",
              "\n",
              "    .dataframe thead th {\n",
              "        text-align: right;\n",
              "    }\n",
              "</style>\n",
              "<table border=\"1\" class=\"dataframe\">\n",
              "  <thead>\n",
              "    <tr style=\"text-align: right;\">\n",
              "      <th></th>\n",
              "      <th>Row#</th>\n",
              "      <th>clonesize</th>\n",
              "      <th>honeybee</th>\n",
              "      <th>bumbles</th>\n",
              "      <th>andrena</th>\n",
              "      <th>osmia</th>\n",
              "      <th>MaxOfUpperTRange</th>\n",
              "      <th>MinOfUpperTRange</th>\n",
              "      <th>AverageOfUpperTRange</th>\n",
              "      <th>MaxOfLowerTRange</th>\n",
              "      <th>MinOfLowerTRange</th>\n",
              "      <th>AverageOfLowerTRange</th>\n",
              "      <th>RainingDays</th>\n",
              "      <th>AverageRainingDays</th>\n",
              "      <th>fruitset</th>\n",
              "      <th>fruitmass</th>\n",
              "      <th>seeds</th>\n",
              "      <th>yield</th>\n",
              "      <th>fruitset_new</th>\n",
              "      <th>fruitmass_new</th>\n",
              "      <th>seeds_new</th>\n",
              "    </tr>\n",
              "  </thead>\n",
              "  <tbody>\n",
              "    <tr>\n",
              "      <th>0</th>\n",
              "      <td>0</td>\n",
              "      <td>37.5</td>\n",
              "      <td>0.75</td>\n",
              "      <td>0.25</td>\n",
              "      <td>0.25</td>\n",
              "      <td>0.25</td>\n",
              "      <td>86.0</td>\n",
              "      <td>52.0</td>\n",
              "      <td>71.9</td>\n",
              "      <td>62.0</td>\n",
              "      <td>30.0</td>\n",
              "      <td>50.8</td>\n",
              "      <td>16.0</td>\n",
              "      <td>0.26</td>\n",
              "      <td>0.410652</td>\n",
              "      <td>0.408159</td>\n",
              "      <td>31.678898</td>\n",
              "      <td>3813.165795</td>\n",
              "      <td>0.4</td>\n",
              "      <td>0.4</td>\n",
              "      <td>31.7</td>\n",
              "    </tr>\n",
              "    <tr>\n",
              "      <th>1</th>\n",
              "      <td>1</td>\n",
              "      <td>37.5</td>\n",
              "      <td>0.75</td>\n",
              "      <td>0.25</td>\n",
              "      <td>0.25</td>\n",
              "      <td>0.25</td>\n",
              "      <td>86.0</td>\n",
              "      <td>52.0</td>\n",
              "      <td>71.9</td>\n",
              "      <td>62.0</td>\n",
              "      <td>30.0</td>\n",
              "      <td>50.8</td>\n",
              "      <td>1.0</td>\n",
              "      <td>0.10</td>\n",
              "      <td>0.444254</td>\n",
              "      <td>0.425458</td>\n",
              "      <td>33.449385</td>\n",
              "      <td>4947.605663</td>\n",
              "      <td>0.4</td>\n",
              "      <td>0.4</td>\n",
              "      <td>33.4</td>\n",
              "    </tr>\n",
              "    <tr>\n",
              "      <th>2</th>\n",
              "      <td>2</td>\n",
              "      <td>37.5</td>\n",
              "      <td>0.75</td>\n",
              "      <td>0.25</td>\n",
              "      <td>0.25</td>\n",
              "      <td>0.25</td>\n",
              "      <td>94.6</td>\n",
              "      <td>57.2</td>\n",
              "      <td>79.0</td>\n",
              "      <td>68.2</td>\n",
              "      <td>33.0</td>\n",
              "      <td>55.9</td>\n",
              "      <td>16.0</td>\n",
              "      <td>0.26</td>\n",
              "      <td>0.383787</td>\n",
              "      <td>0.399172</td>\n",
              "      <td>30.546306</td>\n",
              "      <td>3866.798965</td>\n",
              "      <td>0.4</td>\n",
              "      <td>0.4</td>\n",
              "      <td>30.5</td>\n",
              "    </tr>\n",
              "    <tr>\n",
              "      <th>3</th>\n",
              "      <td>3</td>\n",
              "      <td>37.5</td>\n",
              "      <td>0.75</td>\n",
              "      <td>0.25</td>\n",
              "      <td>0.25</td>\n",
              "      <td>0.25</td>\n",
              "      <td>94.6</td>\n",
              "      <td>57.2</td>\n",
              "      <td>79.0</td>\n",
              "      <td>68.2</td>\n",
              "      <td>33.0</td>\n",
              "      <td>55.9</td>\n",
              "      <td>1.0</td>\n",
              "      <td>0.10</td>\n",
              "      <td>0.407564</td>\n",
              "      <td>0.408789</td>\n",
              "      <td>31.562586</td>\n",
              "      <td>4303.943030</td>\n",
              "      <td>0.4</td>\n",
              "      <td>0.4</td>\n",
              "      <td>31.6</td>\n",
              "    </tr>\n",
              "    <tr>\n",
              "      <th>4</th>\n",
              "      <td>4</td>\n",
              "      <td>37.5</td>\n",
              "      <td>0.75</td>\n",
              "      <td>0.25</td>\n",
              "      <td>0.25</td>\n",
              "      <td>0.25</td>\n",
              "      <td>86.0</td>\n",
              "      <td>52.0</td>\n",
              "      <td>71.9</td>\n",
              "      <td>62.0</td>\n",
              "      <td>30.0</td>\n",
              "      <td>50.8</td>\n",
              "      <td>24.0</td>\n",
              "      <td>0.39</td>\n",
              "      <td>0.354413</td>\n",
              "      <td>0.382703</td>\n",
              "      <td>28.873714</td>\n",
              "      <td>3436.493543</td>\n",
              "      <td>0.4</td>\n",
              "      <td>0.4</td>\n",
              "      <td>28.9</td>\n",
              "    </tr>\n",
              "  </tbody>\n",
              "</table>\n",
              "</div>"
            ],
            "text/plain": [
              "   Row#  clonesize  honeybee  ...  fruitset_new  fruitmass_new  seeds_new\n",
              "0     0       37.5      0.75  ...           0.4            0.4       31.7\n",
              "1     1       37.5      0.75  ...           0.4            0.4       33.4\n",
              "2     2       37.5      0.75  ...           0.4            0.4       30.5\n",
              "3     3       37.5      0.75  ...           0.4            0.4       31.6\n",
              "4     4       37.5      0.75  ...           0.4            0.4       28.9\n",
              "\n",
              "[5 rows x 21 columns]"
            ]
          },
          "metadata": {
            "tags": []
          },
          "execution_count": 9
        }
      ]
    },
    {
      "cell_type": "code",
      "metadata": {
        "id": "3JeJ_n6BL62b",
        "colab": {
          "base_uri": "https://localhost:8080/"
        },
        "outputId": "043bce28-d031-4e88-c91c-8ad344c1ef94"
      },
      "source": [
        "# total how many different actions are there\n",
        "print(\"Actions: \", df['fruitset_new'].unique())\n",
        "\n",
        "# total how many different state are there\n",
        "print(\"States: \", df['fruitmass_new'].unique())"
      ],
      "execution_count": null,
      "outputs": [
        {
          "output_type": "stream",
          "text": [
            "Actions:  [0.4 0.3 0.2 0.5 0.6 0.7]\n",
            "States:  [0.4 0.3 0.5]\n"
          ],
          "name": "stdout"
        }
      ]
    },
    {
      "cell_type": "markdown",
      "metadata": {
        "id": "nnZ9ErwbmKar"
      },
      "source": [
        "\n",
        "\n",
        "```\n",
        "# This is formatted as code\n",
        "```\n",
        "\n",
        "# DNN to classify actions"
      ]
    },
    {
      "cell_type": "code",
      "metadata": {
        "id": "vtVCwTAtC8fx",
        "colab": {
          "base_uri": "https://localhost:8080/",
          "height": 204
        },
        "outputId": "8637b246-6d81-4f1e-b85d-855a00f90ddd"
      },
      "source": [
        "selected_columns = df[[\"fruitmass_new\",\"fruitset_new\",\"yield\",\"seeds_new\"]]\n",
        "#Index into desired columns to copy\n",
        "\n",
        "data = selected_columns.copy()\n",
        "data.head()"
      ],
      "execution_count": null,
      "outputs": [
        {
          "output_type": "execute_result",
          "data": {
            "text/html": [
              "<div>\n",
              "<style scoped>\n",
              "    .dataframe tbody tr th:only-of-type {\n",
              "        vertical-align: middle;\n",
              "    }\n",
              "\n",
              "    .dataframe tbody tr th {\n",
              "        vertical-align: top;\n",
              "    }\n",
              "\n",
              "    .dataframe thead th {\n",
              "        text-align: right;\n",
              "    }\n",
              "</style>\n",
              "<table border=\"1\" class=\"dataframe\">\n",
              "  <thead>\n",
              "    <tr style=\"text-align: right;\">\n",
              "      <th></th>\n",
              "      <th>fruitmass_new</th>\n",
              "      <th>fruitset_new</th>\n",
              "      <th>yield</th>\n",
              "      <th>seeds_new</th>\n",
              "    </tr>\n",
              "  </thead>\n",
              "  <tbody>\n",
              "    <tr>\n",
              "      <th>0</th>\n",
              "      <td>0.4</td>\n",
              "      <td>0.4</td>\n",
              "      <td>3813.165795</td>\n",
              "      <td>31.7</td>\n",
              "    </tr>\n",
              "    <tr>\n",
              "      <th>1</th>\n",
              "      <td>0.4</td>\n",
              "      <td>0.4</td>\n",
              "      <td>4947.605663</td>\n",
              "      <td>33.4</td>\n",
              "    </tr>\n",
              "    <tr>\n",
              "      <th>2</th>\n",
              "      <td>0.4</td>\n",
              "      <td>0.4</td>\n",
              "      <td>3866.798965</td>\n",
              "      <td>30.5</td>\n",
              "    </tr>\n",
              "    <tr>\n",
              "      <th>3</th>\n",
              "      <td>0.4</td>\n",
              "      <td>0.4</td>\n",
              "      <td>4303.943030</td>\n",
              "      <td>31.6</td>\n",
              "    </tr>\n",
              "    <tr>\n",
              "      <th>4</th>\n",
              "      <td>0.4</td>\n",
              "      <td>0.4</td>\n",
              "      <td>3436.493543</td>\n",
              "      <td>28.9</td>\n",
              "    </tr>\n",
              "  </tbody>\n",
              "</table>\n",
              "</div>"
            ],
            "text/plain": [
              "   fruitmass_new  fruitset_new        yield  seeds_new\n",
              "0            0.4           0.4  3813.165795       31.7\n",
              "1            0.4           0.4  4947.605663       33.4\n",
              "2            0.4           0.4  3866.798965       30.5\n",
              "3            0.4           0.4  4303.943030       31.6\n",
              "4            0.4           0.4  3436.493543       28.9"
            ]
          },
          "metadata": {
            "tags": []
          },
          "execution_count": 11
        }
      ]
    },
    {
      "cell_type": "code",
      "metadata": {
        "id": "VTqVP1fN1k8G"
      },
      "source": [
        "# encoding the categorical values\n",
        "\n",
        "one_hot_encoded = pd.get_dummies(data[\"fruitset_new\"])\n",
        "data = data.drop(\"fruitset_new\",axis=1)\n",
        "data = data.join(one_hot_encoded)\n",
        "data.rename(columns={0.3:'action_0.3', 0.4:'action_0.4', 0.5:'action_0.5', 0.2:'action_0.2', 0.6:'action_0.6', 0.7:'action_0.7'}, inplace=True)\n",
        "\n",
        "one_hot_encoded_1 = pd.get_dummies(data[\"fruitmass_new\"])\n",
        "data = data.drop(\"fruitmass_new\",axis=1)\n",
        "data = data.join(one_hot_encoded_1)\n",
        "data.head()\n",
        "data.rename(columns={0.3:'state_0.3', 0.4:'state_0.4', 0.5:'state_0.5'}, inplace=True)"
      ],
      "execution_count": null,
      "outputs": []
    },
    {
      "cell_type": "code",
      "metadata": {
        "id": "sgAsiQjd3i86",
        "colab": {
          "base_uri": "https://localhost:8080/",
          "height": 224
        },
        "outputId": "de43a1bb-9198-445d-d186-6821f256e964"
      },
      "source": [
        "data.head()"
      ],
      "execution_count": null,
      "outputs": [
        {
          "output_type": "execute_result",
          "data": {
            "text/html": [
              "<div>\n",
              "<style scoped>\n",
              "    .dataframe tbody tr th:only-of-type {\n",
              "        vertical-align: middle;\n",
              "    }\n",
              "\n",
              "    .dataframe tbody tr th {\n",
              "        vertical-align: top;\n",
              "    }\n",
              "\n",
              "    .dataframe thead th {\n",
              "        text-align: right;\n",
              "    }\n",
              "</style>\n",
              "<table border=\"1\" class=\"dataframe\">\n",
              "  <thead>\n",
              "    <tr style=\"text-align: right;\">\n",
              "      <th></th>\n",
              "      <th>yield</th>\n",
              "      <th>seeds_new</th>\n",
              "      <th>action_0.2</th>\n",
              "      <th>action_0.3</th>\n",
              "      <th>action_0.4</th>\n",
              "      <th>action_0.5</th>\n",
              "      <th>action_0.6</th>\n",
              "      <th>action_0.7</th>\n",
              "      <th>state_0.3</th>\n",
              "      <th>state_0.4</th>\n",
              "      <th>state_0.5</th>\n",
              "    </tr>\n",
              "  </thead>\n",
              "  <tbody>\n",
              "    <tr>\n",
              "      <th>0</th>\n",
              "      <td>3813.165795</td>\n",
              "      <td>31.7</td>\n",
              "      <td>0</td>\n",
              "      <td>0</td>\n",
              "      <td>1</td>\n",
              "      <td>0</td>\n",
              "      <td>0</td>\n",
              "      <td>0</td>\n",
              "      <td>0</td>\n",
              "      <td>1</td>\n",
              "      <td>0</td>\n",
              "    </tr>\n",
              "    <tr>\n",
              "      <th>1</th>\n",
              "      <td>4947.605663</td>\n",
              "      <td>33.4</td>\n",
              "      <td>0</td>\n",
              "      <td>0</td>\n",
              "      <td>1</td>\n",
              "      <td>0</td>\n",
              "      <td>0</td>\n",
              "      <td>0</td>\n",
              "      <td>0</td>\n",
              "      <td>1</td>\n",
              "      <td>0</td>\n",
              "    </tr>\n",
              "    <tr>\n",
              "      <th>2</th>\n",
              "      <td>3866.798965</td>\n",
              "      <td>30.5</td>\n",
              "      <td>0</td>\n",
              "      <td>0</td>\n",
              "      <td>1</td>\n",
              "      <td>0</td>\n",
              "      <td>0</td>\n",
              "      <td>0</td>\n",
              "      <td>0</td>\n",
              "      <td>1</td>\n",
              "      <td>0</td>\n",
              "    </tr>\n",
              "    <tr>\n",
              "      <th>3</th>\n",
              "      <td>4303.943030</td>\n",
              "      <td>31.6</td>\n",
              "      <td>0</td>\n",
              "      <td>0</td>\n",
              "      <td>1</td>\n",
              "      <td>0</td>\n",
              "      <td>0</td>\n",
              "      <td>0</td>\n",
              "      <td>0</td>\n",
              "      <td>1</td>\n",
              "      <td>0</td>\n",
              "    </tr>\n",
              "    <tr>\n",
              "      <th>4</th>\n",
              "      <td>3436.493543</td>\n",
              "      <td>28.9</td>\n",
              "      <td>0</td>\n",
              "      <td>0</td>\n",
              "      <td>1</td>\n",
              "      <td>0</td>\n",
              "      <td>0</td>\n",
              "      <td>0</td>\n",
              "      <td>0</td>\n",
              "      <td>1</td>\n",
              "      <td>0</td>\n",
              "    </tr>\n",
              "  </tbody>\n",
              "</table>\n",
              "</div>"
            ],
            "text/plain": [
              "         yield  seeds_new  action_0.2  ...  state_0.3  state_0.4  state_0.5\n",
              "0  3813.165795       31.7           0  ...          0          1          0\n",
              "1  4947.605663       33.4           0  ...          0          1          0\n",
              "2  3866.798965       30.5           0  ...          0          1          0\n",
              "3  4303.943030       31.6           0  ...          0          1          0\n",
              "4  3436.493543       28.9           0  ...          0          1          0\n",
              "\n",
              "[5 rows x 11 columns]"
            ]
          },
          "metadata": {
            "tags": []
          },
          "execution_count": 13
        }
      ]
    },
    {
      "cell_type": "code",
      "metadata": {
        "id": "PRa9fPd_VMP5",
        "colab": {
          "base_uri": "https://localhost:8080/"
        },
        "outputId": "5b713709-eb3c-4cdb-e318-760f484361ed"
      },
      "source": [
        "# splitting data to train and test\n",
        "\n",
        "X = data[['seeds_new', 'state_0.3',\t'state_0.4',\t'state_0.5']]\n",
        "y = data[['action_0.2',\t'action_0.3',\t'action_0.4',\t'action_0.5',\t'action_0.6',\t'action_0.7']]\n",
        "\n",
        "X_train, X_test, y_train, y_test = train_test_split(X, y, test_size=0.30, random_state=40)\n",
        "print(X_train.shape)\n",
        "print(X_test.shape)"
      ],
      "execution_count": null,
      "outputs": [
        {
          "output_type": "stream",
          "text": [
            "(543, 4)\n",
            "(234, 4)\n"
          ],
          "name": "stdout"
        }
      ]
    },
    {
      "cell_type": "code",
      "metadata": {
        "id": "iVl5lOVgGat6",
        "colab": {
          "base_uri": "https://localhost:8080/"
        },
        "outputId": "b2432863-4f65-431d-95a8-87093d9fdc60"
      },
      "source": [
        "print(y_train.shape)\n",
        "print(y_test.shape)"
      ],
      "execution_count": null,
      "outputs": [
        {
          "output_type": "stream",
          "text": [
            "(543, 6)\n",
            "(234, 6)\n"
          ],
          "name": "stdout"
        }
      ]
    },
    {
      "cell_type": "code",
      "metadata": {
        "id": "32TIRWSiD_NV"
      },
      "source": [
        "# making the sequential model\n",
        "\n",
        "model = Sequential()\n",
        "model.add(Dense(8, activation='relu', input_dim=4))\n",
        "model.add(Dense(6, activation='softmax'))\n",
        "\n",
        "model.compile(loss=tf.keras.losses.MeanSquaredError(), optimizer='adam', metrics=['accuracy'])"
      ],
      "execution_count": null,
      "outputs": []
    },
    {
      "cell_type": "code",
      "metadata": {
        "id": "-UlIFlIwK1l3",
        "colab": {
          "base_uri": "https://localhost:8080/",
          "height": 312
        },
        "outputId": "d11576bd-196c-4e3f-80f3-958f1a260374"
      },
      "source": [
        "# visualizing the layers\n",
        "\n",
        "from keras.utils import plot_model\n",
        "plot_model(model, to_file='/tmp/model.png', show_shapes=True,)"
      ],
      "execution_count": null,
      "outputs": [
        {
          "output_type": "execute_result",
          "data": {
            "image/png": "[encoded data removed]",
            "text/plain": [
              "<IPython.core.display.Image object>"
            ]
          },
          "metadata": {
            "tags": []
          },
          "execution_count": 17
        }
      ]
    },
    {
      "cell_type": "code",
      "metadata": {
        "id": "YRh3MNw5_rs4"
      },
      "source": [
        "# build the model\n",
        "\n",
        "model.fit(X_train, y_train, epochs=1000, batch_size=128)"
      ],
      "execution_count": null,
      "outputs": []
    },
    {
      "cell_type": "code",
      "metadata": {
        "id": "ftbOQO5Y_5tt",
        "colab": {
          "base_uri": "https://localhost:8080/"
        },
        "outputId": "05e51e51-80ce-46ad-f4be-cff9bffc9e8e"
      },
      "source": [
        "# predictions on the trained model\n",
        "\n",
        "pred_train= model.predict(X_train)\n",
        "scores = model.evaluate(X_train, y_train, verbose=0)\n",
        "print('Accuracy on training data: {} \\n Error on training data: {}'.format(scores[1], 1 - scores[1]))   \n",
        " \n",
        "pred_test= model.predict(X_test)\n",
        "scores2 = model.evaluate(X_test, y_test, verbose=0)\n",
        "print('Accuracy on test data: {} \\n Error on test data: {}'.format(scores2[1], 1 - scores2[1]))    "
      ],
      "execution_count": null,
      "outputs": [
        {
          "output_type": "stream",
          "text": [
            "Accuracy on training data: 0.7255985140800476 \n",
            " Error on training data: 0.2744014859199524\n",
            "Accuracy on test data: 0.7307692170143127 \n",
            " Error on test data: 0.26923078298568726\n"
          ],
          "name": "stdout"
        }
      ]
    },
    {
      "cell_type": "markdown",
      "metadata": {
        "id": "gphrO8kdQJXO"
      },
      "source": [
        "## Save the model"
      ]
    },
    {
      "cell_type": "code",
      "metadata": {
        "id": "C9GXPF-1HE2m",
        "colab": {
          "base_uri": "https://localhost:8080/"
        },
        "outputId": "c66b77ea-1516-4f73-84d8-b783eb6d27c9"
      },
      "source": [
        "# pickle the classification file\n",
        "\n",
        "from keras.models import load_model\n",
        "model.save('/content/drive/My Drive/clf_model.h5')\n",
        "\n",
        "loaded_model = load_model('/content/drive/My Drive/clf_model.h5')\n",
        "loaded_model"
      ],
      "execution_count": null,
      "outputs": [
        {
          "output_type": "execute_result",
          "data": {
            "text/plain": [
              "<tensorflow.python.keras.engine.sequential.Sequential at 0x7f431db6d690>"
            ]
          },
          "metadata": {
            "tags": []
          },
          "execution_count": 20
        }
      ]
    },
    {
      "cell_type": "code",
      "metadata": {
        "id": "bVZ9fwYSDXqH",
        "colab": {
          "base_uri": "https://localhost:8080/"
        },
        "outputId": "18c2755f-cc56-4b03-8c3a-93e495e54283"
      },
      "source": [
        "y_test = pd.DataFrame(y_test)\n",
        "pred_test = pd.DataFrame(pred_test)\n",
        "for i in range(5):\n",
        "  print(\"Actual: \\n{}  =>\\n\\n predicted: \\n{}\".format(y_test.iloc[i], pred_test.iloc[i]))"
      ],
      "execution_count": null,
      "outputs": [
        {
          "output_type": "stream",
          "text": [
            "Actual: \n",
            "action_0.2    0\n",
            "action_0.3    0\n",
            "action_0.4    0\n",
            "action_0.5    0\n",
            "action_0.6    1\n",
            "action_0.7    0\n",
            "Name: 319, dtype: uint8  =>\n",
            "\n",
            " predicted: \n",
            "0    0.000573\n",
            "1    0.001929\n",
            "2    0.000535\n",
            "3    0.404658\n",
            "4    0.589985\n",
            "5    0.002320\n",
            "Name: 0, dtype: float32\n",
            "Actual: \n",
            "action_0.2    0\n",
            "action_0.3    0\n",
            "action_0.4    0\n",
            "action_0.5    1\n",
            "action_0.6    0\n",
            "action_0.7    0\n",
            "Name: 685, dtype: uint8  =>\n",
            "\n",
            " predicted: \n",
            "0    0.000764\n",
            "1    0.002473\n",
            "2    0.000791\n",
            "3    0.433862\n",
            "4    0.559340\n",
            "5    0.002770\n",
            "Name: 1, dtype: float32\n",
            "Actual: \n",
            "action_0.2    0\n",
            "action_0.3    0\n",
            "action_0.4    0\n",
            "action_0.5    0\n",
            "action_0.6    1\n",
            "action_0.7    0\n",
            "Name: 284, dtype: uint8  =>\n",
            "\n",
            " predicted: \n",
            "0    0.000311\n",
            "1    0.001133\n",
            "2    0.000234\n",
            "3    0.345410\n",
            "4    0.651332\n",
            "5    0.001580\n",
            "Name: 2, dtype: float32\n",
            "Actual: \n",
            "action_0.2    0\n",
            "action_0.3    0\n",
            "action_0.4    0\n",
            "action_0.5    1\n",
            "action_0.6    0\n",
            "action_0.7    0\n",
            "Name: 144, dtype: uint8  =>\n",
            "\n",
            " predicted: \n",
            "0    0.005394\n",
            "1    0.009616\n",
            "2    0.263312\n",
            "3    0.706854\n",
            "4    0.011677\n",
            "5    0.003147\n",
            "Name: 3, dtype: float32\n",
            "Actual: \n",
            "action_0.2    0\n",
            "action_0.3    0\n",
            "action_0.4    1\n",
            "action_0.5    0\n",
            "action_0.6    0\n",
            "action_0.7    0\n",
            "Name: 136, dtype: uint8  =>\n",
            "\n",
            " predicted: \n",
            "0    0.007543\n",
            "1    0.011555\n",
            "2    0.551415\n",
            "3    0.422309\n",
            "4    0.004313\n",
            "5    0.002865\n",
            "Name: 4, dtype: float32\n"
          ],
          "name": "stdout"
        }
      ]
    },
    {
      "cell_type": "code",
      "metadata": {
        "id": "SNOqfhEzMUd0"
      },
      "source": [
        "# concatenate actions with X\n",
        "\n",
        "actions = np.concatenate((pred_train, pred_test))\n",
        "actions = pd.DataFrame(actions)"
      ],
      "execution_count": null,
      "outputs": []
    },
    {
      "cell_type": "code",
      "metadata": {
        "id": "a-SSv_jhMUap"
      },
      "source": [
        "state_action = pd.concat([data,actions],axis=1,ignore_index=2)"
      ],
      "execution_count": null,
      "outputs": []
    },
    {
      "cell_type": "code",
      "metadata": {
        "id": "XSe9MzHpMUVH",
        "colab": {
          "base_uri": "https://localhost:8080/",
          "height": 328
        },
        "outputId": "a3a723d0-c2dd-4ee2-8057-fa2822d8ec0b"
      },
      "source": [
        "state_action.head(9)"
      ],
      "execution_count": null,
      "outputs": [
        {
          "output_type": "execute_result",
          "data": {
            "text/html": [
              "<div>\n",
              "<style scoped>\n",
              "    .dataframe tbody tr th:only-of-type {\n",
              "        vertical-align: middle;\n",
              "    }\n",
              "\n",
              "    .dataframe tbody tr th {\n",
              "        vertical-align: top;\n",
              "    }\n",
              "\n",
              "    .dataframe thead th {\n",
              "        text-align: right;\n",
              "    }\n",
              "</style>\n",
              "<table border=\"1\" class=\"dataframe\">\n",
              "  <thead>\n",
              "    <tr style=\"text-align: right;\">\n",
              "      <th></th>\n",
              "      <th>0</th>\n",
              "      <th>1</th>\n",
              "      <th>2</th>\n",
              "      <th>3</th>\n",
              "      <th>4</th>\n",
              "      <th>5</th>\n",
              "      <th>6</th>\n",
              "      <th>7</th>\n",
              "      <th>8</th>\n",
              "      <th>9</th>\n",
              "      <th>10</th>\n",
              "      <th>11</th>\n",
              "      <th>12</th>\n",
              "      <th>13</th>\n",
              "      <th>14</th>\n",
              "      <th>15</th>\n",
              "      <th>16</th>\n",
              "    </tr>\n",
              "  </thead>\n",
              "  <tbody>\n",
              "    <tr>\n",
              "      <th>0</th>\n",
              "      <td>3813.165795</td>\n",
              "      <td>31.7</td>\n",
              "      <td>0</td>\n",
              "      <td>0</td>\n",
              "      <td>1</td>\n",
              "      <td>0</td>\n",
              "      <td>0</td>\n",
              "      <td>0</td>\n",
              "      <td>0</td>\n",
              "      <td>1</td>\n",
              "      <td>0</td>\n",
              "      <td>0.000212</td>\n",
              "      <td>0.000813</td>\n",
              "      <td>0.000140</td>\n",
              "      <td>0.311233</td>\n",
              "      <td>0.686361</td>\n",
              "      <td>0.001241</td>\n",
              "    </tr>\n",
              "    <tr>\n",
              "      <th>1</th>\n",
              "      <td>4947.605663</td>\n",
              "      <td>33.4</td>\n",
              "      <td>0</td>\n",
              "      <td>0</td>\n",
              "      <td>1</td>\n",
              "      <td>0</td>\n",
              "      <td>0</td>\n",
              "      <td>0</td>\n",
              "      <td>0</td>\n",
              "      <td>1</td>\n",
              "      <td>0</td>\n",
              "      <td>0.005006</td>\n",
              "      <td>0.009116</td>\n",
              "      <td>0.231003</td>\n",
              "      <td>0.738723</td>\n",
              "      <td>0.013051</td>\n",
              "      <td>0.003101</td>\n",
              "    </tr>\n",
              "    <tr>\n",
              "      <th>2</th>\n",
              "      <td>3866.798965</td>\n",
              "      <td>30.5</td>\n",
              "      <td>0</td>\n",
              "      <td>0</td>\n",
              "      <td>1</td>\n",
              "      <td>0</td>\n",
              "      <td>0</td>\n",
              "      <td>0</td>\n",
              "      <td>0</td>\n",
              "      <td>1</td>\n",
              "      <td>0</td>\n",
              "      <td>0.006437</td>\n",
              "      <td>0.010808</td>\n",
              "      <td>0.368639</td>\n",
              "      <td>0.602713</td>\n",
              "      <td>0.008233</td>\n",
              "      <td>0.003170</td>\n",
              "    </tr>\n",
              "    <tr>\n",
              "      <th>3</th>\n",
              "      <td>4303.943030</td>\n",
              "      <td>31.6</td>\n",
              "      <td>0</td>\n",
              "      <td>0</td>\n",
              "      <td>1</td>\n",
              "      <td>0</td>\n",
              "      <td>0</td>\n",
              "      <td>0</td>\n",
              "      <td>0</td>\n",
              "      <td>1</td>\n",
              "      <td>0</td>\n",
              "      <td>0.007329</td>\n",
              "      <td>0.011508</td>\n",
              "      <td>0.501701</td>\n",
              "      <td>0.471271</td>\n",
              "      <td>0.005205</td>\n",
              "      <td>0.002986</td>\n",
              "    </tr>\n",
              "    <tr>\n",
              "      <th>4</th>\n",
              "      <td>3436.493543</td>\n",
              "      <td>28.9</td>\n",
              "      <td>0</td>\n",
              "      <td>0</td>\n",
              "      <td>1</td>\n",
              "      <td>0</td>\n",
              "      <td>0</td>\n",
              "      <td>0</td>\n",
              "      <td>0</td>\n",
              "      <td>1</td>\n",
              "      <td>0</td>\n",
              "      <td>0.000136</td>\n",
              "      <td>0.000553</td>\n",
              "      <td>0.000077</td>\n",
              "      <td>0.274451</td>\n",
              "      <td>0.723847</td>\n",
              "      <td>0.000936</td>\n",
              "    </tr>\n",
              "    <tr>\n",
              "      <th>5</th>\n",
              "      <td>2825.003738</td>\n",
              "      <td>27.3</td>\n",
              "      <td>0</td>\n",
              "      <td>1</td>\n",
              "      <td>0</td>\n",
              "      <td>0</td>\n",
              "      <td>0</td>\n",
              "      <td>0</td>\n",
              "      <td>0</td>\n",
              "      <td>1</td>\n",
              "      <td>0</td>\n",
              "      <td>0.000707</td>\n",
              "      <td>0.002311</td>\n",
              "      <td>0.000711</td>\n",
              "      <td>0.425865</td>\n",
              "      <td>0.567765</td>\n",
              "      <td>0.002640</td>\n",
              "    </tr>\n",
              "    <tr>\n",
              "      <th>6</th>\n",
              "      <td>2625.269164</td>\n",
              "      <td>26.1</td>\n",
              "      <td>0</td>\n",
              "      <td>1</td>\n",
              "      <td>0</td>\n",
              "      <td>0</td>\n",
              "      <td>0</td>\n",
              "      <td>0</td>\n",
              "      <td>0</td>\n",
              "      <td>1</td>\n",
              "      <td>0</td>\n",
              "      <td>0.000109</td>\n",
              "      <td>0.000455</td>\n",
              "      <td>0.000057</td>\n",
              "      <td>0.257079</td>\n",
              "      <td>0.741490</td>\n",
              "      <td>0.000810</td>\n",
              "    </tr>\n",
              "    <tr>\n",
              "      <th>7</th>\n",
              "      <td>2379.905214</td>\n",
              "      <td>25.0</td>\n",
              "      <td>1</td>\n",
              "      <td>0</td>\n",
              "      <td>0</td>\n",
              "      <td>0</td>\n",
              "      <td>0</td>\n",
              "      <td>0</td>\n",
              "      <td>1</td>\n",
              "      <td>0</td>\n",
              "      <td>0</td>\n",
              "      <td>0.000264</td>\n",
              "      <td>0.000983</td>\n",
              "      <td>0.000188</td>\n",
              "      <td>0.330555</td>\n",
              "      <td>0.666584</td>\n",
              "      <td>0.001426</td>\n",
              "    </tr>\n",
              "    <tr>\n",
              "      <th>8</th>\n",
              "      <td>4234.868585</td>\n",
              "      <td>32.3</td>\n",
              "      <td>0</td>\n",
              "      <td>0</td>\n",
              "      <td>1</td>\n",
              "      <td>0</td>\n",
              "      <td>0</td>\n",
              "      <td>0</td>\n",
              "      <td>0</td>\n",
              "      <td>1</td>\n",
              "      <td>0</td>\n",
              "      <td>0.005071</td>\n",
              "      <td>0.009202</td>\n",
              "      <td>0.236193</td>\n",
              "      <td>0.733608</td>\n",
              "      <td>0.012816</td>\n",
              "      <td>0.003110</td>\n",
              "    </tr>\n",
              "  </tbody>\n",
              "</table>\n",
              "</div>"
            ],
            "text/plain": [
              "            0     1   2   3   ...        13        14        15        16\n",
              "0  3813.165795  31.7   0   0  ...  0.000140  0.311233  0.686361  0.001241\n",
              "1  4947.605663  33.4   0   0  ...  0.231003  0.738723  0.013051  0.003101\n",
              "2  3866.798965  30.5   0   0  ...  0.368639  0.602713  0.008233  0.003170\n",
              "3  4303.943030  31.6   0   0  ...  0.501701  0.471271  0.005205  0.002986\n",
              "4  3436.493543  28.9   0   0  ...  0.000077  0.274451  0.723847  0.000936\n",
              "5  2825.003738  27.3   0   1  ...  0.000711  0.425865  0.567765  0.002640\n",
              "6  2625.269164  26.1   0   1  ...  0.000057  0.257079  0.741490  0.000810\n",
              "7  2379.905214  25.0   1   0  ...  0.000188  0.330555  0.666584  0.001426\n",
              "8  4234.868585  32.3   0   0  ...  0.236193  0.733608  0.012816  0.003110\n",
              "\n",
              "[9 rows x 17 columns]"
            ]
          },
          "metadata": {
            "tags": []
          },
          "execution_count": 24
        }
      ]
    },
    {
      "cell_type": "code",
      "metadata": {
        "id": "u7UVFnVZMUG0",
        "colab": {
          "base_uri": "https://localhost:8080/"
        },
        "outputId": "93bd6a85-ebaa-42e2-dca5-905473849c82"
      },
      "source": [
        "state_action.shape"
      ],
      "execution_count": null,
      "outputs": [
        {
          "output_type": "execute_result",
          "data": {
            "text/plain": [
              "(777, 17)"
            ]
          },
          "metadata": {
            "tags": []
          },
          "execution_count": 25
        }
      ]
    },
    {
      "cell_type": "markdown",
      "metadata": {
        "id": "1GxumAyGguBi"
      },
      "source": [
        "# Yield Prediction "
      ]
    },
    {
      "cell_type": "code",
      "metadata": {
        "id": "PsIZae1zq77f",
        "colab": {
          "base_uri": "https://localhost:8080/"
        },
        "outputId": "86e5b2b1-291e-4d4b-c762-59f96cd6611d"
      },
      "source": [
        "# splitting the data into train and test\n",
        "X = state_action.iloc[: ,1:16] \n",
        "\n",
        "y = data.iloc[:,0].values\n",
        "\n",
        "X_train_yield, X_test_yield, y_train_yield, y_test_yield = train_test_split(X, y, test_size=0.30, random_state=0)\n",
        "print(X_train_yield.shape); print(X_test_yield.shape)"
      ],
      "execution_count": null,
      "outputs": [
        {
          "output_type": "stream",
          "text": [
            "(543, 15)\n",
            "(234, 15)\n"
          ],
          "name": "stdout"
        }
      ]
    },
    {
      "cell_type": "code",
      "metadata": {
        "id": "EwVXMS2sK8DM"
      },
      "source": [
        "# save the file as pickle\n",
        "import pickle\n",
        "\n",
        "with open('/content/drive/My Drive/x_pickle.pkl', 'wb') as handle:\n",
        "    pickle.dump(X, handle)\n",
        "\n",
        "with open('/content/drive/My Drive/x_pickle.pkl', 'rb') as handle:\n",
        "    X_df = pickle.load(handle)"
      ],
      "execution_count": null,
      "outputs": []
    },
    {
      "cell_type": "code",
      "metadata": {
        "id": "WOrY71uggtyR",
        "colab": {
          "base_uri": "https://localhost:8080/"
        },
        "outputId": "72c12ef5-d276-4824-b07c-3b55e40bfb93"
      },
      "source": [
        "print(y_train_yield.shape)\n",
        "print(y_test_yield.shape)"
      ],
      "execution_count": null,
      "outputs": [
        {
          "output_type": "stream",
          "text": [
            "(543,)\n",
            "(234,)\n"
          ],
          "name": "stdout"
        }
      ]
    },
    {
      "cell_type": "code",
      "metadata": {
        "id": "rN5Hbb1KkX28",
        "colab": {
          "base_uri": "https://localhost:8080/"
        },
        "outputId": "fdfddf44-bef0-4023-b052-6f0eefb920eb"
      },
      "source": [
        "# ANN for finding best reward\n",
        "\n",
        "from sklearn.neural_network import MLPRegressor\n",
        "from sklearn.metrics import r2_score\n",
        "\n",
        "reg = MLPRegressor(hidden_layer_sizes=(64,64,64),activation='relu',random_state=1,max_iter=2000, batch_size = 200).fit(X_train_yield,y_train_yield)\n",
        "\n",
        "y_pred_yield = reg.predict(X_test_yield)\n",
        "print(r2_score(y_pred_yield,y_test_yield))"
      ],
      "execution_count": null,
      "outputs": [
        {
          "output_type": "stream",
          "text": [
            "0.9338479417257398\n"
          ],
          "name": "stdout"
        }
      ]
    },
    {
      "cell_type": "code",
      "metadata": {
        "id": "VaFJZXUGkmjx",
        "colab": {
          "base_uri": "https://localhost:8080/"
        },
        "outputId": "ce782985-1043-46fb-e394-290fe325ffe2"
      },
      "source": [
        "from sklearn.metrics import mean_squared_error\n",
        "print(mean_squared_error(y_pred_yield,y_test_yield,  squared=False))"
      ],
      "execution_count": null,
      "outputs": [
        {
          "output_type": "stream",
          "text": [
            "336.2125395024398\n"
          ],
          "name": "stdout"
        }
      ]
    },
    {
      "cell_type": "code",
      "metadata": {
        "id": "0FIdCwPn8xSR",
        "colab": {
          "base_uri": "https://localhost:8080/"
        },
        "outputId": "c7146e89-0f51-4f16-b9ef-7dccc477dd55"
      },
      "source": [
        "t = y_test_yield.max()\n",
        "print(t)\n",
        "np.where(y_test_yield == t)\n",
        "X_test_yield.iloc[85]"
      ],
      "execution_count": null,
      "outputs": [
        {
          "output_type": "stream",
          "text": [
            "8711.208961\n"
          ],
          "name": "stdout"
        },
        {
          "output_type": "execute_result",
          "data": {
            "text/plain": [
              "1     45.500000\n",
              "2      0.000000\n",
              "3      0.000000\n",
              "4      0.000000\n",
              "5      0.000000\n",
              "6      1.000000\n",
              "7      0.000000\n",
              "8      0.000000\n",
              "9      0.000000\n",
              "10     1.000000\n",
              "11     0.000328\n",
              "12     0.001187\n",
              "13     0.000251\n",
              "14     0.350425\n",
              "15     0.646173\n",
              "Name: 356, dtype: float64"
            ]
          },
          "metadata": {
            "tags": []
          },
          "execution_count": 37
        }
      ]
    },
    {
      "cell_type": "code",
      "metadata": {
        "id": "TqvPhEcQ8r85",
        "colab": {
          "base_uri": "https://localhost:8080/"
        },
        "outputId": "ba401966-8973-4ec4-c4b7-9888426bfeb2"
      },
      "source": [
        "s = y_pred_yield.max()\n",
        "print(s)\n",
        "np.where(y_pred_yield == s)\n",
        "X_test_yield.iloc[8]"
      ],
      "execution_count": null,
      "outputs": [
        {
          "output_type": "stream",
          "text": [
            "8505.132135926997\n"
          ],
          "name": "stdout"
        },
        {
          "output_type": "execute_result",
          "data": {
            "text/plain": [
              "1     46.600000\n",
              "2      0.000000\n",
              "3      0.000000\n",
              "4      0.000000\n",
              "5      0.000000\n",
              "6      1.000000\n",
              "7      0.000000\n",
              "8      0.000000\n",
              "9      0.000000\n",
              "10     1.000000\n",
              "11     0.000264\n",
              "12     0.000983\n",
              "13     0.000188\n",
              "14     0.330555\n",
              "15     0.666584\n",
              "Name: 767, dtype: float64"
            ]
          },
          "metadata": {
            "tags": []
          },
          "execution_count": 32
        }
      ]
    },
    {
      "cell_type": "markdown",
      "metadata": {
        "id": "OlZVY0DckY0T"
      },
      "source": [
        "## Pickling the file"
      ]
    },
    {
      "cell_type": "code",
      "metadata": {
        "id": "s2Q1ggqfkYUg",
        "colab": {
          "base_uri": "https://localhost:8080/"
        },
        "outputId": "436e4099-f0a4-438a-9953-20f4310f5714"
      },
      "source": [
        "with open('/content/drive/My Drive/reg_model.pkl', 'wb') as handle:\n",
        "    pickle.dump(reg, handle)\n",
        "\n",
        "with open('/content/drive/My Drive/reg_model.pkl', 'rb') as handle:\n",
        "    testing_model = pickle.load(handle)\n",
        "\n",
        "testing_model.predict(X_test_yield)\n",
        "print(r2_score(y_pred_yield,y_test_yield))\n",
        "\n",
        "from sklearn.metrics import mean_squared_error\n",
        "print(mean_squared_error(y_pred_yield,y_test_yield,  squared=False))"
      ],
      "execution_count": null,
      "outputs": [
        {
          "output_type": "stream",
          "text": [
            "0.9338479417257398\n",
            "336.2125395024398\n"
          ],
          "name": "stdout"
        }
      ]
    },
    {
      "cell_type": "code",
      "metadata": {
        "id": "SsZiTbAk-9Pq"
      },
      "source": [
        "y_pred_yield = pd.Series(y_pred_yield)\n",
        "y_test_yield = pd.Series(y_test_yield)\n",
        "\n",
        "for i in range(234):\n",
        "  print(y_test_yield.iloc[i] - y_pred_yield.iloc[i])\n",
        "# y_pred.sort_values(ascending=False)"
      ],
      "execution_count": null,
      "outputs": []
    },
    {
      "cell_type": "code",
      "metadata": {
        "id": "EU1lqDV6D-Dp"
      },
      "source": [
        "# making a data frame from actual and predicted values\n",
        "final_test_pred = pd.concat([y_test_yield,y_pred_yield], axis=1)\n",
        "final_test_pred.columns = \"Actual_Yield\", \"Predicted_Yield\" \n",
        "final_test_pred.head()\n",
        "\n",
        "final_test_pred.to_csv(\"/content/drive/My Drive/AOBD_Project/final_test_pred.csv\", index=False)\n",
        "# pd.read_csv(\"/content/drive/My Drive/final_test_pred.csv\")"
      ],
      "execution_count": null,
      "outputs": []
    },
    {
      "cell_type": "code",
      "metadata": {
        "id": "WlQnctIhluoE",
        "colab": {
          "base_uri": "https://localhost:8080/"
        },
        "outputId": "ae4e916d-2449-4342-d076-213f98f75ea3"
      },
      "source": [
        "for i in range(5):\n",
        "  print(\"Actual action: \\n{}  =>\\n\\n predicted action: \\n{} \\nActual yield: {}  => predicted yield: {}\".format(y_test.iloc[i], pred_test.iloc[i],y_test_yield[i], y_pred_yield[i]))\n",
        "\n",
        "# for i in range(5):\n",
        "  # print(\"Actual action: \\n{}  =>\\n\\n predicted action: \\n{}\".format(y_test.iloc[i], pred_test.iloc[i]))  "
      ],
      "execution_count": null,
      "outputs": [
        {
          "output_type": "stream",
          "text": [
            "Actual action: \n",
            "action_0.2    0\n",
            "action_0.3    0\n",
            "action_0.4    0\n",
            "action_0.5    0\n",
            "action_0.6    1\n",
            "action_0.7    0\n",
            "Name: 319, dtype: uint8  =>\n",
            "\n",
            " predicted action: \n",
            "0    0.000573\n",
            "1    0.001929\n",
            "2    0.000535\n",
            "3    0.404658\n",
            "4    0.589985\n",
            "5    0.002320\n",
            "Name: 0, dtype: float32 \n",
            "Actual yield: 6795.881873  => predicted yield: 7079.638875574272\n",
            "Actual action: \n",
            "action_0.2    0\n",
            "action_0.3    0\n",
            "action_0.4    0\n",
            "action_0.5    1\n",
            "action_0.6    0\n",
            "action_0.7    0\n",
            "Name: 685, dtype: uint8  =>\n",
            "\n",
            " predicted action: \n",
            "0    0.000764\n",
            "1    0.002473\n",
            "2    0.000791\n",
            "3    0.433862\n",
            "4    0.559340\n",
            "5    0.002770\n",
            "Name: 1, dtype: float32 \n",
            "Actual yield: 4357.822918  => predicted yield: 4300.543519599305\n",
            "Actual action: \n",
            "action_0.2    0\n",
            "action_0.3    0\n",
            "action_0.4    0\n",
            "action_0.5    0\n",
            "action_0.6    1\n",
            "action_0.7    0\n",
            "Name: 284, dtype: uint8  =>\n",
            "\n",
            " predicted action: \n",
            "0    0.000311\n",
            "1    0.001133\n",
            "2    0.000234\n",
            "3    0.345410\n",
            "4    0.651332\n",
            "5    0.001580\n",
            "Name: 2, dtype: float32 \n",
            "Actual yield: 7293.53617  => predicted yield: 6451.438958747944\n",
            "Actual action: \n",
            "action_0.2    0\n",
            "action_0.3    0\n",
            "action_0.4    0\n",
            "action_0.5    1\n",
            "action_0.6    0\n",
            "action_0.7    0\n",
            "Name: 144, dtype: uint8  =>\n",
            "\n",
            " predicted action: \n",
            "0    0.005394\n",
            "1    0.009616\n",
            "2    0.263312\n",
            "3    0.706854\n",
            "4    0.011677\n",
            "5    0.003147\n",
            "Name: 3, dtype: float32 \n",
            "Actual yield: 3900.344042  => predicted yield: 4272.081924435148\n",
            "Actual action: \n",
            "action_0.2    0\n",
            "action_0.3    0\n",
            "action_0.4    1\n",
            "action_0.5    0\n",
            "action_0.6    0\n",
            "action_0.7    0\n",
            "Name: 136, dtype: uint8  =>\n",
            "\n",
            " predicted action: \n",
            "0    0.007543\n",
            "1    0.011555\n",
            "2    0.551415\n",
            "3    0.422309\n",
            "4    0.004313\n",
            "5    0.002865\n",
            "Name: 4, dtype: float32 \n",
            "Actual yield: 4387.741853  => predicted yield: 4439.707552409376\n"
          ],
          "name": "stdout"
        }
      ]
    }
  ]
}