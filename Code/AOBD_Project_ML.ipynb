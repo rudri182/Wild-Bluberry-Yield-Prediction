{
  "nbformat": 4,
  "nbformat_minor": 0,
  "metadata": {
    "colab": {
      "name": "AOBD_Project_ML.ipynb",
      "provenance": []
    },
    "kernelspec": {
      "name": "python3",
      "display_name": "Python 3"
    },
    "language_info": {
      "name": "python"
    }
  },
  "cells": [
    {
      "cell_type": "code",
      "metadata": {
        "id": "WqAfbJ4u3FHp",
        "colab": {
          "base_uri": "https://localhost:8080/"
        },
        "outputId": "bab30566-a93b-489a-b798-69bd86228973"
      },
      "source": [
        "!pip install ibm-watson-machine-learning --upgrade"
      ],
      "execution_count": null,
      "outputs": [
        {
          "output_type": "stream",
          "text": [
            "Collecting ibm-watson-machine-learning\n",
            "\u001b[?25l  Downloading https://files.pythonhosted.org/packages/d0/d0/7b640bc1f99606ea60126a98241e394aaed970f62b99ad5512ff4f21226a/ibm_watson_machine_learning-1.0.77-py3-none-any.whl (1.8MB)\n",
            "\r\u001b[K     |▏                               | 10kB 21.7MB/s eta 0:00:01\r\u001b[K     |▍                               | 20kB 29.9MB/s eta 0:00:01\r\u001b[K     |▋                               | 30kB 22.5MB/s eta 0:00:01\r\u001b[K     |▊                               | 40kB 22.2MB/s eta 0:00:01\r\u001b[K     |█                               | 51kB 14.6MB/s eta 0:00:01\r\u001b[K     |█▏                              | 61kB 13.6MB/s eta 0:00:01\r\u001b[K     |█▎                              | 71kB 13.6MB/s eta 0:00:01\r\u001b[K     |█▌                              | 81kB 13.2MB/s eta 0:00:01\r\u001b[K     |█▊                              | 92kB 13.3MB/s eta 0:00:01\r\u001b[K     |█▉                              | 102kB 11.7MB/s eta 0:00:01\r\u001b[K     |██                              | 112kB 11.7MB/s eta 0:00:01\r\u001b[K     |██▎                             | 122kB 11.7MB/s eta 0:00:01\r\u001b[K     |██▍                             | 133kB 11.7MB/s eta 0:00:01\r\u001b[K     |██▋                             | 143kB 11.7MB/s eta 0:00:01\r\u001b[K     |██▉                             | 153kB 11.7MB/s eta 0:00:01\r\u001b[K     |███                             | 163kB 11.7MB/s eta 0:00:01\r\u001b[K     |███▏                            | 174kB 11.7MB/s eta 0:00:01\r\u001b[K     |███▍                            | 184kB 11.7MB/s eta 0:00:01\r\u001b[K     |███▌                            | 194kB 11.7MB/s eta 0:00:01\r\u001b[K     |███▊                            | 204kB 11.7MB/s eta 0:00:01\r\u001b[K     |████                            | 215kB 11.7MB/s eta 0:00:01\r\u001b[K     |████                            | 225kB 11.7MB/s eta 0:00:01\r\u001b[K     |████▎                           | 235kB 11.7MB/s eta 0:00:01\r\u001b[K     |████▌                           | 245kB 11.7MB/s eta 0:00:01\r\u001b[K     |████▋                           | 256kB 11.7MB/s eta 0:00:01\r\u001b[K     |████▉                           | 266kB 11.7MB/s eta 0:00:01\r\u001b[K     |█████                           | 276kB 11.7MB/s eta 0:00:01\r\u001b[K     |█████▎                          | 286kB 11.7MB/s eta 0:00:01\r\u001b[K     |█████▍                          | 296kB 11.7MB/s eta 0:00:01\r\u001b[K     |█████▋                          | 307kB 11.7MB/s eta 0:00:01\r\u001b[K     |█████▉                          | 317kB 11.7MB/s eta 0:00:01\r\u001b[K     |██████                          | 327kB 11.7MB/s eta 0:00:01\r\u001b[K     |██████▏                         | 337kB 11.7MB/s eta 0:00:01\r\u001b[K     |██████▍                         | 348kB 11.7MB/s eta 0:00:01\r\u001b[K     |██████▌                         | 358kB 11.7MB/s eta 0:00:01\r\u001b[K     |██████▊                         | 368kB 11.7MB/s eta 0:00:01\r\u001b[K     |███████                         | 378kB 11.7MB/s eta 0:00:01\r\u001b[K     |███████                         | 389kB 11.7MB/s eta 0:00:01\r\u001b[K     |███████▎                        | 399kB 11.7MB/s eta 0:00:01\r\u001b[K     |███████▌                        | 409kB 11.7MB/s eta 0:00:01\r\u001b[K     |███████▋                        | 419kB 11.7MB/s eta 0:00:01\r\u001b[K     |███████▉                        | 430kB 11.7MB/s eta 0:00:01\r\u001b[K     |████████                        | 440kB 11.7MB/s eta 0:00:01\r\u001b[K     |████████▏                       | 450kB 11.7MB/s eta 0:00:01\r\u001b[K     |████████▍                       | 460kB 11.7MB/s eta 0:00:01\r\u001b[K     |████████▋                       | 471kB 11.7MB/s eta 0:00:01\r\u001b[K     |████████▊                       | 481kB 11.7MB/s eta 0:00:01\r\u001b[K     |█████████                       | 491kB 11.7MB/s eta 0:00:01\r\u001b[K     |█████████▏                      | 501kB 11.7MB/s eta 0:00:01\r\u001b[K     |█████████▎                      | 512kB 11.7MB/s eta 0:00:01\r\u001b[K     |█████████▌                      | 522kB 11.7MB/s eta 0:00:01\r\u001b[K     |█████████▊                      | 532kB 11.7MB/s eta 0:00:01\r\u001b[K     |█████████▉                      | 542kB 11.7MB/s eta 0:00:01\r\u001b[K     |██████████                      | 552kB 11.7MB/s eta 0:00:01\r\u001b[K     |██████████▎                     | 563kB 11.7MB/s eta 0:00:01\r\u001b[K     |██████████▌                     | 573kB 11.7MB/s eta 0:00:01\r\u001b[K     |██████████▋                     | 583kB 11.7MB/s eta 0:00:01\r\u001b[K     |██████████▉                     | 593kB 11.7MB/s eta 0:00:01\r\u001b[K     |███████████                     | 604kB 11.7MB/s eta 0:00:01\r\u001b[K     |███████████▏                    | 614kB 11.7MB/s eta 0:00:01\r\u001b[K     |███████████▍                    | 624kB 11.7MB/s eta 0:00:01\r\u001b[K     |███████████▋                    | 634kB 11.7MB/s eta 0:00:01\r\u001b[K     |███████████▊                    | 645kB 11.7MB/s eta 0:00:01\r\u001b[K     |████████████                    | 655kB 11.7MB/s eta 0:00:01\r\u001b[K     |████████████▏                   | 665kB 11.7MB/s eta 0:00:01\r\u001b[K     |████████████▎                   | 675kB 11.7MB/s eta 0:00:01\r\u001b[K     |████████████▌                   | 686kB 11.7MB/s eta 0:00:01\r\u001b[K     |████████████▊                   | 696kB 11.7MB/s eta 0:00:01\r\u001b[K     |████████████▉                   | 706kB 11.7MB/s eta 0:00:01\r\u001b[K     |█████████████                   | 716kB 11.7MB/s eta 0:00:01\r\u001b[K     |█████████████▎                  | 727kB 11.7MB/s eta 0:00:01\r\u001b[K     |█████████████▍                  | 737kB 11.7MB/s eta 0:00:01\r\u001b[K     |█████████████▋                  | 747kB 11.7MB/s eta 0:00:01\r\u001b[K     |█████████████▉                  | 757kB 11.7MB/s eta 0:00:01\r\u001b[K     |██████████████                  | 768kB 11.7MB/s eta 0:00:01\r\u001b[K     |██████████████▏                 | 778kB 11.7MB/s eta 0:00:01\r\u001b[K     |██████████████▍                 | 788kB 11.7MB/s eta 0:00:01\r\u001b[K     |██████████████▌                 | 798kB 11.7MB/s eta 0:00:01\r\u001b[K     |██████████████▊                 | 808kB 11.7MB/s eta 0:00:01\r\u001b[K     |███████████████                 | 819kB 11.7MB/s eta 0:00:01\r\u001b[K     |███████████████▏                | 829kB 11.7MB/s eta 0:00:01\r\u001b[K     |███████████████▎                | 839kB 11.7MB/s eta 0:00:01\r\u001b[K     |███████████████▌                | 849kB 11.7MB/s eta 0:00:01\r\u001b[K     |███████████████▊                | 860kB 11.7MB/s eta 0:00:01\r\u001b[K     |███████████████▉                | 870kB 11.7MB/s eta 0:00:01\r\u001b[K     |████████████████                | 880kB 11.7MB/s eta 0:00:01\r\u001b[K     |████████████████▎               | 890kB 11.7MB/s eta 0:00:01\r\u001b[K     |████████████████▍               | 901kB 11.7MB/s eta 0:00:01\r\u001b[K     |████████████████▋               | 911kB 11.7MB/s eta 0:00:01\r\u001b[K     |████████████████▉               | 921kB 11.7MB/s eta 0:00:01\r\u001b[K     |█████████████████               | 931kB 11.7MB/s eta 0:00:01\r\u001b[K     |█████████████████▏              | 942kB 11.7MB/s eta 0:00:01\r\u001b[K     |█████████████████▍              | 952kB 11.7MB/s eta 0:00:01\r\u001b[K     |█████████████████▌              | 962kB 11.7MB/s eta 0:00:01\r\u001b[K     |█████████████████▊              | 972kB 11.7MB/s eta 0:00:01\r\u001b[K     |██████████████████              | 983kB 11.7MB/s eta 0:00:01\r\u001b[K     |██████████████████              | 993kB 11.7MB/s eta 0:00:01\r\u001b[K     |██████████████████▎             | 1.0MB 11.7MB/s eta 0:00:01\r\u001b[K     |██████████████████▌             | 1.0MB 11.7MB/s eta 0:00:01\r\u001b[K     |██████████████████▋             | 1.0MB 11.7MB/s eta 0:00:01\r\u001b[K     |██████████████████▉             | 1.0MB 11.7MB/s eta 0:00:01\r\u001b[K     |███████████████████             | 1.0MB 11.7MB/s eta 0:00:01\r\u001b[K     |███████████████████▏            | 1.1MB 11.7MB/s eta 0:00:01\r\u001b[K     |███████████████████▍            | 1.1MB 11.7MB/s eta 0:00:01\r\u001b[K     |███████████████████▋            | 1.1MB 11.7MB/s eta 0:00:01\r\u001b[K     |███████████████████▊            | 1.1MB 11.7MB/s eta 0:00:01\r\u001b[K     |████████████████████            | 1.1MB 11.7MB/s eta 0:00:01\r\u001b[K     |████████████████████▏           | 1.1MB 11.7MB/s eta 0:00:01\r\u001b[K     |████████████████████▍           | 1.1MB 11.7MB/s eta 0:00:01\r\u001b[K     |████████████████████▌           | 1.1MB 11.7MB/s eta 0:00:01\r\u001b[K     |████████████████████▊           | 1.1MB 11.7MB/s eta 0:00:01\r\u001b[K     |█████████████████████           | 1.1MB 11.7MB/s eta 0:00:01\r\u001b[K     |█████████████████████           | 1.2MB 11.7MB/s eta 0:00:01\r\u001b[K     |█████████████████████▎          | 1.2MB 11.7MB/s eta 0:00:01\r\u001b[K     |█████████████████████▌          | 1.2MB 11.7MB/s eta 0:00:01\r\u001b[K     |█████████████████████▋          | 1.2MB 11.7MB/s eta 0:00:01\r\u001b[K     |█████████████████████▉          | 1.2MB 11.7MB/s eta 0:00:01\r\u001b[K     |██████████████████████          | 1.2MB 11.7MB/s eta 0:00:01\r\u001b[K     |██████████████████████▏         | 1.2MB 11.7MB/s eta 0:00:01\r\u001b[K     |██████████████████████▍         | 1.2MB 11.7MB/s eta 0:00:01\r\u001b[K     |██████████████████████▋         | 1.2MB 11.7MB/s eta 0:00:01\r\u001b[K     |██████████████████████▊         | 1.2MB 11.7MB/s eta 0:00:01\r\u001b[K     |███████████████████████         | 1.3MB 11.7MB/s eta 0:00:01\r\u001b[K     |███████████████████████▏        | 1.3MB 11.7MB/s eta 0:00:01\r\u001b[K     |███████████████████████▎        | 1.3MB 11.7MB/s eta 0:00:01\r\u001b[K     |███████████████████████▌        | 1.3MB 11.7MB/s eta 0:00:01\r\u001b[K     |███████████████████████▊        | 1.3MB 11.7MB/s eta 0:00:01\r\u001b[K     |███████████████████████▉        | 1.3MB 11.7MB/s eta 0:00:01\r\u001b[K     |████████████████████████        | 1.3MB 11.7MB/s eta 0:00:01\r\u001b[K     |████████████████████████▎       | 1.3MB 11.7MB/s eta 0:00:01\r\u001b[K     |████████████████████████▍       | 1.3MB 11.7MB/s eta 0:00:01\r\u001b[K     |████████████████████████▋       | 1.4MB 11.7MB/s eta 0:00:01\r\u001b[K     |████████████████████████▉       | 1.4MB 11.7MB/s eta 0:00:01\r\u001b[K     |█████████████████████████       | 1.4MB 11.7MB/s eta 0:00:01\r\u001b[K     |█████████████████████████▏      | 1.4MB 11.7MB/s eta 0:00:01\r\u001b[K     |█████████████████████████▍      | 1.4MB 11.7MB/s eta 0:00:01\r\u001b[K     |█████████████████████████▋      | 1.4MB 11.7MB/s eta 0:00:01\r\u001b[K     |█████████████████████████▊      | 1.4MB 11.7MB/s eta 0:00:01\r\u001b[K     |██████████████████████████      | 1.4MB 11.7MB/s eta 0:00:01\r\u001b[K     |██████████████████████████▏     | 1.4MB 11.7MB/s eta 0:00:01\r\u001b[K     |██████████████████████████▎     | 1.4MB 11.7MB/s eta 0:00:01\r\u001b[K     |██████████████████████████▌     | 1.5MB 11.7MB/s eta 0:00:01\r\u001b[K     |██████████████████████████▊     | 1.5MB 11.7MB/s eta 0:00:01\r\u001b[K     |██████████████████████████▉     | 1.5MB 11.7MB/s eta 0:00:01\r\u001b[K     |███████████████████████████     | 1.5MB 11.7MB/s eta 0:00:01\r\u001b[K     |███████████████████████████▎    | 1.5MB 11.7MB/s eta 0:00:01\r\u001b[K     |███████████████████████████▍    | 1.5MB 11.7MB/s eta 0:00:01\r\u001b[K     |███████████████████████████▋    | 1.5MB 11.7MB/s eta 0:00:01\r\u001b[K     |███████████████████████████▉    | 1.5MB 11.7MB/s eta 0:00:01\r\u001b[K     |████████████████████████████    | 1.5MB 11.7MB/s eta 0:00:01\r\u001b[K     |████████████████████████████▏   | 1.5MB 11.7MB/s eta 0:00:01\r\u001b[K     |████████████████████████████▍   | 1.6MB 11.7MB/s eta 0:00:01\r\u001b[K     |████████████████████████████▌   | 1.6MB 11.7MB/s eta 0:00:01\r\u001b[K     |████████████████████████████▊   | 1.6MB 11.7MB/s eta 0:00:01\r\u001b[K     |█████████████████████████████   | 1.6MB 11.7MB/s eta 0:00:01\r\u001b[K     |█████████████████████████████   | 1.6MB 11.7MB/s eta 0:00:01\r\u001b[K     |█████████████████████████████▎  | 1.6MB 11.7MB/s eta 0:00:01\r\u001b[K     |█████████████████████████████▌  | 1.6MB 11.7MB/s eta 0:00:01\r\u001b[K     |█████████████████████████████▋  | 1.6MB 11.7MB/s eta 0:00:01\r\u001b[K     |█████████████████████████████▉  | 1.6MB 11.7MB/s eta 0:00:01\r\u001b[K     |██████████████████████████████  | 1.6MB 11.7MB/s eta 0:00:01\r\u001b[K     |██████████████████████████████▎ | 1.7MB 11.7MB/s eta 0:00:01\r\u001b[K     |██████████████████████████████▍ | 1.7MB 11.7MB/s eta 0:00:01\r\u001b[K     |██████████████████████████████▋ | 1.7MB 11.7MB/s eta 0:00:01\r\u001b[K     |██████████████████████████████▉ | 1.7MB 11.7MB/s eta 0:00:01\r\u001b[K     |███████████████████████████████ | 1.7MB 11.7MB/s eta 0:00:01\r\u001b[K     |███████████████████████████████▏| 1.7MB 11.7MB/s eta 0:00:01\r\u001b[K     |███████████████████████████████▍| 1.7MB 11.7MB/s eta 0:00:01\r\u001b[K     |███████████████████████████████▌| 1.7MB 11.7MB/s eta 0:00:01\r\u001b[K     |███████████████████████████████▊| 1.7MB 11.7MB/s eta 0:00:01\r\u001b[K     |████████████████████████████████| 1.8MB 11.7MB/s eta 0:00:01\r\u001b[K     |████████████████████████████████| 1.8MB 11.7MB/s \n",
            "\u001b[?25hRequirement already satisfied, skipping upgrade: certifi in /usr/local/lib/python3.7/dist-packages (from ibm-watson-machine-learning) (2020.12.5)\n",
            "Requirement already satisfied, skipping upgrade: pandas<1.3.0,>=0.24.2 in /usr/local/lib/python3.7/dist-packages (from ibm-watson-machine-learning) (1.1.5)\n",
            "Requirement already satisfied, skipping upgrade: urllib3 in /usr/local/lib/python3.7/dist-packages (from ibm-watson-machine-learning) (1.24.3)\n",
            "Requirement already satisfied, skipping upgrade: requests in /usr/local/lib/python3.7/dist-packages (from ibm-watson-machine-learning) (2.23.0)\n",
            "Collecting lomond\n",
            "  Downloading https://files.pythonhosted.org/packages/0f/b1/02eebed49c754b01b17de7705caa8c4ceecfb4f926cdafc220c863584360/lomond-0.3.3-py2.py3-none-any.whl\n",
            "Requirement already satisfied, skipping upgrade: tabulate in /usr/local/lib/python3.7/dist-packages (from ibm-watson-machine-learning) (0.8.9)\n",
            "Requirement already satisfied, skipping upgrade: packaging in /usr/local/lib/python3.7/dist-packages (from ibm-watson-machine-learning) (20.9)\n",
            "Collecting ibm-cos-sdk==2.7.*\n",
            "\u001b[?25l  Downloading https://files.pythonhosted.org/packages/af/13/e403ad0e5a9192062d4ce653b2451f73a9c2813096528030b0253d81fa14/ibm-cos-sdk-2.7.0.tar.gz (51kB)\n",
            "\u001b[K     |████████████████████████████████| 61kB 6.4MB/s \n",
            "\u001b[?25hRequirement already satisfied, skipping upgrade: python-dateutil>=2.7.3 in /usr/local/lib/python3.7/dist-packages (from pandas<1.3.0,>=0.24.2->ibm-watson-machine-learning) (2.8.1)\n",
            "Requirement already satisfied, skipping upgrade: pytz>=2017.2 in /usr/local/lib/python3.7/dist-packages (from pandas<1.3.0,>=0.24.2->ibm-watson-machine-learning) (2018.9)\n",
            "Requirement already satisfied, skipping upgrade: numpy>=1.15.4 in /usr/local/lib/python3.7/dist-packages (from pandas<1.3.0,>=0.24.2->ibm-watson-machine-learning) (1.19.5)\n",
            "Requirement already satisfied, skipping upgrade: chardet<4,>=3.0.2 in /usr/local/lib/python3.7/dist-packages (from requests->ibm-watson-machine-learning) (3.0.4)\n",
            "Requirement already satisfied, skipping upgrade: idna<3,>=2.5 in /usr/local/lib/python3.7/dist-packages (from requests->ibm-watson-machine-learning) (2.10)\n",
            "Requirement already satisfied, skipping upgrade: six>=1.10.0 in /usr/local/lib/python3.7/dist-packages (from lomond->ibm-watson-machine-learning) (1.15.0)\n",
            "Requirement already satisfied, skipping upgrade: pyparsing>=2.0.2 in /usr/local/lib/python3.7/dist-packages (from packaging->ibm-watson-machine-learning) (2.4.7)\n",
            "Collecting ibm-cos-sdk-core==2.7.0\n",
            "\u001b[?25l  Downloading https://files.pythonhosted.org/packages/24/47/6f56b25ca9efd734dfef6ad4bcc3d3e59a025965bc04ece76fc71f9aca4c/ibm-cos-sdk-core-2.7.0.tar.gz (824kB)\n",
            "\u001b[K     |████████████████████████████████| 829kB 59.1MB/s \n",
            "\u001b[?25hCollecting ibm-cos-sdk-s3transfer==2.7.0\n",
            "\u001b[?25l  Downloading https://files.pythonhosted.org/packages/0f/ab/7cbe8a4539da5efeedda61e696b05684e2f44766a750b795cbfb24d7f727/ibm-cos-sdk-s3transfer-2.7.0.tar.gz (133kB)\n",
            "\u001b[K     |████████████████████████████████| 143kB 55.5MB/s \n",
            "\u001b[?25hCollecting jmespath<1.0.0,>=0.7.1\n",
            "  Downloading https://files.pythonhosted.org/packages/07/cb/5f001272b6faeb23c1c9e0acc04d48eaaf5c862c17709d20e3469c6e0139/jmespath-0.10.0-py2.py3-none-any.whl\n",
            "Collecting docutils<0.16,>=0.10\n",
            "\u001b[?25l  Downloading https://files.pythonhosted.org/packages/22/cd/a6aa959dca619918ccb55023b4cb151949c64d4d5d55b3f4ffd7eee0c6e8/docutils-0.15.2-py3-none-any.whl (547kB)\n",
            "\u001b[K     |████████████████████████████████| 552kB 54.1MB/s \n",
            "\u001b[?25hBuilding wheels for collected packages: ibm-cos-sdk, ibm-cos-sdk-core, ibm-cos-sdk-s3transfer\n",
            "  Building wheel for ibm-cos-sdk (setup.py) ... \u001b[?25l\u001b[?25hdone\n",
            "  Created wheel for ibm-cos-sdk: filename=ibm_cos_sdk-2.7.0-py2.py3-none-any.whl size=72555 sha256=47b2055bfb9520dd64f708eefb3c5a5b186b045ea559560331f4fae88ff68255\n",
            "  Stored in directory: /root/.cache/pip/wheels/a7/10/5b/5d6543382dc5cc86022e490619c8db1253c22d50a57493262b\n",
            "  Building wheel for ibm-cos-sdk-core (setup.py) ... \u001b[?25l\u001b[?25hdone\n",
            "  Created wheel for ibm-cos-sdk-core: filename=ibm_cos_sdk_core-2.7.0-py2.py3-none-any.whl size=500999 sha256=5fb2d056b6f43f78ebdfb33871b5e36be34d021a7a8899e9795dddfdd3db723b\n",
            "  Stored in directory: /root/.cache/pip/wheels/4d/69/e0/048f98aadb8f018f13fde51c52af878763eed47d2ee0fb735d\n",
            "  Building wheel for ibm-cos-sdk-s3transfer (setup.py) ... \u001b[?25l\u001b[?25hdone\n",
            "  Created wheel for ibm-cos-sdk-s3transfer: filename=ibm_cos_sdk_s3transfer-2.7.0-py2.py3-none-any.whl size=88603 sha256=8958d22298dd47a63659566ed18ef492573d02803a3e1b9f31b852f7461c3514\n",
            "  Stored in directory: /root/.cache/pip/wheels/44/90/ce/c4fa6f55d3c3cfd1f824f31585c58cd717ef035a63620e7ba7\n",
            "Successfully built ibm-cos-sdk ibm-cos-sdk-core ibm-cos-sdk-s3transfer\n",
            "\u001b[31mERROR: datascience 0.10.6 has requirement folium==0.2.1, but you'll have folium 0.8.3 which is incompatible.\u001b[0m\n",
            "Installing collected packages: lomond, jmespath, docutils, ibm-cos-sdk-core, ibm-cos-sdk-s3transfer, ibm-cos-sdk, ibm-watson-machine-learning\n",
            "  Found existing installation: docutils 0.17\n",
            "    Uninstalling docutils-0.17:\n",
            "      Successfully uninstalled docutils-0.17\n",
            "Successfully installed docutils-0.15.2 ibm-cos-sdk-2.7.0 ibm-cos-sdk-core-2.7.0 ibm-cos-sdk-s3transfer-2.7.0 ibm-watson-machine-learning-1.0.77 jmespath-0.10.0 lomond-0.3.3\n"
          ],
          "name": "stdout"
        }
      ]
    },
    {
      "cell_type": "code",
      "metadata": {
        "colab": {
          "base_uri": "https://localhost:8080/"
        },
        "id": "CEHyqJ69vAYz",
        "outputId": "9c3fae4f-ce3a-4c7c-de6e-a9b3540c5b72"
      },
      "source": [
        "from getpass import getpass\n",
        "\n",
        "api_key = getpass(\"Api Key: \")"
      ],
      "execution_count": null,
      "outputs": [
        {
          "output_type": "stream",
          "text": [
            "Api Key: ··········\n"
          ],
          "name": "stdout"
        }
      ]
    },
    {
      "cell_type": "code",
      "metadata": {
        "id": "AEeDM5oS6smL"
      },
      "source": [
        "location = \"us-south\"\n",
        "wml_credentials = {\n",
        "    \"apikey\": api_key,\n",
        "    \"url\": 'https://' + location + '.ml.cloud.ibm.com'\n",
        "}\n",
        "client = APIClient(wml_credentials)\n"
      ],
      "execution_count": null,
      "outputs": []
    },
    {
      "cell_type": "code",
      "metadata": {
        "id": "nfq8vfYF9Ped"
      },
      "source": [
        "#https://us-south.ml.cloud.ibm.com"
      ],
      "execution_count": null,
      "outputs": []
    },
    {
      "cell_type": "code",
      "metadata": {
        "colab": {
          "base_uri": "https://localhost:8080/"
        },
        "id": "lwGYPqyq_IfO",
        "outputId": "575c2e52-b175-47ff-92f5-dba14ea355a8"
      },
      "source": [
        "client.spaces.list()"
      ],
      "execution_count": null,
      "outputs": [
        {
          "output_type": "stream",
          "text": [
            "Note: 'limit' is not provided. Only first 50 records will be displayed if the number of records exceed 50\n",
            "------------------------------------  ---------------  ------------------------\n",
            "ID                                    NAME             CREATED\n",
            "e4df72ec-ae13-46a0-9300-58e168d02786  space_blueberry  2021-04-04T13:00:26.752Z\n",
            "------------------------------------  ---------------  ------------------------\n"
          ],
          "name": "stdout"
        }
      ]
    },
    {
      "cell_type": "code",
      "metadata": {
        "colab": {
          "base_uri": "https://localhost:8080/",
          "height": 35
        },
        "id": "DPJWTKPX_MSI",
        "outputId": "f3e81a02-381c-4093-bacd-846bb1b11b04"
      },
      "source": [
        "client.set.default_space(\"e4df72ec-ae13-46a0-9300-58e168d02786\")"
      ],
      "execution_count": null,
      "outputs": [
        {
          "output_type": "execute_result",
          "data": {
            "application/vnd.google.colaboratory.intrinsic+json": {
              "type": "string"
            },
            "text/plain": [
              "'SUCCESS'"
            ]
          },
          "metadata": {
            "tags": []
          },
          "execution_count": 7
        }
      ]
    },
    {
      "cell_type": "code",
      "metadata": {
        "id": "6IYleBfw_UDN"
      },
      "source": [
        "import sys\n",
        "from getpass import getpass\n",
        "import sklearn\n",
        "sys.version\n",
        "sklearn.__version__"
      ],
      "execution_count": null,
      "outputs": []
    },
    {
      "cell_type": "code",
      "metadata": {
        "colab": {
          "base_uri": "https://localhost:8080/"
        },
        "id": "My-c42hnueAD",
        "outputId": "ce6753a0-ecbd-44f8-9b14-57fbbdf4fc77"
      },
      "source": [
        "from google.colab import drive\n",
        "drive.mount('/content/drive')"
      ],
      "execution_count": null,
      "outputs": [
        {
          "output_type": "stream",
          "text": [
            "Mounted at /content/drive\n"
          ],
          "name": "stdout"
        }
      ]
    },
    {
      "cell_type": "code",
      "metadata": {
        "colab": {
          "base_uri": "https://localhost:8080/",
          "height": 35
        },
        "id": "H9YXNXZWupaQ",
        "outputId": "df6cdfa7-07fd-4d2d-9e81-5cd164c5e515"
      },
      "source": [
        "path = \"/content/drive/My Drive/AOBD_Project\"\n",
        "path"
      ],
      "execution_count": null,
      "outputs": [
        {
          "output_type": "execute_result",
          "data": {
            "application/vnd.google.colaboratory.intrinsic+json": {
              "type": "string"
            },
            "text/plain": [
              "'/content/drive/My Drive/AOBD_Project'"
            ]
          },
          "metadata": {
            "tags": []
          },
          "execution_count": 10
        }
      ]
    },
    {
      "cell_type": "code",
      "metadata": {
        "id": "jh2_xdpHvIn3"
      },
      "source": [
        "import pandas as pd\n",
        "import numpy as np\n",
        "from sklearn.preprocessing import StandardScaler"
      ],
      "execution_count": null,
      "outputs": []
    },
    {
      "cell_type": "code",
      "metadata": {
        "id": "1hhPy8bovMQE"
      },
      "source": [
        "data = pd.read_csv(path + \"/WildBlueberry.csv\")"
      ],
      "execution_count": null,
      "outputs": []
    },
    {
      "cell_type": "code",
      "metadata": {
        "colab": {
          "base_uri": "https://localhost:8080/",
          "height": 217
        },
        "id": "L4lU4fIu0RA1",
        "outputId": "53ed1fd1-ca13-4307-8c58-387cbe204cc1"
      },
      "source": [
        "data.head()"
      ],
      "execution_count": null,
      "outputs": [
        {
          "output_type": "execute_result",
          "data": {
            "text/html": [
              "<div>\n",
              "<style scoped>\n",
              "    .dataframe tbody tr th:only-of-type {\n",
              "        vertical-align: middle;\n",
              "    }\n",
              "\n",
              "    .dataframe tbody tr th {\n",
              "        vertical-align: top;\n",
              "    }\n",
              "\n",
              "    .dataframe thead th {\n",
              "        text-align: right;\n",
              "    }\n",
              "</style>\n",
              "<table border=\"1\" class=\"dataframe\">\n",
              "  <thead>\n",
              "    <tr style=\"text-align: right;\">\n",
              "      <th></th>\n",
              "      <th>Row#</th>\n",
              "      <th>clonesize</th>\n",
              "      <th>honeybee</th>\n",
              "      <th>bumbles</th>\n",
              "      <th>andrena</th>\n",
              "      <th>osmia</th>\n",
              "      <th>MaxOfUpperTRange</th>\n",
              "      <th>MinOfUpperTRange</th>\n",
              "      <th>AverageOfUpperTRange</th>\n",
              "      <th>MaxOfLowerTRange</th>\n",
              "      <th>MinOfLowerTRange</th>\n",
              "      <th>AverageOfLowerTRange</th>\n",
              "      <th>RainingDays</th>\n",
              "      <th>AverageRainingDays</th>\n",
              "      <th>fruitset</th>\n",
              "      <th>fruitmass</th>\n",
              "      <th>seeds</th>\n",
              "      <th>yield</th>\n",
              "    </tr>\n",
              "  </thead>\n",
              "  <tbody>\n",
              "    <tr>\n",
              "      <th>0</th>\n",
              "      <td>0</td>\n",
              "      <td>37.5</td>\n",
              "      <td>0.75</td>\n",
              "      <td>0.25</td>\n",
              "      <td>0.25</td>\n",
              "      <td>0.25</td>\n",
              "      <td>86.0</td>\n",
              "      <td>52.0</td>\n",
              "      <td>71.9</td>\n",
              "      <td>62.0</td>\n",
              "      <td>30.0</td>\n",
              "      <td>50.8</td>\n",
              "      <td>16.0</td>\n",
              "      <td>0.26</td>\n",
              "      <td>0.410652</td>\n",
              "      <td>0.408159</td>\n",
              "      <td>31.678898</td>\n",
              "      <td>3813.165795</td>\n",
              "    </tr>\n",
              "    <tr>\n",
              "      <th>1</th>\n",
              "      <td>1</td>\n",
              "      <td>37.5</td>\n",
              "      <td>0.75</td>\n",
              "      <td>0.25</td>\n",
              "      <td>0.25</td>\n",
              "      <td>0.25</td>\n",
              "      <td>86.0</td>\n",
              "      <td>52.0</td>\n",
              "      <td>71.9</td>\n",
              "      <td>62.0</td>\n",
              "      <td>30.0</td>\n",
              "      <td>50.8</td>\n",
              "      <td>1.0</td>\n",
              "      <td>0.10</td>\n",
              "      <td>0.444254</td>\n",
              "      <td>0.425458</td>\n",
              "      <td>33.449385</td>\n",
              "      <td>4947.605663</td>\n",
              "    </tr>\n",
              "    <tr>\n",
              "      <th>2</th>\n",
              "      <td>2</td>\n",
              "      <td>37.5</td>\n",
              "      <td>0.75</td>\n",
              "      <td>0.25</td>\n",
              "      <td>0.25</td>\n",
              "      <td>0.25</td>\n",
              "      <td>94.6</td>\n",
              "      <td>57.2</td>\n",
              "      <td>79.0</td>\n",
              "      <td>68.2</td>\n",
              "      <td>33.0</td>\n",
              "      <td>55.9</td>\n",
              "      <td>16.0</td>\n",
              "      <td>0.26</td>\n",
              "      <td>0.383787</td>\n",
              "      <td>0.399172</td>\n",
              "      <td>30.546306</td>\n",
              "      <td>3866.798965</td>\n",
              "    </tr>\n",
              "    <tr>\n",
              "      <th>3</th>\n",
              "      <td>3</td>\n",
              "      <td>37.5</td>\n",
              "      <td>0.75</td>\n",
              "      <td>0.25</td>\n",
              "      <td>0.25</td>\n",
              "      <td>0.25</td>\n",
              "      <td>94.6</td>\n",
              "      <td>57.2</td>\n",
              "      <td>79.0</td>\n",
              "      <td>68.2</td>\n",
              "      <td>33.0</td>\n",
              "      <td>55.9</td>\n",
              "      <td>1.0</td>\n",
              "      <td>0.10</td>\n",
              "      <td>0.407564</td>\n",
              "      <td>0.408789</td>\n",
              "      <td>31.562586</td>\n",
              "      <td>4303.943030</td>\n",
              "    </tr>\n",
              "    <tr>\n",
              "      <th>4</th>\n",
              "      <td>4</td>\n",
              "      <td>37.5</td>\n",
              "      <td>0.75</td>\n",
              "      <td>0.25</td>\n",
              "      <td>0.25</td>\n",
              "      <td>0.25</td>\n",
              "      <td>86.0</td>\n",
              "      <td>52.0</td>\n",
              "      <td>71.9</td>\n",
              "      <td>62.0</td>\n",
              "      <td>30.0</td>\n",
              "      <td>50.8</td>\n",
              "      <td>24.0</td>\n",
              "      <td>0.39</td>\n",
              "      <td>0.354413</td>\n",
              "      <td>0.382703</td>\n",
              "      <td>28.873714</td>\n",
              "      <td>3436.493543</td>\n",
              "    </tr>\n",
              "  </tbody>\n",
              "</table>\n",
              "</div>"
            ],
            "text/plain": [
              "   Row#  clonesize  honeybee  ...  fruitmass      seeds        yield\n",
              "0     0       37.5      0.75  ...   0.408159  31.678898  3813.165795\n",
              "1     1       37.5      0.75  ...   0.425458  33.449385  4947.605663\n",
              "2     2       37.5      0.75  ...   0.399172  30.546306  3866.798965\n",
              "3     3       37.5      0.75  ...   0.408789  31.562586  4303.943030\n",
              "4     4       37.5      0.75  ...   0.382703  28.873714  3436.493543\n",
              "\n",
              "[5 rows x 18 columns]"
            ]
          },
          "metadata": {
            "tags": []
          },
          "execution_count": 13
        }
      ]
    },
    {
      "cell_type": "code",
      "metadata": {
        "id": "vD34DiEpvPWg",
        "colab": {
          "base_uri": "https://localhost:8080/",
          "height": 307
        },
        "outputId": "4799f74b-a84a-4719-b81c-2680da8b4fc5"
      },
      "source": [
        "data.describe()"
      ],
      "execution_count": null,
      "outputs": [
        {
          "output_type": "execute_result",
          "data": {
            "text/html": [
              "<div>\n",
              "<style scoped>\n",
              "    .dataframe tbody tr th:only-of-type {\n",
              "        vertical-align: middle;\n",
              "    }\n",
              "\n",
              "    .dataframe tbody tr th {\n",
              "        vertical-align: top;\n",
              "    }\n",
              "\n",
              "    .dataframe thead th {\n",
              "        text-align: right;\n",
              "    }\n",
              "</style>\n",
              "<table border=\"1\" class=\"dataframe\">\n",
              "  <thead>\n",
              "    <tr style=\"text-align: right;\">\n",
              "      <th></th>\n",
              "      <th>Row#</th>\n",
              "      <th>clonesize</th>\n",
              "      <th>honeybee</th>\n",
              "      <th>bumbles</th>\n",
              "      <th>andrena</th>\n",
              "      <th>osmia</th>\n",
              "      <th>MaxOfUpperTRange</th>\n",
              "      <th>MinOfUpperTRange</th>\n",
              "      <th>AverageOfUpperTRange</th>\n",
              "      <th>MaxOfLowerTRange</th>\n",
              "      <th>MinOfLowerTRange</th>\n",
              "      <th>AverageOfLowerTRange</th>\n",
              "      <th>RainingDays</th>\n",
              "      <th>AverageRainingDays</th>\n",
              "      <th>fruitset</th>\n",
              "      <th>fruitmass</th>\n",
              "      <th>seeds</th>\n",
              "      <th>yield</th>\n",
              "    </tr>\n",
              "  </thead>\n",
              "  <tbody>\n",
              "    <tr>\n",
              "      <th>count</th>\n",
              "      <td>777.000000</td>\n",
              "      <td>777.000000</td>\n",
              "      <td>777.000000</td>\n",
              "      <td>777.000000</td>\n",
              "      <td>777.000000</td>\n",
              "      <td>777.000000</td>\n",
              "      <td>777.000000</td>\n",
              "      <td>777.000000</td>\n",
              "      <td>777.000000</td>\n",
              "      <td>777.000000</td>\n",
              "      <td>777.000000</td>\n",
              "      <td>777.000000</td>\n",
              "      <td>777.000000</td>\n",
              "      <td>777.000000</td>\n",
              "      <td>777.000000</td>\n",
              "      <td>777.000000</td>\n",
              "      <td>777.000000</td>\n",
              "      <td>777.000000</td>\n",
              "    </tr>\n",
              "    <tr>\n",
              "      <th>mean</th>\n",
              "      <td>388.000000</td>\n",
              "      <td>18.767696</td>\n",
              "      <td>0.417133</td>\n",
              "      <td>0.282389</td>\n",
              "      <td>0.468817</td>\n",
              "      <td>0.562062</td>\n",
              "      <td>82.277091</td>\n",
              "      <td>49.700515</td>\n",
              "      <td>68.723037</td>\n",
              "      <td>59.309395</td>\n",
              "      <td>28.690219</td>\n",
              "      <td>48.613127</td>\n",
              "      <td>18.309292</td>\n",
              "      <td>0.320000</td>\n",
              "      <td>0.502121</td>\n",
              "      <td>0.445983</td>\n",
              "      <td>36.122432</td>\n",
              "      <td>6012.849165</td>\n",
              "    </tr>\n",
              "    <tr>\n",
              "      <th>std</th>\n",
              "      <td>224.444871</td>\n",
              "      <td>6.999063</td>\n",
              "      <td>0.978904</td>\n",
              "      <td>0.066343</td>\n",
              "      <td>0.161052</td>\n",
              "      <td>0.169119</td>\n",
              "      <td>9.193745</td>\n",
              "      <td>5.595769</td>\n",
              "      <td>7.676984</td>\n",
              "      <td>6.647760</td>\n",
              "      <td>3.209547</td>\n",
              "      <td>5.417072</td>\n",
              "      <td>12.124226</td>\n",
              "      <td>0.171279</td>\n",
              "      <td>0.079445</td>\n",
              "      <td>0.040333</td>\n",
              "      <td>4.377889</td>\n",
              "      <td>1356.955318</td>\n",
              "    </tr>\n",
              "    <tr>\n",
              "      <th>min</th>\n",
              "      <td>0.000000</td>\n",
              "      <td>10.000000</td>\n",
              "      <td>0.000000</td>\n",
              "      <td>0.000000</td>\n",
              "      <td>0.000000</td>\n",
              "      <td>0.000000</td>\n",
              "      <td>69.700000</td>\n",
              "      <td>39.000000</td>\n",
              "      <td>58.200000</td>\n",
              "      <td>50.200000</td>\n",
              "      <td>24.300000</td>\n",
              "      <td>41.200000</td>\n",
              "      <td>1.000000</td>\n",
              "      <td>0.060000</td>\n",
              "      <td>0.192732</td>\n",
              "      <td>0.311921</td>\n",
              "      <td>22.079199</td>\n",
              "      <td>1637.704022</td>\n",
              "    </tr>\n",
              "    <tr>\n",
              "      <th>25%</th>\n",
              "      <td>194.000000</td>\n",
              "      <td>12.500000</td>\n",
              "      <td>0.250000</td>\n",
              "      <td>0.250000</td>\n",
              "      <td>0.380000</td>\n",
              "      <td>0.500000</td>\n",
              "      <td>77.400000</td>\n",
              "      <td>46.800000</td>\n",
              "      <td>64.700000</td>\n",
              "      <td>55.800000</td>\n",
              "      <td>27.000000</td>\n",
              "      <td>45.800000</td>\n",
              "      <td>3.770000</td>\n",
              "      <td>0.100000</td>\n",
              "      <td>0.454725</td>\n",
              "      <td>0.416281</td>\n",
              "      <td>33.116091</td>\n",
              "      <td>5124.854901</td>\n",
              "    </tr>\n",
              "    <tr>\n",
              "      <th>50%</th>\n",
              "      <td>388.000000</td>\n",
              "      <td>12.500000</td>\n",
              "      <td>0.250000</td>\n",
              "      <td>0.250000</td>\n",
              "      <td>0.500000</td>\n",
              "      <td>0.630000</td>\n",
              "      <td>86.000000</td>\n",
              "      <td>52.000000</td>\n",
              "      <td>71.900000</td>\n",
              "      <td>62.000000</td>\n",
              "      <td>30.000000</td>\n",
              "      <td>50.800000</td>\n",
              "      <td>16.000000</td>\n",
              "      <td>0.260000</td>\n",
              "      <td>0.508297</td>\n",
              "      <td>0.445587</td>\n",
              "      <td>36.166044</td>\n",
              "      <td>6107.382466</td>\n",
              "    </tr>\n",
              "    <tr>\n",
              "      <th>75%</th>\n",
              "      <td>582.000000</td>\n",
              "      <td>25.000000</td>\n",
              "      <td>0.500000</td>\n",
              "      <td>0.380000</td>\n",
              "      <td>0.630000</td>\n",
              "      <td>0.750000</td>\n",
              "      <td>89.000000</td>\n",
              "      <td>52.000000</td>\n",
              "      <td>71.900000</td>\n",
              "      <td>66.000000</td>\n",
              "      <td>30.000000</td>\n",
              "      <td>50.800000</td>\n",
              "      <td>24.000000</td>\n",
              "      <td>0.390000</td>\n",
              "      <td>0.561297</td>\n",
              "      <td>0.476149</td>\n",
              "      <td>39.239668</td>\n",
              "      <td>7022.189731</td>\n",
              "    </tr>\n",
              "    <tr>\n",
              "      <th>max</th>\n",
              "      <td>776.000000</td>\n",
              "      <td>40.000000</td>\n",
              "      <td>18.430000</td>\n",
              "      <td>0.585000</td>\n",
              "      <td>0.750000</td>\n",
              "      <td>0.750000</td>\n",
              "      <td>94.600000</td>\n",
              "      <td>57.200000</td>\n",
              "      <td>79.000000</td>\n",
              "      <td>68.200000</td>\n",
              "      <td>33.000000</td>\n",
              "      <td>55.900000</td>\n",
              "      <td>34.000000</td>\n",
              "      <td>0.560000</td>\n",
              "      <td>0.652144</td>\n",
              "      <td>0.535660</td>\n",
              "      <td>46.585105</td>\n",
              "      <td>8969.401842</td>\n",
              "    </tr>\n",
              "  </tbody>\n",
              "</table>\n",
              "</div>"
            ],
            "text/plain": [
              "             Row#   clonesize    honeybee  ...   fruitmass       seeds        yield\n",
              "count  777.000000  777.000000  777.000000  ...  777.000000  777.000000   777.000000\n",
              "mean   388.000000   18.767696    0.417133  ...    0.445983   36.122432  6012.849165\n",
              "std    224.444871    6.999063    0.978904  ...    0.040333    4.377889  1356.955318\n",
              "min      0.000000   10.000000    0.000000  ...    0.311921   22.079199  1637.704022\n",
              "25%    194.000000   12.500000    0.250000  ...    0.416281   33.116091  5124.854901\n",
              "50%    388.000000   12.500000    0.250000  ...    0.445587   36.166044  6107.382466\n",
              "75%    582.000000   25.000000    0.500000  ...    0.476149   39.239668  7022.189731\n",
              "max    776.000000   40.000000   18.430000  ...    0.535660   46.585105  8969.401842\n",
              "\n",
              "[8 rows x 18 columns]"
            ]
          },
          "metadata": {
            "tags": []
          },
          "execution_count": 14
        }
      ]
    },
    {
      "cell_type": "code",
      "metadata": {
        "colab": {
          "base_uri": "https://localhost:8080/",
          "height": 607
        },
        "id": "f2HnBK7507RX",
        "outputId": "2c64356a-27b6-46b3-b1e5-ff7c1e78d178"
      },
      "source": [
        "corr = data.corr()\n",
        "corr"
      ],
      "execution_count": null,
      "outputs": [
        {
          "output_type": "execute_result",
          "data": {
            "text/html": [
              "<div>\n",
              "<style scoped>\n",
              "    .dataframe tbody tr th:only-of-type {\n",
              "        vertical-align: middle;\n",
              "    }\n",
              "\n",
              "    .dataframe tbody tr th {\n",
              "        vertical-align: top;\n",
              "    }\n",
              "\n",
              "    .dataframe thead th {\n",
              "        text-align: right;\n",
              "    }\n",
              "</style>\n",
              "<table border=\"1\" class=\"dataframe\">\n",
              "  <thead>\n",
              "    <tr style=\"text-align: right;\">\n",
              "      <th></th>\n",
              "      <th>Row#</th>\n",
              "      <th>clonesize</th>\n",
              "      <th>honeybee</th>\n",
              "      <th>bumbles</th>\n",
              "      <th>andrena</th>\n",
              "      <th>osmia</th>\n",
              "      <th>MaxOfUpperTRange</th>\n",
              "      <th>MinOfUpperTRange</th>\n",
              "      <th>AverageOfUpperTRange</th>\n",
              "      <th>MaxOfLowerTRange</th>\n",
              "      <th>MinOfLowerTRange</th>\n",
              "      <th>AverageOfLowerTRange</th>\n",
              "      <th>RainingDays</th>\n",
              "      <th>AverageRainingDays</th>\n",
              "      <th>fruitset</th>\n",
              "      <th>fruitmass</th>\n",
              "      <th>seeds</th>\n",
              "      <th>yield</th>\n",
              "    </tr>\n",
              "  </thead>\n",
              "  <tbody>\n",
              "    <tr>\n",
              "      <th>Row#</th>\n",
              "      <td>1.000000</td>\n",
              "      <td>0.438706</td>\n",
              "      <td>0.192404</td>\n",
              "      <td>0.331999</td>\n",
              "      <td>0.446898</td>\n",
              "      <td>0.288531</td>\n",
              "      <td>-0.018204</td>\n",
              "      <td>-0.029893</td>\n",
              "      <td>-0.023144</td>\n",
              "      <td>-0.016947</td>\n",
              "      <td>-0.022430</td>\n",
              "      <td>-0.024338</td>\n",
              "      <td>-0.025894</td>\n",
              "      <td>-0.036481</td>\n",
              "      <td>-0.075130</td>\n",
              "      <td>-0.077495</td>\n",
              "      <td>-0.078344</td>\n",
              "      <td>-0.024942</td>\n",
              "    </tr>\n",
              "    <tr>\n",
              "      <th>clonesize</th>\n",
              "      <td>0.438706</td>\n",
              "      <td>1.000000</td>\n",
              "      <td>0.119745</td>\n",
              "      <td>0.004807</td>\n",
              "      <td>-0.008451</td>\n",
              "      <td>-0.139049</td>\n",
              "      <td>0.034157</td>\n",
              "      <td>0.032854</td>\n",
              "      <td>0.033752</td>\n",
              "      <td>0.034295</td>\n",
              "      <td>0.033768</td>\n",
              "      <td>0.033566</td>\n",
              "      <td>-0.021696</td>\n",
              "      <td>-0.024455</td>\n",
              "      <td>-0.556591</td>\n",
              "      <td>-0.474038</td>\n",
              "      <td>-0.496156</td>\n",
              "      <td>-0.516737</td>\n",
              "    </tr>\n",
              "    <tr>\n",
              "      <th>honeybee</th>\n",
              "      <td>0.192404</td>\n",
              "      <td>0.119745</td>\n",
              "      <td>1.000000</td>\n",
              "      <td>-0.233954</td>\n",
              "      <td>-0.125913</td>\n",
              "      <td>-0.189058</td>\n",
              "      <td>0.026359</td>\n",
              "      <td>0.025467</td>\n",
              "      <td>0.026365</td>\n",
              "      <td>0.026477</td>\n",
              "      <td>0.026104</td>\n",
              "      <td>0.025647</td>\n",
              "      <td>-0.073818</td>\n",
              "      <td>-0.093477</td>\n",
              "      <td>-0.009406</td>\n",
              "      <td>-0.166419</td>\n",
              "      <td>-0.170808</td>\n",
              "      <td>-0.044250</td>\n",
              "    </tr>\n",
              "    <tr>\n",
              "      <th>bumbles</th>\n",
              "      <td>0.331999</td>\n",
              "      <td>0.004807</td>\n",
              "      <td>-0.233954</td>\n",
              "      <td>1.000000</td>\n",
              "      <td>0.010758</td>\n",
              "      <td>0.293665</td>\n",
              "      <td>-0.022863</td>\n",
              "      <td>-0.005801</td>\n",
              "      <td>-0.015821</td>\n",
              "      <td>-0.024662</td>\n",
              "      <td>-0.016801</td>\n",
              "      <td>-0.013985</td>\n",
              "      <td>0.058063</td>\n",
              "      <td>0.075376</td>\n",
              "      <td>0.289890</td>\n",
              "      <td>0.358202</td>\n",
              "      <td>0.380206</td>\n",
              "      <td>0.309407</td>\n",
              "    </tr>\n",
              "    <tr>\n",
              "      <th>andrena</th>\n",
              "      <td>0.446898</td>\n",
              "      <td>-0.008451</td>\n",
              "      <td>-0.125913</td>\n",
              "      <td>0.010758</td>\n",
              "      <td>1.000000</td>\n",
              "      <td>0.387379</td>\n",
              "      <td>-0.026497</td>\n",
              "      <td>-0.023887</td>\n",
              "      <td>-0.025578</td>\n",
              "      <td>-0.026775</td>\n",
              "      <td>-0.025623</td>\n",
              "      <td>-0.025115</td>\n",
              "      <td>0.035297</td>\n",
              "      <td>0.043739</td>\n",
              "      <td>0.102549</td>\n",
              "      <td>0.092470</td>\n",
              "      <td>0.089178</td>\n",
              "      <td>0.140277</td>\n",
              "    </tr>\n",
              "    <tr>\n",
              "      <th>osmia</th>\n",
              "      <td>0.288531</td>\n",
              "      <td>-0.139049</td>\n",
              "      <td>-0.189058</td>\n",
              "      <td>0.293665</td>\n",
              "      <td>0.387379</td>\n",
              "      <td>1.000000</td>\n",
              "      <td>-0.063755</td>\n",
              "      <td>-0.043237</td>\n",
              "      <td>-0.055441</td>\n",
              "      <td>-0.065910</td>\n",
              "      <td>-0.056546</td>\n",
              "      <td>-0.053141</td>\n",
              "      <td>0.083667</td>\n",
              "      <td>0.104188</td>\n",
              "      <td>0.334178</td>\n",
              "      <td>0.336136</td>\n",
              "      <td>0.353116</td>\n",
              "      <td>0.380892</td>\n",
              "    </tr>\n",
              "    <tr>\n",
              "      <th>MaxOfUpperTRange</th>\n",
              "      <td>-0.018204</td>\n",
              "      <td>0.034157</td>\n",
              "      <td>0.026359</td>\n",
              "      <td>-0.022863</td>\n",
              "      <td>-0.026497</td>\n",
              "      <td>-0.063755</td>\n",
              "      <td>1.000000</td>\n",
              "      <td>0.990961</td>\n",
              "      <td>0.998314</td>\n",
              "      <td>0.999900</td>\n",
              "      <td>0.998842</td>\n",
              "      <td>0.997658</td>\n",
              "      <td>-0.003286</td>\n",
              "      <td>-0.005677</td>\n",
              "      <td>-0.130450</td>\n",
              "      <td>0.058492</td>\n",
              "      <td>-0.034486</td>\n",
              "      <td>-0.187075</td>\n",
              "    </tr>\n",
              "    <tr>\n",
              "      <th>MinOfUpperTRange</th>\n",
              "      <td>-0.029893</td>\n",
              "      <td>0.032854</td>\n",
              "      <td>0.025467</td>\n",
              "      <td>-0.005801</td>\n",
              "      <td>-0.023887</td>\n",
              "      <td>-0.043237</td>\n",
              "      <td>0.990961</td>\n",
              "      <td>1.000000</td>\n",
              "      <td>0.997056</td>\n",
              "      <td>0.988988</td>\n",
              "      <td>0.996267</td>\n",
              "      <td>0.997798</td>\n",
              "      <td>-0.000798</td>\n",
              "      <td>-0.001889</td>\n",
              "      <td>-0.119856</td>\n",
              "      <td>0.067671</td>\n",
              "      <td>-0.024240</td>\n",
              "      <td>-0.175883</td>\n",
              "    </tr>\n",
              "    <tr>\n",
              "      <th>AverageOfUpperTRange</th>\n",
              "      <td>-0.023144</td>\n",
              "      <td>0.033752</td>\n",
              "      <td>0.026365</td>\n",
              "      <td>-0.015821</td>\n",
              "      <td>-0.025578</td>\n",
              "      <td>-0.055441</td>\n",
              "      <td>0.998314</td>\n",
              "      <td>0.997056</td>\n",
              "      <td>1.000000</td>\n",
              "      <td>0.997413</td>\n",
              "      <td>0.999944</td>\n",
              "      <td>0.999923</td>\n",
              "      <td>-0.002325</td>\n",
              "      <td>-0.004195</td>\n",
              "      <td>-0.125082</td>\n",
              "      <td>0.064034</td>\n",
              "      <td>-0.028925</td>\n",
              "      <td>-0.181774</td>\n",
              "    </tr>\n",
              "    <tr>\n",
              "      <th>MaxOfLowerTRange</th>\n",
              "      <td>-0.016947</td>\n",
              "      <td>0.034295</td>\n",
              "      <td>0.026477</td>\n",
              "      <td>-0.024662</td>\n",
              "      <td>-0.026775</td>\n",
              "      <td>-0.065910</td>\n",
              "      <td>0.999900</td>\n",
              "      <td>0.988988</td>\n",
              "      <td>0.997413</td>\n",
              "      <td>1.000000</td>\n",
              "      <td>0.998071</td>\n",
              "      <td>0.996609</td>\n",
              "      <td>-0.003558</td>\n",
              "      <td>-0.006087</td>\n",
              "      <td>-0.130693</td>\n",
              "      <td>0.058487</td>\n",
              "      <td>-0.034674</td>\n",
              "      <td>-0.187439</td>\n",
              "    </tr>\n",
              "    <tr>\n",
              "      <th>MinOfLowerTRange</th>\n",
              "      <td>-0.022430</td>\n",
              "      <td>0.033768</td>\n",
              "      <td>0.026104</td>\n",
              "      <td>-0.016801</td>\n",
              "      <td>-0.025623</td>\n",
              "      <td>-0.056546</td>\n",
              "      <td>0.998842</td>\n",
              "      <td>0.996267</td>\n",
              "      <td>0.999944</td>\n",
              "      <td>0.998071</td>\n",
              "      <td>1.000000</td>\n",
              "      <td>0.999787</td>\n",
              "      <td>-0.002403</td>\n",
              "      <td>-0.004334</td>\n",
              "      <td>-0.126788</td>\n",
              "      <td>0.062093</td>\n",
              "      <td>-0.030727</td>\n",
              "      <td>-0.183339</td>\n",
              "    </tr>\n",
              "    <tr>\n",
              "      <th>AverageOfLowerTRange</th>\n",
              "      <td>-0.024338</td>\n",
              "      <td>0.033566</td>\n",
              "      <td>0.025647</td>\n",
              "      <td>-0.013985</td>\n",
              "      <td>-0.025115</td>\n",
              "      <td>-0.053141</td>\n",
              "      <td>0.997658</td>\n",
              "      <td>0.997798</td>\n",
              "      <td>0.999923</td>\n",
              "      <td>0.996609</td>\n",
              "      <td>0.999787</td>\n",
              "      <td>1.000000</td>\n",
              "      <td>-0.001925</td>\n",
              "      <td>-0.003626</td>\n",
              "      <td>-0.124784</td>\n",
              "      <td>0.064181</td>\n",
              "      <td>-0.028621</td>\n",
              "      <td>-0.181293</td>\n",
              "    </tr>\n",
              "    <tr>\n",
              "      <th>RainingDays</th>\n",
              "      <td>-0.025894</td>\n",
              "      <td>-0.021696</td>\n",
              "      <td>-0.073818</td>\n",
              "      <td>0.058063</td>\n",
              "      <td>0.035297</td>\n",
              "      <td>0.083667</td>\n",
              "      <td>-0.003286</td>\n",
              "      <td>-0.000798</td>\n",
              "      <td>-0.002325</td>\n",
              "      <td>-0.003558</td>\n",
              "      <td>-0.002403</td>\n",
              "      <td>-0.001925</td>\n",
              "      <td>1.000000</td>\n",
              "      <td>0.991395</td>\n",
              "      <td>-0.484229</td>\n",
              "      <td>-0.452328</td>\n",
              "      <td>-0.475462</td>\n",
              "      <td>-0.540069</td>\n",
              "    </tr>\n",
              "    <tr>\n",
              "      <th>AverageRainingDays</th>\n",
              "      <td>-0.036481</td>\n",
              "      <td>-0.024455</td>\n",
              "      <td>-0.093477</td>\n",
              "      <td>0.075376</td>\n",
              "      <td>0.043739</td>\n",
              "      <td>0.104188</td>\n",
              "      <td>-0.005677</td>\n",
              "      <td>-0.001889</td>\n",
              "      <td>-0.004195</td>\n",
              "      <td>-0.006087</td>\n",
              "      <td>-0.004334</td>\n",
              "      <td>-0.003626</td>\n",
              "      <td>0.991395</td>\n",
              "      <td>1.000000</td>\n",
              "      <td>-0.488809</td>\n",
              "      <td>-0.451837</td>\n",
              "      <td>-0.474528</td>\n",
              "      <td>-0.541215</td>\n",
              "    </tr>\n",
              "    <tr>\n",
              "      <th>fruitset</th>\n",
              "      <td>-0.075130</td>\n",
              "      <td>-0.556591</td>\n",
              "      <td>-0.009406</td>\n",
              "      <td>0.289890</td>\n",
              "      <td>0.102549</td>\n",
              "      <td>0.334178</td>\n",
              "      <td>-0.130450</td>\n",
              "      <td>-0.119856</td>\n",
              "      <td>-0.125082</td>\n",
              "      <td>-0.130693</td>\n",
              "      <td>-0.126788</td>\n",
              "      <td>-0.124784</td>\n",
              "      <td>-0.484229</td>\n",
              "      <td>-0.488809</td>\n",
              "      <td>1.000000</td>\n",
              "      <td>0.948193</td>\n",
              "      <td>0.966694</td>\n",
              "      <td>0.984081</td>\n",
              "    </tr>\n",
              "    <tr>\n",
              "      <th>fruitmass</th>\n",
              "      <td>-0.077495</td>\n",
              "      <td>-0.474038</td>\n",
              "      <td>-0.166419</td>\n",
              "      <td>0.358202</td>\n",
              "      <td>0.092470</td>\n",
              "      <td>0.336136</td>\n",
              "      <td>0.058492</td>\n",
              "      <td>0.067671</td>\n",
              "      <td>0.064034</td>\n",
              "      <td>0.058487</td>\n",
              "      <td>0.062093</td>\n",
              "      <td>0.064181</td>\n",
              "      <td>-0.452328</td>\n",
              "      <td>-0.451837</td>\n",
              "      <td>0.948193</td>\n",
              "      <td>1.000000</td>\n",
              "      <td>0.991270</td>\n",
              "      <td>0.930365</td>\n",
              "    </tr>\n",
              "    <tr>\n",
              "      <th>seeds</th>\n",
              "      <td>-0.078344</td>\n",
              "      <td>-0.496156</td>\n",
              "      <td>-0.170808</td>\n",
              "      <td>0.380206</td>\n",
              "      <td>0.089178</td>\n",
              "      <td>0.353116</td>\n",
              "      <td>-0.034486</td>\n",
              "      <td>-0.024240</td>\n",
              "      <td>-0.028925</td>\n",
              "      <td>-0.034674</td>\n",
              "      <td>-0.030727</td>\n",
              "      <td>-0.028621</td>\n",
              "      <td>-0.475462</td>\n",
              "      <td>-0.474528</td>\n",
              "      <td>0.966694</td>\n",
              "      <td>0.991270</td>\n",
              "      <td>1.000000</td>\n",
              "      <td>0.961249</td>\n",
              "    </tr>\n",
              "    <tr>\n",
              "      <th>yield</th>\n",
              "      <td>-0.024942</td>\n",
              "      <td>-0.516737</td>\n",
              "      <td>-0.044250</td>\n",
              "      <td>0.309407</td>\n",
              "      <td>0.140277</td>\n",
              "      <td>0.380892</td>\n",
              "      <td>-0.187075</td>\n",
              "      <td>-0.175883</td>\n",
              "      <td>-0.181774</td>\n",
              "      <td>-0.187439</td>\n",
              "      <td>-0.183339</td>\n",
              "      <td>-0.181293</td>\n",
              "      <td>-0.540069</td>\n",
              "      <td>-0.541215</td>\n",
              "      <td>0.984081</td>\n",
              "      <td>0.930365</td>\n",
              "      <td>0.961249</td>\n",
              "      <td>1.000000</td>\n",
              "    </tr>\n",
              "  </tbody>\n",
              "</table>\n",
              "</div>"
            ],
            "text/plain": [
              "                          Row#  clonesize  ...     seeds     yield\n",
              "Row#                  1.000000   0.438706  ... -0.078344 -0.024942\n",
              "clonesize             0.438706   1.000000  ... -0.496156 -0.516737\n",
              "honeybee              0.192404   0.119745  ... -0.170808 -0.044250\n",
              "bumbles               0.331999   0.004807  ...  0.380206  0.309407\n",
              "andrena               0.446898  -0.008451  ...  0.089178  0.140277\n",
              "osmia                 0.288531  -0.139049  ...  0.353116  0.380892\n",
              "MaxOfUpperTRange     -0.018204   0.034157  ... -0.034486 -0.187075\n",
              "MinOfUpperTRange     -0.029893   0.032854  ... -0.024240 -0.175883\n",
              "AverageOfUpperTRange -0.023144   0.033752  ... -0.028925 -0.181774\n",
              "MaxOfLowerTRange     -0.016947   0.034295  ... -0.034674 -0.187439\n",
              "MinOfLowerTRange     -0.022430   0.033768  ... -0.030727 -0.183339\n",
              "AverageOfLowerTRange -0.024338   0.033566  ... -0.028621 -0.181293\n",
              "RainingDays          -0.025894  -0.021696  ... -0.475462 -0.540069\n",
              "AverageRainingDays   -0.036481  -0.024455  ... -0.474528 -0.541215\n",
              "fruitset             -0.075130  -0.556591  ...  0.966694  0.984081\n",
              "fruitmass            -0.077495  -0.474038  ...  0.991270  0.930365\n",
              "seeds                -0.078344  -0.496156  ...  1.000000  0.961249\n",
              "yield                -0.024942  -0.516737  ...  0.961249  1.000000\n",
              "\n",
              "[18 rows x 18 columns]"
            ]
          },
          "metadata": {
            "tags": []
          },
          "execution_count": 15
        }
      ]
    },
    {
      "cell_type": "code",
      "metadata": {
        "colab": {
          "base_uri": "https://localhost:8080/"
        },
        "id": "vN79f_Hj-_Bk",
        "outputId": "45ed5375-13aa-4509-8a34-c4a1286d0b39"
      },
      "source": [
        "data.info()"
      ],
      "execution_count": null,
      "outputs": [
        {
          "output_type": "stream",
          "text": [
            "<class 'pandas.core.frame.DataFrame'>\n",
            "RangeIndex: 777 entries, 0 to 776\n",
            "Data columns (total 18 columns):\n",
            " #   Column                Non-Null Count  Dtype  \n",
            "---  ------                --------------  -----  \n",
            " 0   Row#                  777 non-null    int64  \n",
            " 1   clonesize             777 non-null    float64\n",
            " 2   honeybee              777 non-null    float64\n",
            " 3   bumbles               777 non-null    float64\n",
            " 4   andrena               777 non-null    float64\n",
            " 5   osmia                 777 non-null    float64\n",
            " 6   MaxOfUpperTRange      777 non-null    float64\n",
            " 7   MinOfUpperTRange      777 non-null    float64\n",
            " 8   AverageOfUpperTRange  777 non-null    float64\n",
            " 9   MaxOfLowerTRange      777 non-null    float64\n",
            " 10  MinOfLowerTRange      777 non-null    float64\n",
            " 11  AverageOfLowerTRange  777 non-null    float64\n",
            " 12  RainingDays           777 non-null    float64\n",
            " 13  AverageRainingDays    777 non-null    float64\n",
            " 14  fruitset              777 non-null    float64\n",
            " 15  fruitmass             777 non-null    float64\n",
            " 16  seeds                 777 non-null    float64\n",
            " 17  yield                 777 non-null    float64\n",
            "dtypes: float64(17), int64(1)\n",
            "memory usage: 109.4 KB\n"
          ],
          "name": "stdout"
        }
      ]
    },
    {
      "cell_type": "code",
      "metadata": {
        "id": "E-ClkAG-_P5e"
      },
      "source": [
        "data = data.drop(['Row#'], axis=1)"
      ],
      "execution_count": null,
      "outputs": []
    },
    {
      "cell_type": "code",
      "metadata": {
        "colab": {
          "base_uri": "https://localhost:8080/"
        },
        "id": "kOf6PzSv_fWr",
        "outputId": "27f8187b-8135-459f-e518-85845a68e5f3"
      },
      "source": [
        "data.info()"
      ],
      "execution_count": null,
      "outputs": [
        {
          "output_type": "stream",
          "text": [
            "<class 'pandas.core.frame.DataFrame'>\n",
            "RangeIndex: 777 entries, 0 to 776\n",
            "Data columns (total 17 columns):\n",
            " #   Column                Non-Null Count  Dtype  \n",
            "---  ------                --------------  -----  \n",
            " 0   clonesize             777 non-null    float64\n",
            " 1   honeybee              777 non-null    float64\n",
            " 2   bumbles               777 non-null    float64\n",
            " 3   andrena               777 non-null    float64\n",
            " 4   osmia                 777 non-null    float64\n",
            " 5   MaxOfUpperTRange      777 non-null    float64\n",
            " 6   MinOfUpperTRange      777 non-null    float64\n",
            " 7   AverageOfUpperTRange  777 non-null    float64\n",
            " 8   MaxOfLowerTRange      777 non-null    float64\n",
            " 9   MinOfLowerTRange      777 non-null    float64\n",
            " 10  AverageOfLowerTRange  777 non-null    float64\n",
            " 11  RainingDays           777 non-null    float64\n",
            " 12  AverageRainingDays    777 non-null    float64\n",
            " 13  fruitset              777 non-null    float64\n",
            " 14  fruitmass             777 non-null    float64\n",
            " 15  seeds                 777 non-null    float64\n",
            " 16  yield                 777 non-null    float64\n",
            "dtypes: float64(17)\n",
            "memory usage: 103.3 KB\n"
          ],
          "name": "stdout"
        }
      ]
    },
    {
      "cell_type": "code",
      "metadata": {
        "id": "U4zsEE6o0T61"
      },
      "source": [
        "X = data.drop('yield',axis=1)\n",
        "Y = data['yield']\n",
        "SS = StandardScaler()\n",
        "X = SS.fit_transform(X)"
      ],
      "execution_count": null,
      "outputs": []
    },
    {
      "cell_type": "code",
      "metadata": {
        "id": "hcUdA7hsvVrJ"
      },
      "source": [
        "from sklearn.model_selection import train_test_split\n",
        "X_train, X_test, Y_train, Y_test = train_test_split(X, Y, test_size = 0.2, random_state = 0)"
      ],
      "execution_count": null,
      "outputs": []
    },
    {
      "cell_type": "markdown",
      "metadata": {
        "id": "-VbP-lGYKagT"
      },
      "source": [
        "# Linear Regression"
      ]
    },
    {
      "cell_type": "code",
      "metadata": {
        "colab": {
          "base_uri": "https://localhost:8080/"
        },
        "id": "7QqGthMc3-yt",
        "outputId": "12a78414-fb86-4dc9-d8cc-e5502b182a03"
      },
      "source": [
        "from sklearn.linear_model import LinearRegression\n",
        "regressor = LinearRegression()\n",
        "regressor.fit(X_train, Y_train)\n"
      ],
      "execution_count": null,
      "outputs": [
        {
          "output_type": "execute_result",
          "data": {
            "text/plain": [
              "LinearRegression(copy_X=True, fit_intercept=True, n_jobs=None, normalize=False)"
            ]
          },
          "metadata": {
            "tags": []
          },
          "execution_count": 21
        }
      ]
    },
    {
      "cell_type": "code",
      "metadata": {
        "id": "B6S0LUkr3-vU"
      },
      "source": [
        "y_pred = regressor.predict(X_test)"
      ],
      "execution_count": null,
      "outputs": []
    },
    {
      "cell_type": "code",
      "metadata": {
        "colab": {
          "base_uri": "https://localhost:8080/"
        },
        "id": "QTeCziAD4uY4",
        "outputId": "2fc62c54-e8c4-4faf-9465-fca249119dab"
      },
      "source": [
        "print('Train Score: ', regressor.score(X_train, Y_train))  \n",
        "print('Test Score: ', regressor.score(X_test, Y_test))  "
      ],
      "execution_count": null,
      "outputs": [
        {
          "output_type": "stream",
          "text": [
            "Train Score:  0.9920835488940398\n",
            "Test Score:  -1.275553237188825\n"
          ],
          "name": "stdout"
        }
      ]
    },
    {
      "cell_type": "code",
      "metadata": {
        "colab": {
          "base_uri": "https://localhost:8080/"
        },
        "id": "3xIQBQnZ4uVU",
        "outputId": "90eeb84c-5905-4fe4-c56b-973fc38de880"
      },
      "source": [
        "from sklearn import metrics\n",
        "#MAE\n",
        "print(metrics.mean_absolute_error(Y_test,y_pred))"
      ],
      "execution_count": null,
      "outputs": [
        {
          "output_type": "stream",
          "text": [
            "329.2287674998951\n"
          ],
          "name": "stdout"
        }
      ]
    },
    {
      "cell_type": "code",
      "metadata": {
        "colab": {
          "base_uri": "https://localhost:8080/"
        },
        "id": "GkF7lQsnEeF9",
        "outputId": "6c0914b1-19a0-4426-9b46-8835c83f0296"
      },
      "source": [
        "#RMSE\n",
        "print(np.sqrt(metrics.mean_squared_error(Y_test,y_pred)))"
      ],
      "execution_count": null,
      "outputs": [
        {
          "output_type": "stream",
          "text": [
            "2080.7556991305614\n"
          ],
          "name": "stdout"
        }
      ]
    },
    {
      "cell_type": "code",
      "metadata": {
        "colab": {
          "base_uri": "https://localhost:8080/"
        },
        "id": "OoCc5856FbU_",
        "outputId": "47065e14-04df-4c52-acea-4d4ac106c432"
      },
      "source": [
        "from sklearn.metrics import r2_score\n",
        "r2 = r2_score(Y_test, y_pred)\n",
        "print('r2 score for perfect model is', r2)"
      ],
      "execution_count": null,
      "outputs": [
        {
          "output_type": "stream",
          "text": [
            "r2 score for perfect model is -1.275553237188825\n"
          ],
          "name": "stdout"
        }
      ]
    },
    {
      "cell_type": "code",
      "metadata": {
        "id": "VAidUHjx_-G2"
      },
      "source": [
        ""
      ],
      "execution_count": null,
      "outputs": []
    },
    {
      "cell_type": "markdown",
      "metadata": {
        "id": "5WA98cvfGRLR"
      },
      "source": [
        "# XGBOOST"
      ]
    },
    {
      "cell_type": "code",
      "metadata": {
        "id": "h6bs1eVHItWS"
      },
      "source": [
        "import xgboost as xgb\n",
        "data_dmatrix = xgb.DMatrix(data=X,label=Y)\n",
        "from sklearn.model_selection import train_test_split\n",
        "\n",
        "X_train, X_test, y_train, y_test = train_test_split(X, Y, test_size=0.2, random_state=0)"
      ],
      "execution_count": null,
      "outputs": []
    },
    {
      "cell_type": "code",
      "metadata": {
        "colab": {
          "base_uri": "https://localhost:8080/"
        },
        "id": "QW4U7INMGBqE",
        "outputId": "052af6bd-4550-4292-be77-473c4a28d2f7"
      },
      "source": [
        "from sklearn.model_selection import train_test_split\n",
        "from sklearn.metrics import mean_squared_error \n",
        "from xgboost import plot_importance\n",
        "from matplotlib import pyplot\n",
        "  \n",
        "xg_reg = xgb.XGBRegressor(objective ='reg:linear')\n",
        "xg_reg.fit(X_train,Y_train)\n",
        "#plot_importance(xg_reg)\n",
        "print(xg_reg.feature_importances_)\n",
        "# plot\n",
        "pyplot.bar(range(len(xg_reg.feature_importances_)), xg_reg.feature_importances_)\n",
        "pyplot.show()\n",
        "\n",
        "\n",
        "preds = xg_reg.predict(X_test)"
      ],
      "execution_count": null,
      "outputs": [
        {
          "output_type": "stream",
          "text": [
            "[10:59:21] WARNING: /workspace/src/objective/regression_obj.cu:152: reg:linear is now deprecated in favor of reg:squarederror.\n",
            "[0.00111619 0.01132601 0.00113598 0.00500647 0.01168767 0.01226971\n",
            " 0.         0.         0.         0.         0.         0.02149066\n",
            " 0.         0.7755117  0.00339    0.15706559]\n"
          ],
          "name": "stdout"
        },
        {
          "output_type": "display_data",
          "data": {
            "image/png": "[encoded data removed]",
            "text/plain": [
              "<Figure size 432x288 with 1 Axes>"
            ]
          },
          "metadata": {
            "tags": [],
            "needs_background": "light"
          }
        }
      ]
    },
    {
      "cell_type": "code",
      "metadata": {
        "colab": {
          "base_uri": "https://localhost:8080/"
        },
        "id": "AVHuoxtoGBmd",
        "outputId": "ae07708a-a1a1-434c-bf89-2e1e5bfa5782"
      },
      "source": [
        "print('Train Score: ', xg_reg.score(X_train, Y_train))  \n",
        "print('Test Score: ', xg_reg.score(X_test, Y_test)) "
      ],
      "execution_count": null,
      "outputs": [
        {
          "output_type": "stream",
          "text": [
            "Train Score:  0.9952433260563245\n",
            "Test Score:  0.9869738270715963\n"
          ],
          "name": "stdout"
        }
      ]
    },
    {
      "cell_type": "code",
      "metadata": {
        "colab": {
          "base_uri": "https://localhost:8080/"
        },
        "id": "urOGSzaDKm3Z",
        "outputId": "ca13f155-0db2-499e-91a8-6acc54301cb6"
      },
      "source": [
        "#MAE\n",
        "print(metrics.mean_absolute_error(Y_test,preds))"
      ],
      "execution_count": null,
      "outputs": [
        {
          "output_type": "stream",
          "text": [
            "113.46043250620995\n"
          ],
          "name": "stdout"
        }
      ]
    },
    {
      "cell_type": "code",
      "metadata": {
        "colab": {
          "base_uri": "https://localhost:8080/"
        },
        "id": "dEiXhhfzKweX",
        "outputId": "d45c3704-b6af-4636-e352-5f3ca3928320"
      },
      "source": [
        "#RMSE\n",
        "print(np.sqrt(metrics.mean_squared_error(Y_test,preds)))"
      ],
      "execution_count": null,
      "outputs": [
        {
          "output_type": "stream",
          "text": [
            "157.42946236301336\n"
          ],
          "name": "stdout"
        }
      ]
    },
    {
      "cell_type": "markdown",
      "metadata": {
        "id": "tj8za99kNT6i"
      },
      "source": [
        "# xg_boost_feature"
      ]
    },
    {
      "cell_type": "code",
      "metadata": {
        "colab": {
          "base_uri": "https://localhost:8080/"
        },
        "id": "EDd0PiDhTLi-",
        "outputId": "3dbbebe7-89d2-48f6-ec95-2a296b7a3571"
      },
      "source": [
        "data.info()"
      ],
      "execution_count": null,
      "outputs": [
        {
          "output_type": "stream",
          "text": [
            "<class 'pandas.core.frame.DataFrame'>\n",
            "RangeIndex: 777 entries, 0 to 776\n",
            "Data columns (total 17 columns):\n",
            " #   Column                Non-Null Count  Dtype  \n",
            "---  ------                --------------  -----  \n",
            " 0   clonesize             777 non-null    float64\n",
            " 1   honeybee              777 non-null    float64\n",
            " 2   bumbles               777 non-null    float64\n",
            " 3   andrena               777 non-null    float64\n",
            " 4   osmia                 777 non-null    float64\n",
            " 5   MaxOfUpperTRange      777 non-null    float64\n",
            " 6   MinOfUpperTRange      777 non-null    float64\n",
            " 7   AverageOfUpperTRange  777 non-null    float64\n",
            " 8   MaxOfLowerTRange      777 non-null    float64\n",
            " 9   MinOfLowerTRange      777 non-null    float64\n",
            " 10  AverageOfLowerTRange  777 non-null    float64\n",
            " 11  RainingDays           777 non-null    float64\n",
            " 12  AverageRainingDays    777 non-null    float64\n",
            " 13  fruitset              777 non-null    float64\n",
            " 14  fruitmass             777 non-null    float64\n",
            " 15  seeds                 777 non-null    float64\n",
            " 16  yield                 777 non-null    float64\n",
            "dtypes: float64(17)\n",
            "memory usage: 103.3 KB\n"
          ],
          "name": "stdout"
        }
      ]
    },
    {
      "cell_type": "code",
      "metadata": {
        "id": "uQlfiWx8NTkT"
      },
      "source": [
        "X = data[[\"honeybee\",\"andrena\",\"osmia\",\"MaxOfUpperTRange\",\"RainingDays\",\"fruitset\",\"seeds\"]]\n",
        "Y = data[\"yield\"]"
      ],
      "execution_count": null,
      "outputs": []
    },
    {
      "cell_type": "code",
      "metadata": {
        "id": "WNbm8utWNTh7"
      },
      "source": [
        "from sklearn.model_selection import train_test_split\n",
        "\n",
        "X_train_xg, X_test_xg, y_train_xg, y_test_xg = train_test_split(X, Y, test_size=0.2, random_state=0)"
      ],
      "execution_count": null,
      "outputs": []
    },
    {
      "cell_type": "code",
      "metadata": {
        "colab": {
          "base_uri": "https://localhost:8080/"
        },
        "id": "JSGFCSeRNTer",
        "outputId": "0f93ce0a-4f22-421f-f83d-bd1ca3813558"
      },
      "source": [
        "import xgboost as xgb\n",
        "from sklearn.model_selection import train_test_split\n",
        "from sklearn.metrics import mean_squared_error \n",
        "from xgboost import plot_importance\n",
        "from matplotlib import pyplot\n",
        "  \n",
        "xg_reg = xgb.XGBRegressor(objective ='reg:linear')\n",
        "xg_reg.fit(X_train_xg,y_train_xg)\n",
        "\n",
        "preds_xg = xg_reg.predict(X_test_xg)"
      ],
      "execution_count": null,
      "outputs": [
        {
          "output_type": "stream",
          "text": [
            "[10:59:21] WARNING: /workspace/src/objective/regression_obj.cu:152: reg:linear is now deprecated in favor of reg:squarederror.\n"
          ],
          "name": "stdout"
        }
      ]
    },
    {
      "cell_type": "code",
      "metadata": {
        "colab": {
          "base_uri": "https://localhost:8080/"
        },
        "id": "xgz_L2vtRzw_",
        "outputId": "b318e54d-aa9b-42b0-c6c6-963f0a8b8bf0"
      },
      "source": [
        "print('Train Score: ', xg_reg.score(X_train_xg, y_train_xg))  \n",
        "print('Test Score: ', xg_reg.score(X_test_xg, y_test_xg)) "
      ],
      "execution_count": null,
      "outputs": [
        {
          "output_type": "stream",
          "text": [
            "Train Score:  0.9950813138407734\n",
            "Test Score:  0.9869285575758853\n"
          ],
          "name": "stdout"
        }
      ]
    },
    {
      "cell_type": "code",
      "metadata": {
        "colab": {
          "base_uri": "https://localhost:8080/"
        },
        "id": "AtH0ND-RSG6l",
        "outputId": "75dfa4b3-d3e2-4ab5-872a-ce1321f6eee0"
      },
      "source": [
        "# #MAE\n",
        "print(metrics.mean_absolute_error(y_test_xg,preds_xg))\n",
        "# #RMSE\n",
        "print(np.sqrt(metrics.mean_squared_error(y_test_xg,preds_xg)))"
      ],
      "execution_count": null,
      "outputs": [
        {
          "output_type": "stream",
          "text": [
            "113.48385700420673\n",
            "157.70278021681665\n"
          ],
          "name": "stdout"
        }
      ]
    },
    {
      "cell_type": "markdown",
      "metadata": {
        "id": "49tT7LNIWB1U"
      },
      "source": [
        "#PCA"
      ]
    },
    {
      "cell_type": "code",
      "metadata": {
        "colab": {
          "base_uri": "https://localhost:8080/"
        },
        "id": "Y0d_GmWUWA_8",
        "outputId": "e291107e-a47a-4699-ac73-ddc4df76e53d"
      },
      "source": [
        "from sklearn.decomposition import PCA\n",
        "pca = PCA(n_components=3)\n",
        "pca = pca.fit(X)\n",
        "# summarize components\n",
        "print(\"Explained Variance: %s\" % pca.explained_variance_ratio_)\n",
        "\n",
        "pca = PCA().fit(X)\n",
        "pyplot.plot(np.cumsum(pca.explained_variance_ratio_))\n",
        "pyplot.xlabel('number of components')\n",
        "pyplot.ylabel('cumulative explained variance');\n"
      ],
      "execution_count": null,
      "outputs": [
        {
          "output_type": "stream",
          "text": [
            "Explained Variance: [0.60309981 0.33592675 0.05721854]\n"
          ],
          "name": "stdout"
        },
        {
          "output_type": "display_data",
          "data": {
            "image/png": "[encoded data removed]",
            "text/plain": [
              "<Figure size 432x288 with 1 Axes>"
            ]
          },
          "metadata": {
            "tags": [],
            "needs_background": "light"
          }
        }
      ]
    },
    {
      "cell_type": "code",
      "metadata": {
        "id": "3OpgqutRYYVg"
      },
      "source": [
        "X = data[[\"fruitset\",\"seeds\"]]\n",
        "Y = data[\"yield\"]"
      ],
      "execution_count": null,
      "outputs": []
    },
    {
      "cell_type": "code",
      "metadata": {
        "id": "bNTp76FjZhwp"
      },
      "source": [
        "from sklearn.model_selection import train_test_split\n",
        "X_train_lr, X_test_lr, Y_train_lr, Y_test_lr = train_test_split(X, Y, test_size = 0.2, random_state = 0)"
      ],
      "execution_count": null,
      "outputs": []
    },
    {
      "cell_type": "code",
      "metadata": {
        "id": "WcJV8cWJYtEG"
      },
      "source": [
        "from sklearn.linear_model import LinearRegression\n",
        "regressor = LinearRegression()\n",
        "regressor.fit(X_train_lr, Y_train_lr)\n",
        "y_pred_lr = regressor.predict(X_test_lr)"
      ],
      "execution_count": null,
      "outputs": []
    },
    {
      "cell_type": "code",
      "metadata": {
        "colab": {
          "base_uri": "https://localhost:8080/"
        },
        "id": "DmoMOKb3Yxar",
        "outputId": "3fcd458b-ed7e-4ee8-fba4-51b29af803f3"
      },
      "source": [
        "print('Train Score: ', regressor.score(X_train_lr, Y_train_lr))  \n",
        "print('Test Score: ', regressor.score(X_test_lr, Y_test_lr))  "
      ],
      "execution_count": null,
      "outputs": [
        {
          "output_type": "stream",
          "text": [
            "Train Score:  0.9693444476970631\n",
            "Test Score:  0.9719754960265283\n"
          ],
          "name": "stdout"
        }
      ]
    },
    {
      "cell_type": "code",
      "metadata": {
        "colab": {
          "base_uri": "https://localhost:8080/"
        },
        "id": "h7qs9e9eYxX7",
        "outputId": "d4f99f4d-5b67-4e75-8717-cbc48c66c496"
      },
      "source": [
        "from sklearn import metrics\n",
        "#MAE\n",
        "print(metrics.mean_absolute_error(Y_test_lr,y_pred_lr))"
      ],
      "execution_count": null,
      "outputs": [
        {
          "output_type": "stream",
          "text": [
            "179.38422867927713\n"
          ],
          "name": "stdout"
        }
      ]
    },
    {
      "cell_type": "code",
      "metadata": {
        "colab": {
          "base_uri": "https://localhost:8080/"
        },
        "id": "xOiQu9LRYxVb",
        "outputId": "9a7d2e3a-38c1-497d-b812-f356792dc725"
      },
      "source": [
        "#RMSE\n",
        "print(np.sqrt(metrics.mean_squared_error(Y_test_lr,y_pred_lr)))"
      ],
      "execution_count": null,
      "outputs": [
        {
          "output_type": "stream",
          "text": [
            "230.91203030155697\n"
          ],
          "name": "stdout"
        }
      ]
    },
    {
      "cell_type": "code",
      "metadata": {
        "id": "7bL0VPTvYxSo"
      },
      "source": [
        "# from sklearn.metrics import r2_score\n",
        "# r2 = r2_score(Y_test, y_pred)\n",
        "# print('r2 score for perfect model is', r2)"
      ],
      "execution_count": null,
      "outputs": []
    },
    {
      "cell_type": "code",
      "metadata": {
        "id": "hTmwjhNAzxsg"
      },
      "source": [
        "# import pickle\n",
        "# with open('LR_model.pkl', 'wb') as LR_model_file:\n",
        "#   pickle.dump(regressor, LR_model_file)"
      ],
      "execution_count": null,
      "outputs": []
    },
    {
      "cell_type": "code",
      "metadata": {
        "colab": {
          "base_uri": "https://localhost:8080/"
        },
        "id": "DLkmtrOuBjLQ",
        "outputId": "5e9915ad-5593-4ee2-bf04-3c14c2be9d90"
      },
      "source": [
        "  client.software_specifications.list()"
      ],
      "execution_count": null,
      "outputs": [
        {
          "output_type": "stream",
          "text": [
            "-----------------------------  ------------------------------------  ----\n",
            "NAME                           ASSET_ID                              TYPE\n",
            "default_py3.6                  0062b8c9-8b7d-44a0-a9b9-46c416adcbd9  base\n",
            "pytorch-onnx_1.3-py3.7-edt     069ea134-3346-5748-b513-49120e15d288  base\n",
            "scikit-learn_0.20-py3.6        09c5a1d0-9c1e-4473-a344-eb7b665ff687  base\n",
            "spark-mllib_3.0-scala_2.12     09f4cff0-90a7-5899-b9ed-1ef348aebdee  base\n",
            "ai-function_0.1-py3.6          0cdb0f1e-5376-4f4d-92dd-da3b69aa9bda  base\n",
            "shiny-r3.6                     0e6e79df-875e-4f24-8ae9-62dcc2148306  base\n",
            "pytorch_1.1-py3.6              10ac12d6-6b30-4ccd-8392-3e922c096a92  base\n",
            "tensorflow_1.15-py3.6-ddl      111e41b3-de2d-5422-a4d6-bf776828c4b7  base\n",
            "scikit-learn_0.22-py3.6        154010fa-5b3b-4ac1-82af-4d5ee5abbc85  base\n",
            "default_r3.6                   1b70aec3-ab34-4b87-8aa0-a4a3c8296a36  base\n",
            "pytorch-onnx_1.3-py3.6         1bc6029a-cc97-56da-b8e0-39c3880dbbe7  base\n",
            "tensorflow_2.1-py3.6           1eb25b84-d6ed-5dde-b6a5-3fbdf1665666  base\n",
            "tensorflow_1.15-py3.6          2b73a275-7cbf-420b-a912-eae7f436e0bc  base\n",
            "pytorch_1.2-py3.6              2c8ef57d-2687-4b7d-acce-01f94976dac1  base\n",
            "spark-mllib_2.3                2e51f700-bca0-4b0d-88dc-5c6791338875  base\n",
            "pytorch-onnx_1.1-py3.6-edt     32983cea-3f32-4400-8965-dde874a8d67e  base\n",
            "spark-mllib_3.0-py37           36507ebe-8770-55ba-ab2a-eafe787600e9  base\n",
            "spark-mllib_2.4                390d21f8-e58b-4fac-9c55-d7ceda621326  base\n",
            "xgboost_0.82-py3.6             39e31acd-5f30-41dc-ae44-60233c80306e  base\n",
            "pytorch-onnx_1.2-py3.6-edt     40589d0e-7019-4e28-8daa-fb03b6f4fe12  base\n",
            "spark-mllib_2.4-r_3.6          49403dff-92e9-4c87-a3d7-a42d0021c095  base\n",
            "xgboost_0.90-py3.6             4ff8d6c2-1343-4c18-85e1-689c965304d3  base\n",
            "pytorch-onnx_1.1-py3.6         50f95b2a-bc16-43bb-bc94-b0bed208c60b  base\n",
            "spark-mllib_2.4-scala_2.11     55a70f99-7320-4be5-9fb9-9edb5a443af5  base\n",
            "autoai-obm_2.0                 5c2e37fa-80b8-5e77-840f-d912469614ee  base\n",
            "spss-modeler_18.1              5c3cad7e-507f-4b2a-a9a3-ab53a21dee8b  base\n",
            "autoai-kb_3.1-py3.7            632d4b22-10aa-5180-88f0-f52dfb6444d7  base\n",
            "spark-mllib_2.3-r_3.6          6586b9e3-ccd6-4f92-900f-0f8cb2bd6f0c  base\n",
            "tensorflow_2.4-py3.7           65e171d7-72d1-55d9-8ebb-f813d620c9bb  base\n",
            "spss-modeler_18.2              687eddc9-028a-4117-b9dd-e57b36f1efa5  base\n",
            "pytorch-onnx_1.2-py3.6         692a6a4d-2c4d-45ff-a1ed-b167ee55469a  base\n",
            "do_12.9                        75a3a4b0-6aa0-41b3-a618-48b1f56332a6  base\n",
            "spark-mllib_2.3-scala_2.11     7963efe5-bbec-417e-92cf-0574e21b4e8d  base\n",
            "spark-mllib_2.4-py37           7abc992b-b685-532b-a122-a396a3cdbaab  base\n",
            "caffe_1.0-py3.6                7bb3dbe2-da6e-4145-918d-b6d84aa93b6b  base\n",
            "cuda-py3.6                     82c79ece-4d12-40e6-8787-a7b9e0f62770  base\n",
            "tensorflow_1.15-py3.6-horovod  8964680e-d5e4-5bb8-919b-8342c6c0dfd8  base\n",
            "hybrid_0.1                     8c1a58c6-62b5-4dc4-987a-df751c2756b6  base\n",
            "pytorch-onnx_1.3-py3.7         8d5d8a87-a912-54cf-81ec-3914adaa988d  base\n",
            "caffe-ibm_1.0-py3.6            8d863266-7927-4d1e-97d7-56a7f4c0a19b  base\n",
            "spss-modeler_17.1              902d0051-84bd-4af6-ab6b-8f6aa6fdeabb  base\n",
            "do_12.10                       9100fd72-8159-4eb9-8a0b-a87e12eefa36  base\n",
            "do_py3.7                       9447fa8b-2051-4d24-9eef-5acb0e3c59f8  base\n",
            "spark-mllib_3.0-r_3.6          94bb6052-c837-589d-83f1-f4142f219e32  base\n",
            "cuda-py3.7                     9a44990c-1aa1-4c7d-baf8-c4099011741c  base\n",
            "hybrid_0.2                     9b3f9040-9cee-4ead-8d7a-780600f542f7  base\n",
            "autoai-kb_3.3-py3.7            a545cca3-02df-5c61-9e88-998b09dc79af  base\n",
            "autoai-obm_2.0 with Spark 3.0  af10f35f-69fa-5d66-9bf5-acb58434263a  base\n",
            "tensorflow_2.1-py3.7           c4032338-2a40-500a-beef-b01ab2667e27  base\n",
            "autoai-kb_3.0-py3.6            d139f196-e04b-5d8b-9140-9a10ca1fa91a  base\n",
            "-----------------------------  ------------------------------------  ----\n",
            "Note: Only first 50 records were displayed. To display more use 'limit' parameter.\n"
          ],
          "name": "stdout"
        }
      ]
    },
    {
      "cell_type": "markdown",
      "metadata": {
        "id": "CPvNZz2BUzIA"
      },
      "source": [
        "#LR DEPLOY"
      ]
    },
    {
      "cell_type": "code",
      "metadata": {
        "id": "iAlCCaTvClaj"
      },
      "source": [
        "# !pip install scikit-learn==0.23"
      ],
      "execution_count": null,
      "outputs": []
    },
    {
      "cell_type": "code",
      "metadata": {
        "colab": {
          "base_uri": "https://localhost:8080/",
          "height": 35
        },
        "id": "Y3C0480fDfwn",
        "outputId": "18e5fcfe-1d1d-4772-ba86-48a5d620dfb9"
      },
      "source": [
        "sklearn.__version__"
      ],
      "execution_count": null,
      "outputs": [
        {
          "output_type": "execute_result",
          "data": {
            "application/vnd.google.colaboratory.intrinsic+json": {
              "type": "string"
            },
            "text/plain": [
              "'0.22.2.post1'"
            ]
          },
          "metadata": {
            "tags": []
          },
          "execution_count": 49
        }
      ]
    },
    {
      "cell_type": "code",
      "metadata": {
        "colab": {
          "base_uri": "https://localhost:8080/",
          "height": 35
        },
        "id": "Ekwtk0wOBoeT",
        "outputId": "bd58a73e-c50c-4889-d38c-981002ea2be4"
      },
      "source": [
        "software_spec_uid = client.software_specifications.get_uid_by_name(\"default_py3.7\")\n",
        "software_spec_uid"
      ],
      "execution_count": null,
      "outputs": [
        {
          "output_type": "execute_result",
          "data": {
            "application/vnd.google.colaboratory.intrinsic+json": {
              "type": "string"
            },
            "text/plain": [
              "'e4429883-c883-42b6-87a8-f419d64088cd'"
            ]
          },
          "metadata": {
            "tags": []
          },
          "execution_count": 50
        }
      ]
    },
    {
      "cell_type": "code",
      "metadata": {
        "id": "yHXa0h8gARSy"
      },
      "source": [
        "metadata = {\n",
        "    client.repository.ModelMetaNames.NAME: 'WBB LR_pred Model',\n",
        "    client.repository.ModelMetaNames.TYPE: 'scikit-learn_0.23',\n",
        "    client.repository.ModelMetaNames.SOFTWARE_SPEC_UID: software_spec_uid\n",
        "}\n",
        "published_model = client.repository.store_model(\n",
        "    model=regressor,\n",
        "    meta_props=metadata,\n",
        "    training_data=X_train,\n",
        "    training_target=Y_train)"
      ],
      "execution_count": null,
      "outputs": []
    },
    {
      "cell_type": "code",
      "metadata": {
        "colab": {
          "base_uri": "https://localhost:8080/"
        },
        "id": "zxvaXpoNB7KU",
        "outputId": "d909f024-32b7-407b-e6f2-4a837c6e6ab9"
      },
      "source": [
        "models_details = client.repository.list_models()"
      ],
      "execution_count": null,
      "outputs": [
        {
          "output_type": "stream",
          "text": [
            "------------------------------------  -----------------  ------------------------  -----------------\n",
            "ID                                    NAME               CREATED                   TYPE\n",
            "b8c6f532-4e56-433c-947c-71f3567caa48  WBB LR_pred Model  2021-05-02T10:59:27.002Z  scikit-learn_0.23\n",
            "4286d845-b125-47a8-a3c1-11d19d81eb28  WBB XG_pred Model  2021-04-06T01:06:48.002Z  xgboost_0.90\n",
            "9efbeb8b-3987-4c7a-9218-1df786b72ba2  WBB LR_pred Model  2021-04-06T01:06:32.002Z  scikit-learn_0.23\n",
            "3774bf2f-186a-47c1-87bc-749b891f8ad0  WBB XG_pred Model  2021-04-06T01:05:32.002Z  xgboost_0.90\n",
            "e843ce6d-70bd-48b3-ad13-387f089ebaef  WBB LR_pred Model  2021-04-06T01:05:05.002Z  scikit-learn_0.23\n",
            "e2c492ae-3f54-4919-a13b-83d06f36033f  WBB XG_pred Model  2021-04-05T16:36:10.002Z  xgboost_0.90\n",
            "0f9cd9e8-4127-4136-967a-ed96a2dae268  WBB LR_pred Model  2021-04-05T16:35:47.002Z  scikit-learn_0.23\n",
            "71c8a0bc-61d5-4943-b760-808bd7ab3d83  WBB XG_pred Model  2021-04-05T11:33:45.002Z  xgboost_0.90\n",
            "080b8efa-3aa9-48e7-a18e-74137d2bf38f  WBB XG_pred Model  2021-04-05T11:27:48.002Z  xgboost_0.90\n",
            "c65c62a7-f48f-4ffe-ba59-e713059cc54e  WBB LR_pred Model  2021-04-05T11:27:33.002Z  scikit-learn_0.23\n",
            "47c32692-ba2a-4c18-9491-2b4cc71d252a  WBB XG_pred Model  2021-04-05T11:24:44.002Z  xgboost_0.90\n",
            "a6f3d280-4a63-42fc-a9ee-701d051c1d5d  WBB XG_pred Model  2021-04-05T11:20:40.002Z  xgboost_0.90\n",
            "13ddd926-feca-4ea4-856a-2dccda9c6f31  WBB LR_pred Model  2021-04-05T11:20:24.002Z  scikit-learn_0.23\n",
            "4780e4b3-d6d8-46f4-b811-da5ad15645f4  WBB XG_pred Model  2021-04-04T14:42:00.002Z  xgboost_0.90\n",
            "c6d98dee-4416-45b7-942e-d38cede99d39  WBB LR_pred Model  2021-04-04T14:41:46.002Z  scikit-learn_0.23\n",
            "c470eb03-391c-4da7-885e-24a4f9ea85eb  WBB XG_pred Model  2021-04-04T14:21:21.002Z  xgboost_0.90\n",
            "10689367-9fe2-42a4-85fc-eb00ca71ecbf  WBB XG_pred Model  2021-04-04T14:15:35.002Z  xgboost_0.90\n",
            "3b689ec5-2840-4e6e-8ed4-55d973acd3ed  WBB pred Model     2021-04-04T14:13:49.002Z  xgboost_0.90\n",
            "b1626acb-0e30-4799-a9ce-1358f2048b04  WBB pred Model     2021-04-04T14:11:21.002Z  xgboost_0.90\n",
            "8504f107-1bd6-4145-b4f8-82650cd067c6  WBB pred Model     2021-04-04T14:09:44.002Z  xgboost_0.90\n",
            "50804638-a82b-463d-8ba9-5be172fba01d  WBB pred Model     2021-04-04T14:09:30.002Z  scikit-learn_0.23\n",
            "12697cfb-77df-41ae-b57b-d9ab5009e664  WBB pred Model     2021-04-04T14:09:00.002Z  scikit-learn_0.23\n",
            "1c8801b1-7b0d-4785-b3df-da5a4fc2a9f2  WBB pred Model     2021-04-04T14:08:50.002Z  xgboost_0.90\n",
            "ed73fe33-710c-46d7-bf1a-62fd3f1c3ec0  WBB pred Model     2021-04-04T14:07:37.002Z  xgboost_0.90\n",
            "01d69ff1-61df-4a1a-a1af-1a128f4bb066  WBB pred Model     2021-04-04T14:06:12.002Z  xgboost_0.90\n",
            "76bb47f3-d68e-42ab-b92d-9f679c92b9ff  WBB pred Model     2021-04-04T13:28:03.002Z  scikit-learn_0.23\n",
            "1ce1f4ff-3ad2-4e50-9192-418fb58210e1  WBB pred Model     2021-04-04T13:27:51.002Z  scikit-learn_0.22\n",
            "c0dfc5f8-9f8e-4bfb-8fd4-aac26f35c616  WBB pred Model     2021-04-04T13:23:07.002Z  scikit-learn_0.22\n",
            "362fdaf7-1471-4ad5-9404-1bb45671c5e3  WBB pred Model     2021-04-04T13:21:33.002Z  scikit-learn_0.22\n",
            "5211be75-afca-4043-a49d-75e3ad8dcd57  WBB pred Model     2021-04-04T13:16:39.002Z  scikit-learn_0.22\n",
            "------------------------------------  -----------------  ------------------------  -----------------\n"
          ],
          "name": "stdout"
        }
      ]
    },
    {
      "cell_type": "code",
      "metadata": {
        "colab": {
          "base_uri": "https://localhost:8080/"
        },
        "id": "_NATJfuMB_z0",
        "outputId": "9f83817e-74f2-48ef-ff11-c42f8197395d"
      },
      "source": [
        "metadata = {\n",
        "    client.deployments.ConfigurationMetaNames.NAME: \"Deployment of LR_Model\",\n",
        "    client.deployments.ConfigurationMetaNames.ONLINE: {}\n",
        "}\n",
        "\n",
        "created_deployment = client.deployments.create(\"76bb47f3-d68e-42ab-b92d-9f679c92b9ff\", meta_props=metadata)"
      ],
      "execution_count": null,
      "outputs": [
        {
          "output_type": "stream",
          "text": [
            "\n",
            "\n",
            "#######################################################################################\n",
            "\n",
            "Synchronous deployment creation for uid: '76bb47f3-d68e-42ab-b92d-9f679c92b9ff' started\n",
            "\n",
            "#######################################################################################\n",
            "\n",
            "\n",
            "initializing\n",
            "ready\n",
            "\n",
            "\n",
            "------------------------------------------------------------------------------------------------\n",
            "Successfully finished deployment creation, deployment_uid='6db5790b-13da-40c2-8f68-61a7b328e68b'\n",
            "------------------------------------------------------------------------------------------------\n",
            "\n",
            "\n"
          ],
          "name": "stdout"
        }
      ]
    },
    {
      "cell_type": "code",
      "metadata": {
        "colab": {
          "base_uri": "https://localhost:8080/"
        },
        "id": "_L6xt0VaEpA5",
        "outputId": "6b21ff16-7c0c-4ede-b386-36631fcc496e"
      },
      "source": [
        "client.deployments.list()"
      ],
      "execution_count": null,
      "outputs": [
        {
          "output_type": "stream",
          "text": [
            "------------------------------------  ----------------------  ------  ------------------------\n",
            "GUID                                  NAME                    STATE   CREATED\n",
            "6db5790b-13da-40c2-8f68-61a7b328e68b  Deployment of LR_Model  ready   2021-05-02T10:59:37.056Z\n",
            "a8c3b783-e6a4-430c-8677-03a9f83e7126  Deployment of XG_Model  ready   2021-04-06T01:07:00.173Z\n",
            "ce636332-9a0d-4acb-853c-0ee2c71096ad  Deployment of LR_Model  ready   2021-04-06T01:06:37.354Z\n",
            "c779eb12-162f-42ad-be9a-d4d947d4a236  Deployment of XG_Model  ready   2021-04-06T01:05:40.675Z\n",
            "0dd390ce-2c46-4cbd-ae0c-2c2fb726f8e4  Deployment of LR_Model  ready   2021-04-06T01:05:17.980Z\n",
            "f4554129-4e67-4711-8630-da8ff2f62330  Deployment of XG_Model  ready   2021-04-05T16:36:15.748Z\n",
            "d15674bd-5ef6-4164-9d7e-13c866f5f313  Deployment of LR_Model  ready   2021-04-05T16:36:00.457Z\n",
            "e05e70b3-b5bc-45be-8818-c5da81fdd24c  Deployment of XG_Model  ready   2021-04-05T11:34:20.304Z\n",
            "c7e63436-d1c8-4d3f-af39-26a651c45456  Deployment of XG_Model  ready   2021-04-05T11:31:47.411Z\n",
            "28024dfd-82a6-4f4d-aaf5-e4d1914573ff  Deployment of XG_Model  ready   2021-04-05T11:27:52.698Z\n",
            "acf748d6-a440-4f79-b29f-11a7d35c00e7  Deployment of LR_Model  ready   2021-04-05T11:27:38.237Z\n",
            "3bb0c89c-5342-4160-8c38-f526f2b6393a  Deployment of XG_Model  ready   2021-04-05T11:25:41.086Z\n",
            "adfedfe7-e516-4e1b-bfd5-69a8ec7dda3c  Deployment of XG_Model  ready   2021-04-05T11:24:54.615Z\n",
            "ce6486bb-caaa-4be1-b00f-6dd37e0be8e9  Deployment of XG_Model  ready   2021-04-05T11:22:23.094Z\n",
            "d53f850e-8c8b-4abb-b5c7-23ca07b05def  Deployment of XG_Model  ready   2021-04-05T11:20:44.754Z\n",
            "0a2ddf37-7454-4943-87cd-0abb093ea01c  Deployment of LR_Model  ready   2021-04-05T11:20:30.490Z\n",
            "e278a496-c271-4026-915d-1f77c07ecc7b  Deployment of XG_Model  ready   2021-04-04T14:42:05.844Z\n",
            "cdd719c4-e292-49fe-9cf4-17026ff79ffc  Deployment of LR_Model  ready   2021-04-04T14:41:51.367Z\n",
            "2ff0e5fc-a79d-4f9b-a6c1-959f736c9897  Deployment of XG_Model  ready   2021-04-04T14:21:38.155Z\n",
            "2e9ffbe2-35f4-43cf-8b04-0d23c847c2d3  Deployment of XG_Model  ready   2021-04-04T14:14:15.409Z\n",
            "6a7f0e6f-2dbb-4661-8a96-03f2abbd2969  Deployment of XG_Model  failed  2021-04-04T14:11:51.352Z\n",
            "0104ffe7-6429-4404-9e37-a5e526f1a367  Deployment of XG_Model  failed  2021-04-04T14:11:32.476Z\n",
            "9e643bab-0961-44ae-8ac0-40e53e6f6a91  Deployment of XG_Model  failed  2021-04-04T14:10:10.494Z\n",
            "45418033-cc50-4467-befd-d90e8ff04122  Deployment of XG_Model  failed  2021-04-04T14:09:48.837Z\n",
            "78526452-7440-4132-bf74-16f4572f3d45  Deployment of LR_Model  ready   2021-04-04T14:09:35.576Z\n",
            "d4a2fe42-d35d-4ddc-9865-6298fa2d61ce  Deployment of XG_Model  failed  2021-04-04T14:08:25.218Z\n",
            "c5d3bbd0-ac98-4e3a-aa4c-557c59c0919f  Deployment of LR_Model  ready   2021-04-04T13:28:32.579Z\n",
            "------------------------------------  ----------------------  ------  ------------------------\n"
          ],
          "name": "stdout"
        }
      ]
    },
    {
      "cell_type": "code",
      "metadata": {
        "colab": {
          "base_uri": "https://localhost:8080/"
        },
        "id": "2Raw8PJfU6mw",
        "outputId": "e727d62f-7e54-44e7-b552-334561ca74b5"
      },
      "source": [
        "X_test_lr.head()"
      ],
      "execution_count": null,
      "outputs": [
        {
          "output_type": "execute_result",
          "data": {
            "text/html": [
              "<div>\n",
              "<style scoped>\n",
              "    .dataframe tbody tr th:only-of-type {\n",
              "        vertical-align: middle;\n",
              "    }\n",
              "\n",
              "    .dataframe tbody tr th {\n",
              "        vertical-align: top;\n",
              "    }\n",
              "\n",
              "    .dataframe thead th {\n",
              "        text-align: right;\n",
              "    }\n",
              "</style>\n",
              "<table border=\"1\" class=\"dataframe\">\n",
              "  <thead>\n",
              "    <tr style=\"text-align: right;\">\n",
              "      <th></th>\n",
              "      <th>fruitset</th>\n",
              "      <th>seeds</th>\n",
              "    </tr>\n",
              "  </thead>\n",
              "  <tbody>\n",
              "    <tr>\n",
              "      <th>150</th>\n",
              "      <td>0.556295</td>\n",
              "      <td>38.868110</td>\n",
              "    </tr>\n",
              "    <tr>\n",
              "      <th>122</th>\n",
              "      <td>0.411591</td>\n",
              "      <td>31.004606</td>\n",
              "    </tr>\n",
              "    <tr>\n",
              "      <th>546</th>\n",
              "      <td>0.539904</td>\n",
              "      <td>38.341781</td>\n",
              "    </tr>\n",
              "    <tr>\n",
              "      <th>14</th>\n",
              "      <td>0.381314</td>\n",
              "      <td>30.793741</td>\n",
              "    </tr>\n",
              "    <tr>\n",
              "      <th>542</th>\n",
              "      <td>0.402948</td>\n",
              "      <td>31.702301</td>\n",
              "    </tr>\n",
              "  </tbody>\n",
              "</table>\n",
              "</div>"
            ],
            "text/plain": [
              "     fruitset      seeds\n",
              "150  0.556295  38.868110\n",
              "122  0.411591  31.004606\n",
              "546  0.539904  38.341781\n",
              "14   0.381314  30.793741\n",
              "542  0.402948  31.702301"
            ]
          },
          "metadata": {
            "tags": []
          },
          "execution_count": 55
        }
      ]
    },
    {
      "cell_type": "code",
      "metadata": {
        "colab": {
          "base_uri": "https://localhost:8080/"
        },
        "id": "RlVoGzSrVBSP",
        "outputId": "c8bdb6fe-6d78-4cbc-99b3-b6917f4b82c5"
      },
      "source": [
        "Y_test_lr.head()"
      ],
      "execution_count": null,
      "outputs": [
        {
          "output_type": "execute_result",
          "data": {
            "text/plain": [
              "150    6795.881873\n",
              "122    4357.822918\n",
              "546    7293.536170\n",
              "14     3900.344042\n",
              "542    4387.741853\n",
              "Name: yield, dtype: float64"
            ]
          },
          "metadata": {
            "tags": []
          },
          "execution_count": 56
        }
      ]
    },
    {
      "cell_type": "code",
      "metadata": {
        "id": "_ka19_lUEo9z"
      },
      "source": [
        "scoring_payload = {\"input_data\": [{\"values\": [[0.556295,38.868110]]}]}\n",
        "predictions = client.deployments.score(\"c5d3bbd0-ac98-4e3a-aa4c-557c59c0919f\", scoring_payload)"
      ],
      "execution_count": null,
      "outputs": []
    },
    {
      "cell_type": "code",
      "metadata": {
        "colab": {
          "base_uri": "https://localhost:8080/"
        },
        "id": "mRYMXnlQEo6F",
        "outputId": "e53bbe49-a157-4b3b-8610-d6334e1db721"
      },
      "source": [
        "predictions"
      ],
      "execution_count": null,
      "outputs": [
        {
          "output_type": "execute_result",
          "data": {
            "text/plain": [
              "{'predictions': [{'fields': ['prediction'], 'values': [[6915.17016524095]]}]}"
            ]
          },
          "metadata": {
            "tags": []
          },
          "execution_count": 58
        }
      ]
    },
    {
      "cell_type": "markdown",
      "metadata": {
        "id": "gVJJLywcL4WW"
      },
      "source": [
        "# **DEPLOY** XG_BOOST"
      ]
    },
    {
      "cell_type": "code",
      "metadata": {
        "colab": {
          "base_uri": "https://localhost:8080/",
          "height": 35
        },
        "id": "ih6yWJQnMKar",
        "outputId": "cc6119c5-df14-4282-d35a-da0f88acaf5c"
      },
      "source": [
        "xgb.__version__"
      ],
      "execution_count": null,
      "outputs": [
        {
          "output_type": "execute_result",
          "data": {
            "application/vnd.google.colaboratory.intrinsic+json": {
              "type": "string"
            },
            "text/plain": [
              "'0.90'"
            ]
          },
          "metadata": {
            "tags": []
          },
          "execution_count": 59
        }
      ]
    },
    {
      "cell_type": "code",
      "metadata": {
        "colab": {
          "base_uri": "https://localhost:8080/",
          "height": 35
        },
        "id": "Wa1MVKCvL3ud",
        "outputId": "58255c8f-9066-4c58-e688-b3e5bff1eb4f"
      },
      "source": [
        "software_spec_uid_xg = client.software_specifications.get_uid_by_name(\"default_py3.7\")\n",
        "software_spec_uid_xg"
      ],
      "execution_count": null,
      "outputs": [
        {
          "output_type": "execute_result",
          "data": {
            "application/vnd.google.colaboratory.intrinsic+json": {
              "type": "string"
            },
            "text/plain": [
              "'e4429883-c883-42b6-87a8-f419d64088cd'"
            ]
          },
          "metadata": {
            "tags": []
          },
          "execution_count": 60
        }
      ]
    },
    {
      "cell_type": "code",
      "metadata": {
        "id": "oVrVEeNAMEyw"
      },
      "source": [
        "metadata = {\n",
        "    client.repository.ModelMetaNames.NAME: 'WBB XG_pred Model',\n",
        "    client.repository.ModelMetaNames.TYPE: 'xgboost_0.90',\n",
        "    client.repository.ModelMetaNames.SOFTWARE_SPEC_UID: software_spec_uid_xg\n",
        "}\n",
        "published_model = client.repository.store_model(\n",
        "    model=xg_reg,\n",
        "    meta_props=metadata,\n",
        "    training_data=X_train_xg,\n",
        "    training_target=y_train_xg)"
      ],
      "execution_count": null,
      "outputs": []
    },
    {
      "cell_type": "code",
      "metadata": {
        "colab": {
          "base_uri": "https://localhost:8080/"
        },
        "id": "QJPXpW5Yy5DB",
        "outputId": "69324d7c-04a2-4419-f344-c4c5d1831a77"
      },
      "source": [
        "y_train_xg.head()"
      ],
      "execution_count": null,
      "outputs": [
        {
          "output_type": "execute_result",
          "data": {
            "text/plain": [
              "436    8655.676437\n",
              "230    7626.617335\n",
              "118    7945.187841\n",
              "253    7103.508943\n",
              "157    6376.662565\n",
              "Name: yield, dtype: float64"
            ]
          },
          "metadata": {
            "tags": []
          },
          "execution_count": 62
        }
      ]
    },
    {
      "cell_type": "code",
      "metadata": {
        "colab": {
          "base_uri": "https://localhost:8080/"
        },
        "id": "dWHBH8TpNW5J",
        "outputId": "81ea00f8-fe21-4664-fdfe-aa700aa80d1e"
      },
      "source": [
        "models_details = client.repository.list_models()"
      ],
      "execution_count": null,
      "outputs": [
        {
          "output_type": "stream",
          "text": [
            "------------------------------------  -----------------  ------------------------  -----------------\n",
            "ID                                    NAME               CREATED                   TYPE\n",
            "79404af6-e9b6-4598-93e9-b6d5443f4228  WBB XG_pred Model  2021-05-02T10:59:53.002Z  xgboost_0.90\n",
            "b8c6f532-4e56-433c-947c-71f3567caa48  WBB LR_pred Model  2021-05-02T10:59:27.002Z  scikit-learn_0.23\n",
            "4286d845-b125-47a8-a3c1-11d19d81eb28  WBB XG_pred Model  2021-04-06T01:06:48.002Z  xgboost_0.90\n",
            "9efbeb8b-3987-4c7a-9218-1df786b72ba2  WBB LR_pred Model  2021-04-06T01:06:32.002Z  scikit-learn_0.23\n",
            "3774bf2f-186a-47c1-87bc-749b891f8ad0  WBB XG_pred Model  2021-04-06T01:05:32.002Z  xgboost_0.90\n",
            "e843ce6d-70bd-48b3-ad13-387f089ebaef  WBB LR_pred Model  2021-04-06T01:05:05.002Z  scikit-learn_0.23\n",
            "e2c492ae-3f54-4919-a13b-83d06f36033f  WBB XG_pred Model  2021-04-05T16:36:10.002Z  xgboost_0.90\n",
            "0f9cd9e8-4127-4136-967a-ed96a2dae268  WBB LR_pred Model  2021-04-05T16:35:47.002Z  scikit-learn_0.23\n",
            "71c8a0bc-61d5-4943-b760-808bd7ab3d83  WBB XG_pred Model  2021-04-05T11:33:45.002Z  xgboost_0.90\n",
            "080b8efa-3aa9-48e7-a18e-74137d2bf38f  WBB XG_pred Model  2021-04-05T11:27:48.002Z  xgboost_0.90\n",
            "c65c62a7-f48f-4ffe-ba59-e713059cc54e  WBB LR_pred Model  2021-04-05T11:27:33.002Z  scikit-learn_0.23\n",
            "47c32692-ba2a-4c18-9491-2b4cc71d252a  WBB XG_pred Model  2021-04-05T11:24:44.002Z  xgboost_0.90\n",
            "a6f3d280-4a63-42fc-a9ee-701d051c1d5d  WBB XG_pred Model  2021-04-05T11:20:40.002Z  xgboost_0.90\n",
            "13ddd926-feca-4ea4-856a-2dccda9c6f31  WBB LR_pred Model  2021-04-05T11:20:24.002Z  scikit-learn_0.23\n",
            "4780e4b3-d6d8-46f4-b811-da5ad15645f4  WBB XG_pred Model  2021-04-04T14:42:00.002Z  xgboost_0.90\n",
            "c6d98dee-4416-45b7-942e-d38cede99d39  WBB LR_pred Model  2021-04-04T14:41:46.002Z  scikit-learn_0.23\n",
            "c470eb03-391c-4da7-885e-24a4f9ea85eb  WBB XG_pred Model  2021-04-04T14:21:21.002Z  xgboost_0.90\n",
            "10689367-9fe2-42a4-85fc-eb00ca71ecbf  WBB XG_pred Model  2021-04-04T14:15:35.002Z  xgboost_0.90\n",
            "3b689ec5-2840-4e6e-8ed4-55d973acd3ed  WBB pred Model     2021-04-04T14:13:49.002Z  xgboost_0.90\n",
            "b1626acb-0e30-4799-a9ce-1358f2048b04  WBB pred Model     2021-04-04T14:11:21.002Z  xgboost_0.90\n",
            "8504f107-1bd6-4145-b4f8-82650cd067c6  WBB pred Model     2021-04-04T14:09:44.002Z  xgboost_0.90\n",
            "50804638-a82b-463d-8ba9-5be172fba01d  WBB pred Model     2021-04-04T14:09:30.002Z  scikit-learn_0.23\n",
            "12697cfb-77df-41ae-b57b-d9ab5009e664  WBB pred Model     2021-04-04T14:09:00.002Z  scikit-learn_0.23\n",
            "1c8801b1-7b0d-4785-b3df-da5a4fc2a9f2  WBB pred Model     2021-04-04T14:08:50.002Z  xgboost_0.90\n",
            "ed73fe33-710c-46d7-bf1a-62fd3f1c3ec0  WBB pred Model     2021-04-04T14:07:37.002Z  xgboost_0.90\n",
            "01d69ff1-61df-4a1a-a1af-1a128f4bb066  WBB pred Model     2021-04-04T14:06:12.002Z  xgboost_0.90\n",
            "76bb47f3-d68e-42ab-b92d-9f679c92b9ff  WBB pred Model     2021-04-04T13:28:03.002Z  scikit-learn_0.23\n",
            "1ce1f4ff-3ad2-4e50-9192-418fb58210e1  WBB pred Model     2021-04-04T13:27:51.002Z  scikit-learn_0.22\n",
            "c0dfc5f8-9f8e-4bfb-8fd4-aac26f35c616  WBB pred Model     2021-04-04T13:23:07.002Z  scikit-learn_0.22\n",
            "362fdaf7-1471-4ad5-9404-1bb45671c5e3  WBB pred Model     2021-04-04T13:21:33.002Z  scikit-learn_0.22\n",
            "5211be75-afca-4043-a49d-75e3ad8dcd57  WBB pred Model     2021-04-04T13:16:39.002Z  scikit-learn_0.22\n",
            "------------------------------------  -----------------  ------------------------  -----------------\n"
          ],
          "name": "stdout"
        }
      ]
    },
    {
      "cell_type": "code",
      "metadata": {
        "colab": {
          "base_uri": "https://localhost:8080/"
        },
        "id": "rJt3uCByNi47",
        "outputId": "0e8abd76-b960-450d-b3d2-c0e6c06b00ee"
      },
      "source": [
        "metadata = {\n",
        "    client.deployments.ConfigurationMetaNames.NAME: \"Deployment of XG_Model\",\n",
        "    client.deployments.ConfigurationMetaNames.ONLINE: {}\n",
        "}\n",
        "\n",
        "created_deployment = client.deployments.create(\"71c8a0bc-61d5-4943-b760-808bd7ab3d83\", meta_props=metadata)"
      ],
      "execution_count": null,
      "outputs": [
        {
          "output_type": "stream",
          "text": [
            "\n",
            "\n",
            "#######################################################################################\n",
            "\n",
            "Synchronous deployment creation for uid: '71c8a0bc-61d5-4943-b760-808bd7ab3d83' started\n",
            "\n",
            "#######################################################################################\n",
            "\n",
            "\n",
            "initializing\n",
            "ready\n",
            "\n",
            "\n",
            "------------------------------------------------------------------------------------------------\n",
            "Successfully finished deployment creation, deployment_uid='b09281c0-0fde-44ab-8acb-33e3c9475498'\n",
            "------------------------------------------------------------------------------------------------\n",
            "\n",
            "\n"
          ],
          "name": "stdout"
        }
      ]
    },
    {
      "cell_type": "code",
      "metadata": {
        "colab": {
          "base_uri": "https://localhost:8080/"
        },
        "id": "Ma4yXf-C6D4U",
        "outputId": "008e0ff6-4011-4424-8ecd-d53419eee29b"
      },
      "source": [
        "client.deployments.list()"
      ],
      "execution_count": null,
      "outputs": [
        {
          "output_type": "stream",
          "text": [
            "------------------------------------  ----------------------  ------  ------------------------\n",
            "GUID                                  NAME                    STATE   CREATED\n",
            "b09281c0-0fde-44ab-8acb-33e3c9475498  Deployment of XG_Model  ready   2021-05-02T11:00:01.532Z\n",
            "6db5790b-13da-40c2-8f68-61a7b328e68b  Deployment of LR_Model  ready   2021-05-02T10:59:37.056Z\n",
            "a8c3b783-e6a4-430c-8677-03a9f83e7126  Deployment of XG_Model  ready   2021-04-06T01:07:00.173Z\n",
            "ce636332-9a0d-4acb-853c-0ee2c71096ad  Deployment of LR_Model  ready   2021-04-06T01:06:37.354Z\n",
            "c779eb12-162f-42ad-be9a-d4d947d4a236  Deployment of XG_Model  ready   2021-04-06T01:05:40.675Z\n",
            "0dd390ce-2c46-4cbd-ae0c-2c2fb726f8e4  Deployment of LR_Model  ready   2021-04-06T01:05:17.980Z\n",
            "f4554129-4e67-4711-8630-da8ff2f62330  Deployment of XG_Model  ready   2021-04-05T16:36:15.748Z\n",
            "d15674bd-5ef6-4164-9d7e-13c866f5f313  Deployment of LR_Model  ready   2021-04-05T16:36:00.457Z\n",
            "e05e70b3-b5bc-45be-8818-c5da81fdd24c  Deployment of XG_Model  ready   2021-04-05T11:34:20.304Z\n",
            "c7e63436-d1c8-4d3f-af39-26a651c45456  Deployment of XG_Model  ready   2021-04-05T11:31:47.411Z\n",
            "28024dfd-82a6-4f4d-aaf5-e4d1914573ff  Deployment of XG_Model  ready   2021-04-05T11:27:52.698Z\n",
            "acf748d6-a440-4f79-b29f-11a7d35c00e7  Deployment of LR_Model  ready   2021-04-05T11:27:38.237Z\n",
            "3bb0c89c-5342-4160-8c38-f526f2b6393a  Deployment of XG_Model  ready   2021-04-05T11:25:41.086Z\n",
            "adfedfe7-e516-4e1b-bfd5-69a8ec7dda3c  Deployment of XG_Model  ready   2021-04-05T11:24:54.615Z\n",
            "ce6486bb-caaa-4be1-b00f-6dd37e0be8e9  Deployment of XG_Model  ready   2021-04-05T11:22:23.094Z\n",
            "d53f850e-8c8b-4abb-b5c7-23ca07b05def  Deployment of XG_Model  ready   2021-04-05T11:20:44.754Z\n",
            "0a2ddf37-7454-4943-87cd-0abb093ea01c  Deployment of LR_Model  ready   2021-04-05T11:20:30.490Z\n",
            "e278a496-c271-4026-915d-1f77c07ecc7b  Deployment of XG_Model  ready   2021-04-04T14:42:05.844Z\n",
            "cdd719c4-e292-49fe-9cf4-17026ff79ffc  Deployment of LR_Model  ready   2021-04-04T14:41:51.367Z\n",
            "2ff0e5fc-a79d-4f9b-a6c1-959f736c9897  Deployment of XG_Model  ready   2021-04-04T14:21:38.155Z\n",
            "2e9ffbe2-35f4-43cf-8b04-0d23c847c2d3  Deployment of XG_Model  ready   2021-04-04T14:14:15.409Z\n",
            "6a7f0e6f-2dbb-4661-8a96-03f2abbd2969  Deployment of XG_Model  failed  2021-04-04T14:11:51.352Z\n",
            "0104ffe7-6429-4404-9e37-a5e526f1a367  Deployment of XG_Model  failed  2021-04-04T14:11:32.476Z\n",
            "9e643bab-0961-44ae-8ac0-40e53e6f6a91  Deployment of XG_Model  failed  2021-04-04T14:10:10.494Z\n",
            "45418033-cc50-4467-befd-d90e8ff04122  Deployment of XG_Model  failed  2021-04-04T14:09:48.837Z\n",
            "78526452-7440-4132-bf74-16f4572f3d45  Deployment of LR_Model  ready   2021-04-04T14:09:35.576Z\n",
            "d4a2fe42-d35d-4ddc-9865-6298fa2d61ce  Deployment of XG_Model  failed  2021-04-04T14:08:25.218Z\n",
            "c5d3bbd0-ac98-4e3a-aa4c-557c59c0919f  Deployment of LR_Model  ready   2021-04-04T13:28:32.579Z\n",
            "------------------------------------  ----------------------  ------  ------------------------\n"
          ],
          "name": "stdout"
        }
      ]
    },
    {
      "cell_type": "code",
      "metadata": {
        "colab": {
          "base_uri": "https://localhost:8080/",
          "height": 217
        },
        "id": "tO2rBSaeSK-y",
        "outputId": "9df6dd48-a505-4236-d111-025b6ba381ea"
      },
      "source": [
        "data.head(5)"
      ],
      "execution_count": null,
      "outputs": [
        {
          "output_type": "execute_result",
          "data": {
            "text/html": [
              "<div>\n",
              "<style scoped>\n",
              "    .dataframe tbody tr th:only-of-type {\n",
              "        vertical-align: middle;\n",
              "    }\n",
              "\n",
              "    .dataframe tbody tr th {\n",
              "        vertical-align: top;\n",
              "    }\n",
              "\n",
              "    .dataframe thead th {\n",
              "        text-align: right;\n",
              "    }\n",
              "</style>\n",
              "<table border=\"1\" class=\"dataframe\">\n",
              "  <thead>\n",
              "    <tr style=\"text-align: right;\">\n",
              "      <th></th>\n",
              "      <th>clonesize</th>\n",
              "      <th>honeybee</th>\n",
              "      <th>bumbles</th>\n",
              "      <th>andrena</th>\n",
              "      <th>osmia</th>\n",
              "      <th>MaxOfUpperTRange</th>\n",
              "      <th>MinOfUpperTRange</th>\n",
              "      <th>AverageOfUpperTRange</th>\n",
              "      <th>MaxOfLowerTRange</th>\n",
              "      <th>MinOfLowerTRange</th>\n",
              "      <th>AverageOfLowerTRange</th>\n",
              "      <th>RainingDays</th>\n",
              "      <th>AverageRainingDays</th>\n",
              "      <th>fruitset</th>\n",
              "      <th>fruitmass</th>\n",
              "      <th>seeds</th>\n",
              "      <th>yield</th>\n",
              "    </tr>\n",
              "  </thead>\n",
              "  <tbody>\n",
              "    <tr>\n",
              "      <th>0</th>\n",
              "      <td>37.5</td>\n",
              "      <td>0.75</td>\n",
              "      <td>0.25</td>\n",
              "      <td>0.25</td>\n",
              "      <td>0.25</td>\n",
              "      <td>86.0</td>\n",
              "      <td>52.0</td>\n",
              "      <td>71.9</td>\n",
              "      <td>62.0</td>\n",
              "      <td>30.0</td>\n",
              "      <td>50.8</td>\n",
              "      <td>16.0</td>\n",
              "      <td>0.26</td>\n",
              "      <td>0.410652</td>\n",
              "      <td>0.408159</td>\n",
              "      <td>31.678898</td>\n",
              "      <td>3813.165795</td>\n",
              "    </tr>\n",
              "    <tr>\n",
              "      <th>1</th>\n",
              "      <td>37.5</td>\n",
              "      <td>0.75</td>\n",
              "      <td>0.25</td>\n",
              "      <td>0.25</td>\n",
              "      <td>0.25</td>\n",
              "      <td>86.0</td>\n",
              "      <td>52.0</td>\n",
              "      <td>71.9</td>\n",
              "      <td>62.0</td>\n",
              "      <td>30.0</td>\n",
              "      <td>50.8</td>\n",
              "      <td>1.0</td>\n",
              "      <td>0.10</td>\n",
              "      <td>0.444254</td>\n",
              "      <td>0.425458</td>\n",
              "      <td>33.449385</td>\n",
              "      <td>4947.605663</td>\n",
              "    </tr>\n",
              "    <tr>\n",
              "      <th>2</th>\n",
              "      <td>37.5</td>\n",
              "      <td>0.75</td>\n",
              "      <td>0.25</td>\n",
              "      <td>0.25</td>\n",
              "      <td>0.25</td>\n",
              "      <td>94.6</td>\n",
              "      <td>57.2</td>\n",
              "      <td>79.0</td>\n",
              "      <td>68.2</td>\n",
              "      <td>33.0</td>\n",
              "      <td>55.9</td>\n",
              "      <td>16.0</td>\n",
              "      <td>0.26</td>\n",
              "      <td>0.383787</td>\n",
              "      <td>0.399172</td>\n",
              "      <td>30.546306</td>\n",
              "      <td>3866.798965</td>\n",
              "    </tr>\n",
              "    <tr>\n",
              "      <th>3</th>\n",
              "      <td>37.5</td>\n",
              "      <td>0.75</td>\n",
              "      <td>0.25</td>\n",
              "      <td>0.25</td>\n",
              "      <td>0.25</td>\n",
              "      <td>94.6</td>\n",
              "      <td>57.2</td>\n",
              "      <td>79.0</td>\n",
              "      <td>68.2</td>\n",
              "      <td>33.0</td>\n",
              "      <td>55.9</td>\n",
              "      <td>1.0</td>\n",
              "      <td>0.10</td>\n",
              "      <td>0.407564</td>\n",
              "      <td>0.408789</td>\n",
              "      <td>31.562586</td>\n",
              "      <td>4303.943030</td>\n",
              "    </tr>\n",
              "    <tr>\n",
              "      <th>4</th>\n",
              "      <td>37.5</td>\n",
              "      <td>0.75</td>\n",
              "      <td>0.25</td>\n",
              "      <td>0.25</td>\n",
              "      <td>0.25</td>\n",
              "      <td>86.0</td>\n",
              "      <td>52.0</td>\n",
              "      <td>71.9</td>\n",
              "      <td>62.0</td>\n",
              "      <td>30.0</td>\n",
              "      <td>50.8</td>\n",
              "      <td>24.0</td>\n",
              "      <td>0.39</td>\n",
              "      <td>0.354413</td>\n",
              "      <td>0.382703</td>\n",
              "      <td>28.873714</td>\n",
              "      <td>3436.493543</td>\n",
              "    </tr>\n",
              "  </tbody>\n",
              "</table>\n",
              "</div>"
            ],
            "text/plain": [
              "   clonesize  honeybee  bumbles  ...  fruitmass      seeds        yield\n",
              "0       37.5      0.75     0.25  ...   0.408159  31.678898  3813.165795\n",
              "1       37.5      0.75     0.25  ...   0.425458  33.449385  4947.605663\n",
              "2       37.5      0.75     0.25  ...   0.399172  30.546306  3866.798965\n",
              "3       37.5      0.75     0.25  ...   0.408789  31.562586  4303.943030\n",
              "4       37.5      0.75     0.25  ...   0.382703  28.873714  3436.493543\n",
              "\n",
              "[5 rows x 17 columns]"
            ]
          },
          "metadata": {
            "tags": []
          },
          "execution_count": 66
        }
      ]
    },
    {
      "cell_type": "code",
      "metadata": {
        "colab": {
          "base_uri": "https://localhost:8080/",
          "height": 197
        },
        "id": "a-tzZAf20Lbn",
        "outputId": "9909b347-8874-4b31-b396-d3c3c94dca63"
      },
      "source": [
        "X_train_xg.head()"
      ],
      "execution_count": null,
      "outputs": [
        {
          "output_type": "execute_result",
          "data": {
            "text/html": [
              "<div>\n",
              "<style scoped>\n",
              "    .dataframe tbody tr th:only-of-type {\n",
              "        vertical-align: middle;\n",
              "    }\n",
              "\n",
              "    .dataframe tbody tr th {\n",
              "        vertical-align: top;\n",
              "    }\n",
              "\n",
              "    .dataframe thead th {\n",
              "        text-align: right;\n",
              "    }\n",
              "</style>\n",
              "<table border=\"1\" class=\"dataframe\">\n",
              "  <thead>\n",
              "    <tr style=\"text-align: right;\">\n",
              "      <th></th>\n",
              "      <th>honeybee</th>\n",
              "      <th>andrena</th>\n",
              "      <th>osmia</th>\n",
              "      <th>MaxOfUpperTRange</th>\n",
              "      <th>RainingDays</th>\n",
              "      <th>fruitset</th>\n",
              "      <th>seeds</th>\n",
              "    </tr>\n",
              "  </thead>\n",
              "  <tbody>\n",
              "    <tr>\n",
              "      <th>436</th>\n",
              "      <td>0.25</td>\n",
              "      <td>0.50</td>\n",
              "      <td>0.75</td>\n",
              "      <td>86.0</td>\n",
              "      <td>1.0</td>\n",
              "      <td>0.644329</td>\n",
              "      <td>45.619797</td>\n",
              "    </tr>\n",
              "    <tr>\n",
              "      <th>230</th>\n",
              "      <td>0.25</td>\n",
              "      <td>0.50</td>\n",
              "      <td>0.63</td>\n",
              "      <td>94.6</td>\n",
              "      <td>1.0</td>\n",
              "      <td>0.595713</td>\n",
              "      <td>41.315912</td>\n",
              "    </tr>\n",
              "    <tr>\n",
              "      <th>118</th>\n",
              "      <td>0.25</td>\n",
              "      <td>0.25</td>\n",
              "      <td>0.75</td>\n",
              "      <td>94.6</td>\n",
              "      <td>1.0</td>\n",
              "      <td>0.609613</td>\n",
              "      <td>42.502482</td>\n",
              "    </tr>\n",
              "    <tr>\n",
              "      <th>253</th>\n",
              "      <td>0.25</td>\n",
              "      <td>0.50</td>\n",
              "      <td>0.75</td>\n",
              "      <td>69.7</td>\n",
              "      <td>16.0</td>\n",
              "      <td>0.552359</td>\n",
              "      <td>38.042756</td>\n",
              "    </tr>\n",
              "    <tr>\n",
              "      <th>157</th>\n",
              "      <td>0.25</td>\n",
              "      <td>0.38</td>\n",
              "      <td>0.38</td>\n",
              "      <td>69.7</td>\n",
              "      <td>16.0</td>\n",
              "      <td>0.520637</td>\n",
              "      <td>35.891310</td>\n",
              "    </tr>\n",
              "  </tbody>\n",
              "</table>\n",
              "</div>"
            ],
            "text/plain": [
              "     honeybee  andrena  osmia  ...  RainingDays  fruitset      seeds\n",
              "436      0.25     0.50   0.75  ...          1.0  0.644329  45.619797\n",
              "230      0.25     0.50   0.63  ...          1.0  0.595713  41.315912\n",
              "118      0.25     0.25   0.75  ...          1.0  0.609613  42.502482\n",
              "253      0.25     0.50   0.75  ...         16.0  0.552359  38.042756\n",
              "157      0.25     0.38   0.38  ...         16.0  0.520637  35.891310\n",
              "\n",
              "[5 rows x 7 columns]"
            ]
          },
          "metadata": {
            "tags": []
          },
          "execution_count": 67
        }
      ]
    },
    {
      "cell_type": "code",
      "metadata": {
        "colab": {
          "base_uri": "https://localhost:8080/",
          "height": 197
        },
        "id": "NvOEaWALSkhk",
        "outputId": "8a73158b-42ad-4994-91e3-c6d4eb3b4f82"
      },
      "source": [
        "X_test_xg.head()"
      ],
      "execution_count": null,
      "outputs": [
        {
          "output_type": "execute_result",
          "data": {
            "text/html": [
              "<div>\n",
              "<style scoped>\n",
              "    .dataframe tbody tr th:only-of-type {\n",
              "        vertical-align: middle;\n",
              "    }\n",
              "\n",
              "    .dataframe tbody tr th {\n",
              "        vertical-align: top;\n",
              "    }\n",
              "\n",
              "    .dataframe thead th {\n",
              "        text-align: right;\n",
              "    }\n",
              "</style>\n",
              "<table border=\"1\" class=\"dataframe\">\n",
              "  <thead>\n",
              "    <tr style=\"text-align: right;\">\n",
              "      <th></th>\n",
              "      <th>honeybee</th>\n",
              "      <th>andrena</th>\n",
              "      <th>osmia</th>\n",
              "      <th>MaxOfUpperTRange</th>\n",
              "      <th>RainingDays</th>\n",
              "      <th>fruitset</th>\n",
              "      <th>seeds</th>\n",
              "    </tr>\n",
              "  </thead>\n",
              "  <tbody>\n",
              "    <tr>\n",
              "      <th>150</th>\n",
              "      <td>0.25</td>\n",
              "      <td>0.38</td>\n",
              "      <td>0.38</td>\n",
              "      <td>94.6</td>\n",
              "      <td>1.0</td>\n",
              "      <td>0.556295</td>\n",
              "      <td>38.868110</td>\n",
              "    </tr>\n",
              "    <tr>\n",
              "      <th>122</th>\n",
              "      <td>0.25</td>\n",
              "      <td>0.25</td>\n",
              "      <td>0.75</td>\n",
              "      <td>94.6</td>\n",
              "      <td>34.0</td>\n",
              "      <td>0.411591</td>\n",
              "      <td>31.004606</td>\n",
              "    </tr>\n",
              "    <tr>\n",
              "      <th>546</th>\n",
              "      <td>0.50</td>\n",
              "      <td>0.50</td>\n",
              "      <td>0.75</td>\n",
              "      <td>77.4</td>\n",
              "      <td>1.0</td>\n",
              "      <td>0.539904</td>\n",
              "      <td>38.341781</td>\n",
              "    </tr>\n",
              "    <tr>\n",
              "      <th>14</th>\n",
              "      <td>0.25</td>\n",
              "      <td>0.25</td>\n",
              "      <td>0.25</td>\n",
              "      <td>94.6</td>\n",
              "      <td>1.0</td>\n",
              "      <td>0.381314</td>\n",
              "      <td>30.793741</td>\n",
              "    </tr>\n",
              "    <tr>\n",
              "      <th>542</th>\n",
              "      <td>0.50</td>\n",
              "      <td>0.50</td>\n",
              "      <td>0.75</td>\n",
              "      <td>86.0</td>\n",
              "      <td>34.0</td>\n",
              "      <td>0.402948</td>\n",
              "      <td>31.702301</td>\n",
              "    </tr>\n",
              "  </tbody>\n",
              "</table>\n",
              "</div>"
            ],
            "text/plain": [
              "     honeybee  andrena  osmia  ...  RainingDays  fruitset      seeds\n",
              "150      0.25     0.38   0.38  ...          1.0  0.556295  38.868110\n",
              "122      0.25     0.25   0.75  ...         34.0  0.411591  31.004606\n",
              "546      0.50     0.50   0.75  ...          1.0  0.539904  38.341781\n",
              "14       0.25     0.25   0.25  ...          1.0  0.381314  30.793741\n",
              "542      0.50     0.50   0.75  ...         34.0  0.402948  31.702301\n",
              "\n",
              "[5 rows x 7 columns]"
            ]
          },
          "metadata": {
            "tags": []
          },
          "execution_count": 68
        }
      ]
    },
    {
      "cell_type": "code",
      "metadata": {
        "colab": {
          "base_uri": "https://localhost:8080/"
        },
        "id": "t2lqJAOoTp0Z",
        "outputId": "d6448c28-fdf0-4c1d-b39e-1db3390b5bd4"
      },
      "source": [
        "y_test_xg.head()"
      ],
      "execution_count": null,
      "outputs": [
        {
          "output_type": "execute_result",
          "data": {
            "text/plain": [
              "150    6795.881873\n",
              "122    4357.822918\n",
              "546    7293.536170\n",
              "14     3900.344042\n",
              "542    4387.741853\n",
              "Name: yield, dtype: float64"
            ]
          },
          "metadata": {
            "tags": []
          },
          "execution_count": 69
        }
      ]
    },
    {
      "cell_type": "code",
      "metadata": {
        "id": "Xd-WmLny5g6K"
      },
      "source": [
        "def get_prediction(x, describe=False):\n",
        "    scoring_payload = {\"input_data\": [{\"values\": [list(x)]}]}\n",
        "    predictions = client.deployments.score(\"f4554129-4e67-4711-8630-da8ff2f62330\", scoring_payload)\n",
        "    probability = np.round(predictions['predictions'][0]['values'][0][1], 0)\n",
        "    if describe:\n",
        "        print(f\"The prediction is {probability}.\")\n",
        "    return probability"
      ],
      "execution_count": null,
      "outputs": []
    },
    {
      "cell_type": "code",
      "metadata": {
        "colab": {
          "base_uri": "https://localhost:8080/",
          "height": 519
        },
        "id": "bQTzZiQ25QFa",
        "outputId": "a8bf9155-26a7-41f1-89bb-febf6512ddaa"
      },
      "source": [
        "predictions = get_prediction(X_test_xg.iloc[0], describe=True)"
      ],
      "execution_count": null,
      "outputs": [
        {
          "output_type": "error",
          "ename": "ConnectionError",
          "evalue": "ignored",
          "traceback": [
            "\u001b[0;31m---------------------------------------------------------------------------\u001b[0m",
            "\u001b[0;31mConnectionResetError\u001b[0m                      Traceback (most recent call last)",
            "\u001b[0;32m/usr/local/lib/python3.7/dist-packages/urllib3/connectionpool.py\u001b[0m in \u001b[0;36murlopen\u001b[0;34m(self, method, url, body, headers, retries, redirect, assert_same_host, timeout, pool_timeout, release_conn, chunked, body_pos, **response_kw)\u001b[0m\n\u001b[1;32m    599\u001b[0m                                                   \u001b[0mbody\u001b[0m\u001b[0;34m=\u001b[0m\u001b[0mbody\u001b[0m\u001b[0;34m,\u001b[0m \u001b[0mheaders\u001b[0m\u001b[0;34m=\u001b[0m\u001b[0mheaders\u001b[0m\u001b[0;34m,\u001b[0m\u001b[0;34m\u001b[0m\u001b[0;34m\u001b[0m\u001b[0m\n\u001b[0;32m--> 600\u001b[0;31m                                                   chunked=chunked)\n\u001b[0m\u001b[1;32m    601\u001b[0m \u001b[0;34m\u001b[0m\u001b[0m\n",
            "\u001b[0;32m/usr/local/lib/python3.7/dist-packages/urllib3/connectionpool.py\u001b[0m in \u001b[0;36m_make_request\u001b[0;34m(self, conn, method, url, timeout, chunked, **httplib_request_kw)\u001b[0m\n\u001b[1;32m    383\u001b[0m                     \u001b[0;31m# otherwise it looks like a programming error was the cause.\u001b[0m\u001b[0;34m\u001b[0m\u001b[0;34m\u001b[0m\u001b[0;34m\u001b[0m\u001b[0m\n\u001b[0;32m--> 384\u001b[0;31m                     \u001b[0msix\u001b[0m\u001b[0;34m.\u001b[0m\u001b[0mraise_from\u001b[0m\u001b[0;34m(\u001b[0m\u001b[0me\u001b[0m\u001b[0;34m,\u001b[0m \u001b[0;32mNone\u001b[0m\u001b[0;34m)\u001b[0m\u001b[0;34m\u001b[0m\u001b[0;34m\u001b[0m\u001b[0m\n\u001b[0m\u001b[1;32m    385\u001b[0m         \u001b[0;32mexcept\u001b[0m \u001b[0;34m(\u001b[0m\u001b[0mSocketTimeout\u001b[0m\u001b[0;34m,\u001b[0m \u001b[0mBaseSSLError\u001b[0m\u001b[0;34m,\u001b[0m \u001b[0mSocketError\u001b[0m\u001b[0;34m)\u001b[0m \u001b[0;32mas\u001b[0m \u001b[0me\u001b[0m\u001b[0;34m:\u001b[0m\u001b[0;34m\u001b[0m\u001b[0;34m\u001b[0m\u001b[0m\n",
            "\u001b[0;32m/usr/local/lib/python3.7/dist-packages/urllib3/packages/six.py\u001b[0m in \u001b[0;36mraise_from\u001b[0;34m(value, from_value)\u001b[0m\n",
            "\u001b[0;32m/usr/local/lib/python3.7/dist-packages/urllib3/connectionpool.py\u001b[0m in \u001b[0;36m_make_request\u001b[0;34m(self, conn, method, url, timeout, chunked, **httplib_request_kw)\u001b[0m\n\u001b[1;32m    379\u001b[0m                 \u001b[0;32mtry\u001b[0m\u001b[0;34m:\u001b[0m\u001b[0;34m\u001b[0m\u001b[0;34m\u001b[0m\u001b[0m\n\u001b[0;32m--> 380\u001b[0;31m                     \u001b[0mhttplib_response\u001b[0m \u001b[0;34m=\u001b[0m \u001b[0mconn\u001b[0m\u001b[0;34m.\u001b[0m\u001b[0mgetresponse\u001b[0m\u001b[0;34m(\u001b[0m\u001b[0;34m)\u001b[0m\u001b[0;34m\u001b[0m\u001b[0;34m\u001b[0m\u001b[0m\n\u001b[0m\u001b[1;32m    381\u001b[0m                 \u001b[0;32mexcept\u001b[0m \u001b[0mException\u001b[0m \u001b[0;32mas\u001b[0m \u001b[0me\u001b[0m\u001b[0;34m:\u001b[0m\u001b[0;34m\u001b[0m\u001b[0;34m\u001b[0m\u001b[0m\n",
            "\u001b[0;32m/usr/lib/python3.7/http/client.py\u001b[0m in \u001b[0;36mgetresponse\u001b[0;34m(self)\u001b[0m\n\u001b[1;32m   1368\u001b[0m             \u001b[0;32mtry\u001b[0m\u001b[0;34m:\u001b[0m\u001b[0;34m\u001b[0m\u001b[0;34m\u001b[0m\u001b[0m\n\u001b[0;32m-> 1369\u001b[0;31m                 \u001b[0mresponse\u001b[0m\u001b[0;34m.\u001b[0m\u001b[0mbegin\u001b[0m\u001b[0;34m(\u001b[0m\u001b[0;34m)\u001b[0m\u001b[0;34m\u001b[0m\u001b[0;34m\u001b[0m\u001b[0m\n\u001b[0m\u001b[1;32m   1370\u001b[0m             \u001b[0;32mexcept\u001b[0m \u001b[0mConnectionError\u001b[0m\u001b[0;34m:\u001b[0m\u001b[0;34m\u001b[0m\u001b[0;34m\u001b[0m\u001b[0m\n",
            "\u001b[0;32m/usr/lib/python3.7/http/client.py\u001b[0m in \u001b[0;36mbegin\u001b[0;34m(self)\u001b[0m\n\u001b[1;32m    309\u001b[0m         \u001b[0;32mwhile\u001b[0m \u001b[0;32mTrue\u001b[0m\u001b[0;34m:\u001b[0m\u001b[0;34m\u001b[0m\u001b[0;34m\u001b[0m\u001b[0m\n\u001b[0;32m--> 310\u001b[0;31m             \u001b[0mversion\u001b[0m\u001b[0;34m,\u001b[0m \u001b[0mstatus\u001b[0m\u001b[0;34m,\u001b[0m \u001b[0mreason\u001b[0m \u001b[0;34m=\u001b[0m \u001b[0mself\u001b[0m\u001b[0;34m.\u001b[0m\u001b[0m_read_status\u001b[0m\u001b[0;34m(\u001b[0m\u001b[0;34m)\u001b[0m\u001b[0;34m\u001b[0m\u001b[0;34m\u001b[0m\u001b[0m\n\u001b[0m\u001b[1;32m    311\u001b[0m             \u001b[0;32mif\u001b[0m \u001b[0mstatus\u001b[0m \u001b[0;34m!=\u001b[0m \u001b[0mCONTINUE\u001b[0m\u001b[0;34m:\u001b[0m\u001b[0;34m\u001b[0m\u001b[0;34m\u001b[0m\u001b[0m\n",
            "\u001b[0;32m/usr/lib/python3.7/http/client.py\u001b[0m in \u001b[0;36m_read_status\u001b[0;34m(self)\u001b[0m\n\u001b[1;32m    270\u001b[0m     \u001b[0;32mdef\u001b[0m \u001b[0m_read_status\u001b[0m\u001b[0;34m(\u001b[0m\u001b[0mself\u001b[0m\u001b[0;34m)\u001b[0m\u001b[0;34m:\u001b[0m\u001b[0;34m\u001b[0m\u001b[0;34m\u001b[0m\u001b[0m\n\u001b[0;32m--> 271\u001b[0;31m         \u001b[0mline\u001b[0m \u001b[0;34m=\u001b[0m \u001b[0mstr\u001b[0m\u001b[0;34m(\u001b[0m\u001b[0mself\u001b[0m\u001b[0;34m.\u001b[0m\u001b[0mfp\u001b[0m\u001b[0;34m.\u001b[0m\u001b[0mreadline\u001b[0m\u001b[0;34m(\u001b[0m\u001b[0m_MAXLINE\u001b[0m \u001b[0;34m+\u001b[0m \u001b[0;36m1\u001b[0m\u001b[0;34m)\u001b[0m\u001b[0;34m,\u001b[0m \u001b[0;34m\"iso-8859-1\"\u001b[0m\u001b[0;34m)\u001b[0m\u001b[0;34m\u001b[0m\u001b[0;34m\u001b[0m\u001b[0m\n\u001b[0m\u001b[1;32m    272\u001b[0m         \u001b[0;32mif\u001b[0m \u001b[0mlen\u001b[0m\u001b[0;34m(\u001b[0m\u001b[0mline\u001b[0m\u001b[0;34m)\u001b[0m \u001b[0;34m>\u001b[0m \u001b[0m_MAXLINE\u001b[0m\u001b[0;34m:\u001b[0m\u001b[0;34m\u001b[0m\u001b[0;34m\u001b[0m\u001b[0m\n",
            "\u001b[0;32m/usr/lib/python3.7/socket.py\u001b[0m in \u001b[0;36mreadinto\u001b[0;34m(self, b)\u001b[0m\n\u001b[1;32m    588\u001b[0m             \u001b[0;32mtry\u001b[0m\u001b[0;34m:\u001b[0m\u001b[0;34m\u001b[0m\u001b[0;34m\u001b[0m\u001b[0m\n\u001b[0;32m--> 589\u001b[0;31m                 \u001b[0;32mreturn\u001b[0m \u001b[0mself\u001b[0m\u001b[0;34m.\u001b[0m\u001b[0m_sock\u001b[0m\u001b[0;34m.\u001b[0m\u001b[0mrecv_into\u001b[0m\u001b[0;34m(\u001b[0m\u001b[0mb\u001b[0m\u001b[0;34m)\u001b[0m\u001b[0;34m\u001b[0m\u001b[0;34m\u001b[0m\u001b[0m\n\u001b[0m\u001b[1;32m    590\u001b[0m             \u001b[0;32mexcept\u001b[0m \u001b[0mtimeout\u001b[0m\u001b[0;34m:\u001b[0m\u001b[0;34m\u001b[0m\u001b[0;34m\u001b[0m\u001b[0m\n",
            "\u001b[0;32m/usr/lib/python3.7/ssl.py\u001b[0m in \u001b[0;36mrecv_into\u001b[0;34m(self, buffer, nbytes, flags)\u001b[0m\n\u001b[1;32m   1070\u001b[0m                   self.__class__)\n\u001b[0;32m-> 1071\u001b[0;31m             \u001b[0;32mreturn\u001b[0m \u001b[0mself\u001b[0m\u001b[0;34m.\u001b[0m\u001b[0mread\u001b[0m\u001b[0;34m(\u001b[0m\u001b[0mnbytes\u001b[0m\u001b[0;34m,\u001b[0m \u001b[0mbuffer\u001b[0m\u001b[0;34m)\u001b[0m\u001b[0;34m\u001b[0m\u001b[0;34m\u001b[0m\u001b[0m\n\u001b[0m\u001b[1;32m   1072\u001b[0m         \u001b[0;32melse\u001b[0m\u001b[0;34m:\u001b[0m\u001b[0;34m\u001b[0m\u001b[0;34m\u001b[0m\u001b[0m\n",
            "\u001b[0;32m/usr/lib/python3.7/ssl.py\u001b[0m in \u001b[0;36mread\u001b[0;34m(self, len, buffer)\u001b[0m\n\u001b[1;32m    928\u001b[0m             \u001b[0;32mif\u001b[0m \u001b[0mbuffer\u001b[0m \u001b[0;32mis\u001b[0m \u001b[0;32mnot\u001b[0m \u001b[0;32mNone\u001b[0m\u001b[0;34m:\u001b[0m\u001b[0;34m\u001b[0m\u001b[0;34m\u001b[0m\u001b[0m\n\u001b[0;32m--> 929\u001b[0;31m                 \u001b[0;32mreturn\u001b[0m \u001b[0mself\u001b[0m\u001b[0;34m.\u001b[0m\u001b[0m_sslobj\u001b[0m\u001b[0;34m.\u001b[0m\u001b[0mread\u001b[0m\u001b[0;34m(\u001b[0m\u001b[0mlen\u001b[0m\u001b[0;34m,\u001b[0m \u001b[0mbuffer\u001b[0m\u001b[0;34m)\u001b[0m\u001b[0;34m\u001b[0m\u001b[0;34m\u001b[0m\u001b[0m\n\u001b[0m\u001b[1;32m    930\u001b[0m             \u001b[0;32melse\u001b[0m\u001b[0;34m:\u001b[0m\u001b[0;34m\u001b[0m\u001b[0;34m\u001b[0m\u001b[0m\n",
            "\u001b[0;31mConnectionResetError\u001b[0m: [Errno 104] Connection reset by peer",
            "\nDuring handling of the above exception, another exception occurred:\n",
            "\u001b[0;31mProtocolError\u001b[0m                             Traceback (most recent call last)",
            "\u001b[0;32m/usr/local/lib/python3.7/dist-packages/requests/adapters.py\u001b[0m in \u001b[0;36msend\u001b[0;34m(self, request, stream, timeout, verify, cert, proxies)\u001b[0m\n\u001b[1;32m    448\u001b[0m                     \u001b[0mretries\u001b[0m\u001b[0;34m=\u001b[0m\u001b[0mself\u001b[0m\u001b[0;34m.\u001b[0m\u001b[0mmax_retries\u001b[0m\u001b[0;34m,\u001b[0m\u001b[0;34m\u001b[0m\u001b[0;34m\u001b[0m\u001b[0m\n\u001b[0;32m--> 449\u001b[0;31m                     \u001b[0mtimeout\u001b[0m\u001b[0;34m=\u001b[0m\u001b[0mtimeout\u001b[0m\u001b[0;34m\u001b[0m\u001b[0;34m\u001b[0m\u001b[0m\n\u001b[0m\u001b[1;32m    450\u001b[0m                 )\n",
            "\u001b[0;32m/usr/local/lib/python3.7/dist-packages/urllib3/connectionpool.py\u001b[0m in \u001b[0;36murlopen\u001b[0;34m(self, method, url, body, headers, retries, redirect, assert_same_host, timeout, pool_timeout, release_conn, chunked, body_pos, **response_kw)\u001b[0m\n\u001b[1;32m    637\u001b[0m             retries = retries.increment(method, url, error=e, _pool=self,\n\u001b[0;32m--> 638\u001b[0;31m                                         _stacktrace=sys.exc_info()[2])\n\u001b[0m\u001b[1;32m    639\u001b[0m             \u001b[0mretries\u001b[0m\u001b[0;34m.\u001b[0m\u001b[0msleep\u001b[0m\u001b[0;34m(\u001b[0m\u001b[0;34m)\u001b[0m\u001b[0;34m\u001b[0m\u001b[0;34m\u001b[0m\u001b[0m\n",
            "\u001b[0;32m/usr/local/lib/python3.7/dist-packages/urllib3/util/retry.py\u001b[0m in \u001b[0;36mincrement\u001b[0;34m(self, method, url, response, error, _pool, _stacktrace)\u001b[0m\n\u001b[1;32m    367\u001b[0m             \u001b[0;32mif\u001b[0m \u001b[0mread\u001b[0m \u001b[0;32mis\u001b[0m \u001b[0;32mFalse\u001b[0m \u001b[0;32mor\u001b[0m \u001b[0;32mnot\u001b[0m \u001b[0mself\u001b[0m\u001b[0;34m.\u001b[0m\u001b[0m_is_method_retryable\u001b[0m\u001b[0;34m(\u001b[0m\u001b[0mmethod\u001b[0m\u001b[0;34m)\u001b[0m\u001b[0;34m:\u001b[0m\u001b[0;34m\u001b[0m\u001b[0;34m\u001b[0m\u001b[0m\n\u001b[0;32m--> 368\u001b[0;31m                 \u001b[0;32mraise\u001b[0m \u001b[0msix\u001b[0m\u001b[0;34m.\u001b[0m\u001b[0mreraise\u001b[0m\u001b[0;34m(\u001b[0m\u001b[0mtype\u001b[0m\u001b[0;34m(\u001b[0m\u001b[0merror\u001b[0m\u001b[0;34m)\u001b[0m\u001b[0;34m,\u001b[0m \u001b[0merror\u001b[0m\u001b[0;34m,\u001b[0m \u001b[0m_stacktrace\u001b[0m\u001b[0;34m)\u001b[0m\u001b[0;34m\u001b[0m\u001b[0;34m\u001b[0m\u001b[0m\n\u001b[0m\u001b[1;32m    369\u001b[0m             \u001b[0;32melif\u001b[0m \u001b[0mread\u001b[0m \u001b[0;32mis\u001b[0m \u001b[0;32mnot\u001b[0m \u001b[0;32mNone\u001b[0m\u001b[0;34m:\u001b[0m\u001b[0;34m\u001b[0m\u001b[0;34m\u001b[0m\u001b[0m\n",
            "\u001b[0;32m/usr/local/lib/python3.7/dist-packages/urllib3/packages/six.py\u001b[0m in \u001b[0;36mreraise\u001b[0;34m(tp, value, tb)\u001b[0m\n\u001b[1;32m    684\u001b[0m         \u001b[0;32mif\u001b[0m \u001b[0mvalue\u001b[0m\u001b[0;34m.\u001b[0m\u001b[0m__traceback__\u001b[0m \u001b[0;32mis\u001b[0m \u001b[0;32mnot\u001b[0m \u001b[0mtb\u001b[0m\u001b[0;34m:\u001b[0m\u001b[0;34m\u001b[0m\u001b[0;34m\u001b[0m\u001b[0m\n\u001b[0;32m--> 685\u001b[0;31m             \u001b[0;32mraise\u001b[0m \u001b[0mvalue\u001b[0m\u001b[0;34m.\u001b[0m\u001b[0mwith_traceback\u001b[0m\u001b[0;34m(\u001b[0m\u001b[0mtb\u001b[0m\u001b[0;34m)\u001b[0m\u001b[0;34m\u001b[0m\u001b[0;34m\u001b[0m\u001b[0m\n\u001b[0m\u001b[1;32m    686\u001b[0m         \u001b[0;32mraise\u001b[0m \u001b[0mvalue\u001b[0m\u001b[0;34m\u001b[0m\u001b[0;34m\u001b[0m\u001b[0m\n",
            "\u001b[0;32m/usr/local/lib/python3.7/dist-packages/urllib3/connectionpool.py\u001b[0m in \u001b[0;36murlopen\u001b[0;34m(self, method, url, body, headers, retries, redirect, assert_same_host, timeout, pool_timeout, release_conn, chunked, body_pos, **response_kw)\u001b[0m\n\u001b[1;32m    599\u001b[0m                                                   \u001b[0mbody\u001b[0m\u001b[0;34m=\u001b[0m\u001b[0mbody\u001b[0m\u001b[0;34m,\u001b[0m \u001b[0mheaders\u001b[0m\u001b[0;34m=\u001b[0m\u001b[0mheaders\u001b[0m\u001b[0;34m,\u001b[0m\u001b[0;34m\u001b[0m\u001b[0;34m\u001b[0m\u001b[0m\n\u001b[0;32m--> 600\u001b[0;31m                                                   chunked=chunked)\n\u001b[0m\u001b[1;32m    601\u001b[0m \u001b[0;34m\u001b[0m\u001b[0m\n",
            "\u001b[0;32m/usr/local/lib/python3.7/dist-packages/urllib3/connectionpool.py\u001b[0m in \u001b[0;36m_make_request\u001b[0;34m(self, conn, method, url, timeout, chunked, **httplib_request_kw)\u001b[0m\n\u001b[1;32m    383\u001b[0m                     \u001b[0;31m# otherwise it looks like a programming error was the cause.\u001b[0m\u001b[0;34m\u001b[0m\u001b[0;34m\u001b[0m\u001b[0;34m\u001b[0m\u001b[0m\n\u001b[0;32m--> 384\u001b[0;31m                     \u001b[0msix\u001b[0m\u001b[0;34m.\u001b[0m\u001b[0mraise_from\u001b[0m\u001b[0;34m(\u001b[0m\u001b[0me\u001b[0m\u001b[0;34m,\u001b[0m \u001b[0;32mNone\u001b[0m\u001b[0;34m)\u001b[0m\u001b[0;34m\u001b[0m\u001b[0;34m\u001b[0m\u001b[0m\n\u001b[0m\u001b[1;32m    385\u001b[0m         \u001b[0;32mexcept\u001b[0m \u001b[0;34m(\u001b[0m\u001b[0mSocketTimeout\u001b[0m\u001b[0;34m,\u001b[0m \u001b[0mBaseSSLError\u001b[0m\u001b[0;34m,\u001b[0m \u001b[0mSocketError\u001b[0m\u001b[0;34m)\u001b[0m \u001b[0;32mas\u001b[0m \u001b[0me\u001b[0m\u001b[0;34m:\u001b[0m\u001b[0;34m\u001b[0m\u001b[0;34m\u001b[0m\u001b[0m\n",
            "\u001b[0;32m/usr/local/lib/python3.7/dist-packages/urllib3/packages/six.py\u001b[0m in \u001b[0;36mraise_from\u001b[0;34m(value, from_value)\u001b[0m\n",
            "\u001b[0;32m/usr/local/lib/python3.7/dist-packages/urllib3/connectionpool.py\u001b[0m in \u001b[0;36m_make_request\u001b[0;34m(self, conn, method, url, timeout, chunked, **httplib_request_kw)\u001b[0m\n\u001b[1;32m    379\u001b[0m                 \u001b[0;32mtry\u001b[0m\u001b[0;34m:\u001b[0m\u001b[0;34m\u001b[0m\u001b[0;34m\u001b[0m\u001b[0m\n\u001b[0;32m--> 380\u001b[0;31m                     \u001b[0mhttplib_response\u001b[0m \u001b[0;34m=\u001b[0m \u001b[0mconn\u001b[0m\u001b[0;34m.\u001b[0m\u001b[0mgetresponse\u001b[0m\u001b[0;34m(\u001b[0m\u001b[0;34m)\u001b[0m\u001b[0;34m\u001b[0m\u001b[0;34m\u001b[0m\u001b[0m\n\u001b[0m\u001b[1;32m    381\u001b[0m                 \u001b[0;32mexcept\u001b[0m \u001b[0mException\u001b[0m \u001b[0;32mas\u001b[0m \u001b[0me\u001b[0m\u001b[0;34m:\u001b[0m\u001b[0;34m\u001b[0m\u001b[0;34m\u001b[0m\u001b[0m\n",
            "\u001b[0;32m/usr/lib/python3.7/http/client.py\u001b[0m in \u001b[0;36mgetresponse\u001b[0;34m(self)\u001b[0m\n\u001b[1;32m   1368\u001b[0m             \u001b[0;32mtry\u001b[0m\u001b[0;34m:\u001b[0m\u001b[0;34m\u001b[0m\u001b[0;34m\u001b[0m\u001b[0m\n\u001b[0;32m-> 1369\u001b[0;31m                 \u001b[0mresponse\u001b[0m\u001b[0;34m.\u001b[0m\u001b[0mbegin\u001b[0m\u001b[0;34m(\u001b[0m\u001b[0;34m)\u001b[0m\u001b[0;34m\u001b[0m\u001b[0;34m\u001b[0m\u001b[0m\n\u001b[0m\u001b[1;32m   1370\u001b[0m             \u001b[0;32mexcept\u001b[0m \u001b[0mConnectionError\u001b[0m\u001b[0;34m:\u001b[0m\u001b[0;34m\u001b[0m\u001b[0;34m\u001b[0m\u001b[0m\n",
            "\u001b[0;32m/usr/lib/python3.7/http/client.py\u001b[0m in \u001b[0;36mbegin\u001b[0;34m(self)\u001b[0m\n\u001b[1;32m    309\u001b[0m         \u001b[0;32mwhile\u001b[0m \u001b[0;32mTrue\u001b[0m\u001b[0;34m:\u001b[0m\u001b[0;34m\u001b[0m\u001b[0;34m\u001b[0m\u001b[0m\n\u001b[0;32m--> 310\u001b[0;31m             \u001b[0mversion\u001b[0m\u001b[0;34m,\u001b[0m \u001b[0mstatus\u001b[0m\u001b[0;34m,\u001b[0m \u001b[0mreason\u001b[0m \u001b[0;34m=\u001b[0m \u001b[0mself\u001b[0m\u001b[0;34m.\u001b[0m\u001b[0m_read_status\u001b[0m\u001b[0;34m(\u001b[0m\u001b[0;34m)\u001b[0m\u001b[0;34m\u001b[0m\u001b[0;34m\u001b[0m\u001b[0m\n\u001b[0m\u001b[1;32m    311\u001b[0m             \u001b[0;32mif\u001b[0m \u001b[0mstatus\u001b[0m \u001b[0;34m!=\u001b[0m \u001b[0mCONTINUE\u001b[0m\u001b[0;34m:\u001b[0m\u001b[0;34m\u001b[0m\u001b[0;34m\u001b[0m\u001b[0m\n",
            "\u001b[0;32m/usr/lib/python3.7/http/client.py\u001b[0m in \u001b[0;36m_read_status\u001b[0;34m(self)\u001b[0m\n\u001b[1;32m    270\u001b[0m     \u001b[0;32mdef\u001b[0m \u001b[0m_read_status\u001b[0m\u001b[0;34m(\u001b[0m\u001b[0mself\u001b[0m\u001b[0;34m)\u001b[0m\u001b[0;34m:\u001b[0m\u001b[0;34m\u001b[0m\u001b[0;34m\u001b[0m\u001b[0m\n\u001b[0;32m--> 271\u001b[0;31m         \u001b[0mline\u001b[0m \u001b[0;34m=\u001b[0m \u001b[0mstr\u001b[0m\u001b[0;34m(\u001b[0m\u001b[0mself\u001b[0m\u001b[0;34m.\u001b[0m\u001b[0mfp\u001b[0m\u001b[0;34m.\u001b[0m\u001b[0mreadline\u001b[0m\u001b[0;34m(\u001b[0m\u001b[0m_MAXLINE\u001b[0m \u001b[0;34m+\u001b[0m \u001b[0;36m1\u001b[0m\u001b[0;34m)\u001b[0m\u001b[0;34m,\u001b[0m \u001b[0;34m\"iso-8859-1\"\u001b[0m\u001b[0;34m)\u001b[0m\u001b[0;34m\u001b[0m\u001b[0;34m\u001b[0m\u001b[0m\n\u001b[0m\u001b[1;32m    272\u001b[0m         \u001b[0;32mif\u001b[0m \u001b[0mlen\u001b[0m\u001b[0;34m(\u001b[0m\u001b[0mline\u001b[0m\u001b[0;34m)\u001b[0m \u001b[0;34m>\u001b[0m \u001b[0m_MAXLINE\u001b[0m\u001b[0;34m:\u001b[0m\u001b[0;34m\u001b[0m\u001b[0;34m\u001b[0m\u001b[0m\n",
            "\u001b[0;32m/usr/lib/python3.7/socket.py\u001b[0m in \u001b[0;36mreadinto\u001b[0;34m(self, b)\u001b[0m\n\u001b[1;32m    588\u001b[0m             \u001b[0;32mtry\u001b[0m\u001b[0;34m:\u001b[0m\u001b[0;34m\u001b[0m\u001b[0;34m\u001b[0m\u001b[0m\n\u001b[0;32m--> 589\u001b[0;31m                 \u001b[0;32mreturn\u001b[0m \u001b[0mself\u001b[0m\u001b[0;34m.\u001b[0m\u001b[0m_sock\u001b[0m\u001b[0;34m.\u001b[0m\u001b[0mrecv_into\u001b[0m\u001b[0;34m(\u001b[0m\u001b[0mb\u001b[0m\u001b[0;34m)\u001b[0m\u001b[0;34m\u001b[0m\u001b[0;34m\u001b[0m\u001b[0m\n\u001b[0m\u001b[1;32m    590\u001b[0m             \u001b[0;32mexcept\u001b[0m \u001b[0mtimeout\u001b[0m\u001b[0;34m:\u001b[0m\u001b[0;34m\u001b[0m\u001b[0;34m\u001b[0m\u001b[0m\n",
            "\u001b[0;32m/usr/lib/python3.7/ssl.py\u001b[0m in \u001b[0;36mrecv_into\u001b[0;34m(self, buffer, nbytes, flags)\u001b[0m\n\u001b[1;32m   1070\u001b[0m                   self.__class__)\n\u001b[0;32m-> 1071\u001b[0;31m             \u001b[0;32mreturn\u001b[0m \u001b[0mself\u001b[0m\u001b[0;34m.\u001b[0m\u001b[0mread\u001b[0m\u001b[0;34m(\u001b[0m\u001b[0mnbytes\u001b[0m\u001b[0;34m,\u001b[0m \u001b[0mbuffer\u001b[0m\u001b[0;34m)\u001b[0m\u001b[0;34m\u001b[0m\u001b[0;34m\u001b[0m\u001b[0m\n\u001b[0m\u001b[1;32m   1072\u001b[0m         \u001b[0;32melse\u001b[0m\u001b[0;34m:\u001b[0m\u001b[0;34m\u001b[0m\u001b[0;34m\u001b[0m\u001b[0m\n",
            "\u001b[0;32m/usr/lib/python3.7/ssl.py\u001b[0m in \u001b[0;36mread\u001b[0;34m(self, len, buffer)\u001b[0m\n\u001b[1;32m    928\u001b[0m             \u001b[0;32mif\u001b[0m \u001b[0mbuffer\u001b[0m \u001b[0;32mis\u001b[0m \u001b[0;32mnot\u001b[0m \u001b[0;32mNone\u001b[0m\u001b[0;34m:\u001b[0m\u001b[0;34m\u001b[0m\u001b[0;34m\u001b[0m\u001b[0m\n\u001b[0;32m--> 929\u001b[0;31m                 \u001b[0;32mreturn\u001b[0m \u001b[0mself\u001b[0m\u001b[0;34m.\u001b[0m\u001b[0m_sslobj\u001b[0m\u001b[0;34m.\u001b[0m\u001b[0mread\u001b[0m\u001b[0;34m(\u001b[0m\u001b[0mlen\u001b[0m\u001b[0;34m,\u001b[0m \u001b[0mbuffer\u001b[0m\u001b[0;34m)\u001b[0m\u001b[0;34m\u001b[0m\u001b[0;34m\u001b[0m\u001b[0m\n\u001b[0m\u001b[1;32m    930\u001b[0m             \u001b[0;32melse\u001b[0m\u001b[0;34m:\u001b[0m\u001b[0;34m\u001b[0m\u001b[0;34m\u001b[0m\u001b[0m\n",
            "\u001b[0;31mProtocolError\u001b[0m: ('Connection aborted.', ConnectionResetError(104, 'Connection reset by peer'))",
            "\nDuring handling of the above exception, another exception occurred:\n",
            "\u001b[0;31mConnectionError\u001b[0m                           Traceback (most recent call last)",
            "\u001b[0;32m<ipython-input-71-fab0ef512d82>\u001b[0m in \u001b[0;36m<module>\u001b[0;34m()\u001b[0m\n\u001b[0;32m----> 1\u001b[0;31m \u001b[0mpredictions\u001b[0m \u001b[0;34m=\u001b[0m \u001b[0mget_prediction\u001b[0m\u001b[0;34m(\u001b[0m\u001b[0mX_test_xg\u001b[0m\u001b[0;34m.\u001b[0m\u001b[0miloc\u001b[0m\u001b[0;34m[\u001b[0m\u001b[0;36m0\u001b[0m\u001b[0;34m]\u001b[0m\u001b[0;34m,\u001b[0m \u001b[0mdescribe\u001b[0m\u001b[0;34m=\u001b[0m\u001b[0;32mTrue\u001b[0m\u001b[0;34m)\u001b[0m\u001b[0;34m\u001b[0m\u001b[0;34m\u001b[0m\u001b[0m\n\u001b[0m",
            "\u001b[0;32m<ipython-input-70-66c155fc285c>\u001b[0m in \u001b[0;36mget_prediction\u001b[0;34m(x, describe)\u001b[0m\n\u001b[1;32m      1\u001b[0m \u001b[0;32mdef\u001b[0m \u001b[0mget_prediction\u001b[0m\u001b[0;34m(\u001b[0m\u001b[0mx\u001b[0m\u001b[0;34m,\u001b[0m \u001b[0mdescribe\u001b[0m\u001b[0;34m=\u001b[0m\u001b[0;32mFalse\u001b[0m\u001b[0;34m)\u001b[0m\u001b[0;34m:\u001b[0m\u001b[0;34m\u001b[0m\u001b[0;34m\u001b[0m\u001b[0m\n\u001b[1;32m      2\u001b[0m     \u001b[0mscoring_payload\u001b[0m \u001b[0;34m=\u001b[0m \u001b[0;34m{\u001b[0m\u001b[0;34m\"input_data\"\u001b[0m\u001b[0;34m:\u001b[0m \u001b[0;34m[\u001b[0m\u001b[0;34m{\u001b[0m\u001b[0;34m\"values\"\u001b[0m\u001b[0;34m:\u001b[0m \u001b[0;34m[\u001b[0m\u001b[0mlist\u001b[0m\u001b[0;34m(\u001b[0m\u001b[0mx\u001b[0m\u001b[0;34m)\u001b[0m\u001b[0;34m]\u001b[0m\u001b[0;34m}\u001b[0m\u001b[0;34m]\u001b[0m\u001b[0;34m}\u001b[0m\u001b[0;34m\u001b[0m\u001b[0;34m\u001b[0m\u001b[0m\n\u001b[0;32m----> 3\u001b[0;31m     \u001b[0mpredictions\u001b[0m \u001b[0;34m=\u001b[0m \u001b[0mclient\u001b[0m\u001b[0;34m.\u001b[0m\u001b[0mdeployments\u001b[0m\u001b[0;34m.\u001b[0m\u001b[0mscore\u001b[0m\u001b[0;34m(\u001b[0m\u001b[0;34m\"f4554129-4e67-4711-8630-da8ff2f62330\"\u001b[0m\u001b[0;34m,\u001b[0m \u001b[0mscoring_payload\u001b[0m\u001b[0;34m)\u001b[0m\u001b[0;34m\u001b[0m\u001b[0;34m\u001b[0m\u001b[0m\n\u001b[0m\u001b[1;32m      4\u001b[0m     \u001b[0mprobability\u001b[0m \u001b[0;34m=\u001b[0m \u001b[0mnp\u001b[0m\u001b[0;34m.\u001b[0m\u001b[0mround\u001b[0m\u001b[0;34m(\u001b[0m\u001b[0mpredictions\u001b[0m\u001b[0;34m[\u001b[0m\u001b[0;34m'predictions'\u001b[0m\u001b[0;34m]\u001b[0m\u001b[0;34m[\u001b[0m\u001b[0;36m0\u001b[0m\u001b[0;34m]\u001b[0m\u001b[0;34m[\u001b[0m\u001b[0;34m'values'\u001b[0m\u001b[0;34m]\u001b[0m\u001b[0;34m[\u001b[0m\u001b[0;36m0\u001b[0m\u001b[0;34m]\u001b[0m\u001b[0;34m[\u001b[0m\u001b[0;36m1\u001b[0m\u001b[0;34m]\u001b[0m\u001b[0;34m,\u001b[0m \u001b[0;36m0\u001b[0m\u001b[0;34m)\u001b[0m\u001b[0;34m\u001b[0m\u001b[0;34m\u001b[0m\u001b[0m\n\u001b[1;32m      5\u001b[0m     \u001b[0;32mif\u001b[0m \u001b[0mdescribe\u001b[0m\u001b[0;34m:\u001b[0m\u001b[0;34m\u001b[0m\u001b[0;34m\u001b[0m\u001b[0m\n",
            "\u001b[0;32m/usr/local/lib/python3.7/dist-packages/ibm_watson_machine_learning/deployments.py\u001b[0m in \u001b[0;36mscore\u001b[0;34m(self, deployment_id, meta_props)\u001b[0m\n\u001b[1;32m    651\u001b[0m                     \u001b[0mjson\u001b[0m\u001b[0;34m=\u001b[0m\u001b[0mpayload\u001b[0m\u001b[0;34m,\u001b[0m\u001b[0;34m\u001b[0m\u001b[0;34m\u001b[0m\u001b[0m\n\u001b[1;32m    652\u001b[0m                     \u001b[0mparams\u001b[0m\u001b[0;34m=\u001b[0m\u001b[0mparams\u001b[0m\u001b[0;34m,\u001b[0m  \u001b[0;31m# version parameter is mandatory\u001b[0m\u001b[0;34m\u001b[0m\u001b[0;34m\u001b[0m\u001b[0m\n\u001b[0;32m--> 653\u001b[0;31m                     headers=headers)\n\u001b[0m\u001b[1;32m    654\u001b[0m             \u001b[0;32melse\u001b[0m\u001b[0;34m:\u001b[0m\u001b[0;34m\u001b[0m\u001b[0;34m\u001b[0m\u001b[0m\n\u001b[1;32m    655\u001b[0m                 response_scoring = self.session.post(\n",
            "\u001b[0;32m/usr/local/lib/python3.7/dist-packages/requests/sessions.py\u001b[0m in \u001b[0;36mpost\u001b[0;34m(self, url, data, json, **kwargs)\u001b[0m\n\u001b[1;32m    576\u001b[0m         \"\"\"\n\u001b[1;32m    577\u001b[0m \u001b[0;34m\u001b[0m\u001b[0m\n\u001b[0;32m--> 578\u001b[0;31m         \u001b[0;32mreturn\u001b[0m \u001b[0mself\u001b[0m\u001b[0;34m.\u001b[0m\u001b[0mrequest\u001b[0m\u001b[0;34m(\u001b[0m\u001b[0;34m'POST'\u001b[0m\u001b[0;34m,\u001b[0m \u001b[0murl\u001b[0m\u001b[0;34m,\u001b[0m \u001b[0mdata\u001b[0m\u001b[0;34m=\u001b[0m\u001b[0mdata\u001b[0m\u001b[0;34m,\u001b[0m \u001b[0mjson\u001b[0m\u001b[0;34m=\u001b[0m\u001b[0mjson\u001b[0m\u001b[0;34m,\u001b[0m \u001b[0;34m**\u001b[0m\u001b[0mkwargs\u001b[0m\u001b[0;34m)\u001b[0m\u001b[0;34m\u001b[0m\u001b[0;34m\u001b[0m\u001b[0m\n\u001b[0m\u001b[1;32m    579\u001b[0m \u001b[0;34m\u001b[0m\u001b[0m\n\u001b[1;32m    580\u001b[0m     \u001b[0;32mdef\u001b[0m \u001b[0mput\u001b[0m\u001b[0;34m(\u001b[0m\u001b[0mself\u001b[0m\u001b[0;34m,\u001b[0m \u001b[0murl\u001b[0m\u001b[0;34m,\u001b[0m \u001b[0mdata\u001b[0m\u001b[0;34m=\u001b[0m\u001b[0;32mNone\u001b[0m\u001b[0;34m,\u001b[0m \u001b[0;34m**\u001b[0m\u001b[0mkwargs\u001b[0m\u001b[0;34m)\u001b[0m\u001b[0;34m:\u001b[0m\u001b[0;34m\u001b[0m\u001b[0;34m\u001b[0m\u001b[0m\n",
            "\u001b[0;32m/usr/local/lib/python3.7/dist-packages/requests/sessions.py\u001b[0m in \u001b[0;36mrequest\u001b[0;34m(self, method, url, params, data, headers, cookies, files, auth, timeout, allow_redirects, proxies, hooks, stream, verify, cert, json)\u001b[0m\n\u001b[1;32m    528\u001b[0m         }\n\u001b[1;32m    529\u001b[0m         \u001b[0msend_kwargs\u001b[0m\u001b[0;34m.\u001b[0m\u001b[0mupdate\u001b[0m\u001b[0;34m(\u001b[0m\u001b[0msettings\u001b[0m\u001b[0;34m)\u001b[0m\u001b[0;34m\u001b[0m\u001b[0;34m\u001b[0m\u001b[0m\n\u001b[0;32m--> 530\u001b[0;31m         \u001b[0mresp\u001b[0m \u001b[0;34m=\u001b[0m \u001b[0mself\u001b[0m\u001b[0;34m.\u001b[0m\u001b[0msend\u001b[0m\u001b[0;34m(\u001b[0m\u001b[0mprep\u001b[0m\u001b[0;34m,\u001b[0m \u001b[0;34m**\u001b[0m\u001b[0msend_kwargs\u001b[0m\u001b[0;34m)\u001b[0m\u001b[0;34m\u001b[0m\u001b[0;34m\u001b[0m\u001b[0m\n\u001b[0m\u001b[1;32m    531\u001b[0m \u001b[0;34m\u001b[0m\u001b[0m\n\u001b[1;32m    532\u001b[0m         \u001b[0;32mreturn\u001b[0m \u001b[0mresp\u001b[0m\u001b[0;34m\u001b[0m\u001b[0;34m\u001b[0m\u001b[0m\n",
            "\u001b[0;32m/usr/local/lib/python3.7/dist-packages/requests/sessions.py\u001b[0m in \u001b[0;36msend\u001b[0;34m(self, request, **kwargs)\u001b[0m\n\u001b[1;32m    641\u001b[0m \u001b[0;34m\u001b[0m\u001b[0m\n\u001b[1;32m    642\u001b[0m         \u001b[0;31m# Send the request\u001b[0m\u001b[0;34m\u001b[0m\u001b[0;34m\u001b[0m\u001b[0;34m\u001b[0m\u001b[0m\n\u001b[0;32m--> 643\u001b[0;31m         \u001b[0mr\u001b[0m \u001b[0;34m=\u001b[0m \u001b[0madapter\u001b[0m\u001b[0;34m.\u001b[0m\u001b[0msend\u001b[0m\u001b[0;34m(\u001b[0m\u001b[0mrequest\u001b[0m\u001b[0;34m,\u001b[0m \u001b[0;34m**\u001b[0m\u001b[0mkwargs\u001b[0m\u001b[0;34m)\u001b[0m\u001b[0;34m\u001b[0m\u001b[0;34m\u001b[0m\u001b[0m\n\u001b[0m\u001b[1;32m    644\u001b[0m \u001b[0;34m\u001b[0m\u001b[0m\n\u001b[1;32m    645\u001b[0m         \u001b[0;31m# Total elapsed time of the request (approximately)\u001b[0m\u001b[0;34m\u001b[0m\u001b[0;34m\u001b[0m\u001b[0;34m\u001b[0m\u001b[0m\n",
            "\u001b[0;32m/usr/local/lib/python3.7/dist-packages/requests/adapters.py\u001b[0m in \u001b[0;36msend\u001b[0;34m(self, request, stream, timeout, verify, cert, proxies)\u001b[0m\n\u001b[1;32m    496\u001b[0m \u001b[0;34m\u001b[0m\u001b[0m\n\u001b[1;32m    497\u001b[0m         \u001b[0;32mexcept\u001b[0m \u001b[0;34m(\u001b[0m\u001b[0mProtocolError\u001b[0m\u001b[0;34m,\u001b[0m \u001b[0msocket\u001b[0m\u001b[0;34m.\u001b[0m\u001b[0merror\u001b[0m\u001b[0;34m)\u001b[0m \u001b[0;32mas\u001b[0m \u001b[0merr\u001b[0m\u001b[0;34m:\u001b[0m\u001b[0;34m\u001b[0m\u001b[0;34m\u001b[0m\u001b[0m\n\u001b[0;32m--> 498\u001b[0;31m             \u001b[0;32mraise\u001b[0m \u001b[0mConnectionError\u001b[0m\u001b[0;34m(\u001b[0m\u001b[0merr\u001b[0m\u001b[0;34m,\u001b[0m \u001b[0mrequest\u001b[0m\u001b[0;34m=\u001b[0m\u001b[0mrequest\u001b[0m\u001b[0;34m)\u001b[0m\u001b[0;34m\u001b[0m\u001b[0;34m\u001b[0m\u001b[0m\n\u001b[0m\u001b[1;32m    499\u001b[0m \u001b[0;34m\u001b[0m\u001b[0m\n\u001b[1;32m    500\u001b[0m         \u001b[0;32mexcept\u001b[0m \u001b[0mMaxRetryError\u001b[0m \u001b[0;32mas\u001b[0m \u001b[0me\u001b[0m\u001b[0;34m:\u001b[0m\u001b[0;34m\u001b[0m\u001b[0;34m\u001b[0m\u001b[0m\n",
            "\u001b[0;31mConnectionError\u001b[0m: ('Connection aborted.', ConnectionResetError(104, 'Connection reset by peer'))"
          ]
        }
      ]
    },
    {
      "cell_type": "code",
      "metadata": {
        "id": "KLczTxh61b4r"
      },
      "source": [
        "# scoring_payload = {\"input_data\": [{\"values\": [[0.25, 0.38, 0.38, 94.6, 1.0, 0.556294925, 38.86811018]]}]}\n",
        "# predictions = client.deployments.score(\"e05e70b3-b5bc-45be-8818-c5da81fdd24c\", scoring_payload)"
      ],
      "execution_count": null,
      "outputs": []
    },
    {
      "cell_type": "code",
      "metadata": {
        "id": "dpmi5KpQPG4x"
      },
      "source": [
        "# predictions"
      ],
      "execution_count": null,
      "outputs": []
    }
  ]
}